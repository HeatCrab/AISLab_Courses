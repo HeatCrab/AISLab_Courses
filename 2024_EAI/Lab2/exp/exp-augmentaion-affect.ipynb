{
 "cells": [
  {
   "cell_type": "code",
   "execution_count": 1,
   "id": "78f13f69",
   "metadata": {
    "execution": {
     "iopub.execute_input": "2025-07-12T12:53:14.768972Z",
     "iopub.status.busy": "2025-07-12T12:53:14.768239Z",
     "iopub.status.idle": "2025-07-12T12:54:30.283872Z",
     "shell.execute_reply": "2025-07-12T12:54:30.283083Z"
    },
    "id": "3a_T1sve46zm",
    "outputId": "31fcc0ef-781a-498f-a6a5-1c56eaeb9f1d",
    "papermill": {
     "duration": 75.522703,
     "end_time": "2025-07-12T12:54:30.285281",
     "exception": false,
     "start_time": "2025-07-12T12:53:14.762578",
     "status": "completed"
    },
    "tags": []
   },
   "outputs": [
    {
     "name": "stdout",
     "output_type": "stream",
     "text": [
      "Collecting thop\r\n",
      "  Downloading thop-0.1.1.post2209072238-py3-none-any.whl.metadata (2.7 kB)\r\n",
      "Requirement already satisfied: torch in /usr/local/lib/python3.11/dist-packages (from thop) (2.6.0+cu124)\r\n",
      "Requirement already satisfied: filelock in /usr/local/lib/python3.11/dist-packages (from torch->thop) (3.18.0)\r\n",
      "Requirement already satisfied: typing-extensions>=4.10.0 in /usr/local/lib/python3.11/dist-packages (from torch->thop) (4.14.0)\r\n",
      "Requirement already satisfied: networkx in /usr/local/lib/python3.11/dist-packages (from torch->thop) (3.5)\r\n",
      "Requirement already satisfied: jinja2 in /usr/local/lib/python3.11/dist-packages (from torch->thop) (3.1.6)\r\n",
      "Requirement already satisfied: fsspec in /usr/local/lib/python3.11/dist-packages (from torch->thop) (2025.5.1)\r\n",
      "Collecting nvidia-cuda-nvrtc-cu12==12.4.127 (from torch->thop)\r\n",
      "  Downloading nvidia_cuda_nvrtc_cu12-12.4.127-py3-none-manylinux2014_x86_64.whl.metadata (1.5 kB)\r\n",
      "Collecting nvidia-cuda-runtime-cu12==12.4.127 (from torch->thop)\r\n",
      "  Downloading nvidia_cuda_runtime_cu12-12.4.127-py3-none-manylinux2014_x86_64.whl.metadata (1.5 kB)\r\n",
      "Collecting nvidia-cuda-cupti-cu12==12.4.127 (from torch->thop)\r\n",
      "  Downloading nvidia_cuda_cupti_cu12-12.4.127-py3-none-manylinux2014_x86_64.whl.metadata (1.6 kB)\r\n",
      "Collecting nvidia-cudnn-cu12==9.1.0.70 (from torch->thop)\r\n",
      "  Downloading nvidia_cudnn_cu12-9.1.0.70-py3-none-manylinux2014_x86_64.whl.metadata (1.6 kB)\r\n",
      "Collecting nvidia-cublas-cu12==12.4.5.8 (from torch->thop)\r\n",
      "  Downloading nvidia_cublas_cu12-12.4.5.8-py3-none-manylinux2014_x86_64.whl.metadata (1.5 kB)\r\n",
      "Collecting nvidia-cufft-cu12==11.2.1.3 (from torch->thop)\r\n",
      "  Downloading nvidia_cufft_cu12-11.2.1.3-py3-none-manylinux2014_x86_64.whl.metadata (1.5 kB)\r\n",
      "Collecting nvidia-curand-cu12==10.3.5.147 (from torch->thop)\r\n",
      "  Downloading nvidia_curand_cu12-10.3.5.147-py3-none-manylinux2014_x86_64.whl.metadata (1.5 kB)\r\n",
      "Collecting nvidia-cusolver-cu12==11.6.1.9 (from torch->thop)\r\n",
      "  Downloading nvidia_cusolver_cu12-11.6.1.9-py3-none-manylinux2014_x86_64.whl.metadata (1.6 kB)\r\n",
      "Collecting nvidia-cusparse-cu12==12.3.1.170 (from torch->thop)\r\n",
      "  Downloading nvidia_cusparse_cu12-12.3.1.170-py3-none-manylinux2014_x86_64.whl.metadata (1.6 kB)\r\n",
      "Requirement already satisfied: nvidia-cusparselt-cu12==0.6.2 in /usr/local/lib/python3.11/dist-packages (from torch->thop) (0.6.2)\r\n",
      "Requirement already satisfied: nvidia-nccl-cu12==2.21.5 in /usr/local/lib/python3.11/dist-packages (from torch->thop) (2.21.5)\r\n",
      "Requirement already satisfied: nvidia-nvtx-cu12==12.4.127 in /usr/local/lib/python3.11/dist-packages (from torch->thop) (12.4.127)\r\n",
      "Collecting nvidia-nvjitlink-cu12==12.4.127 (from torch->thop)\r\n",
      "  Downloading nvidia_nvjitlink_cu12-12.4.127-py3-none-manylinux2014_x86_64.whl.metadata (1.5 kB)\r\n",
      "Requirement already satisfied: triton==3.2.0 in /usr/local/lib/python3.11/dist-packages (from torch->thop) (3.2.0)\r\n",
      "Requirement already satisfied: sympy==1.13.1 in /usr/local/lib/python3.11/dist-packages (from torch->thop) (1.13.1)\r\n",
      "Requirement already satisfied: mpmath<1.4,>=1.1.0 in /usr/local/lib/python3.11/dist-packages (from sympy==1.13.1->torch->thop) (1.3.0)\r\n",
      "Requirement already satisfied: MarkupSafe>=2.0 in /usr/local/lib/python3.11/dist-packages (from jinja2->torch->thop) (3.0.2)\r\n",
      "Downloading thop-0.1.1.post2209072238-py3-none-any.whl (15 kB)\r\n",
      "Downloading nvidia_cublas_cu12-12.4.5.8-py3-none-manylinux2014_x86_64.whl (363.4 MB)\r\n",
      "\u001b[2K   \u001b[90m━━━━━━━━━━━━━━━━━━━━━━━━━━━━━━━━━━━━━━━━\u001b[0m \u001b[32m363.4/363.4 MB\u001b[0m \u001b[31m4.8 MB/s\u001b[0m eta \u001b[36m0:00:00\u001b[0m\r\n",
      "\u001b[?25hDownloading nvidia_cuda_cupti_cu12-12.4.127-py3-none-manylinux2014_x86_64.whl (13.8 MB)\r\n",
      "\u001b[2K   \u001b[90m━━━━━━━━━━━━━━━━━━━━━━━━━━━━━━━━━━━━━━━━\u001b[0m \u001b[32m13.8/13.8 MB\u001b[0m \u001b[31m87.8 MB/s\u001b[0m eta \u001b[36m0:00:00\u001b[0m\r\n",
      "\u001b[?25hDownloading nvidia_cuda_nvrtc_cu12-12.4.127-py3-none-manylinux2014_x86_64.whl (24.6 MB)\r\n",
      "\u001b[2K   \u001b[90m━━━━━━━━━━━━━━━━━━━━━━━━━━━━━━━━━━━━━━━━\u001b[0m \u001b[32m24.6/24.6 MB\u001b[0m \u001b[31m65.4 MB/s\u001b[0m eta \u001b[36m0:00:00\u001b[0m\r\n",
      "\u001b[?25hDownloading nvidia_cuda_runtime_cu12-12.4.127-py3-none-manylinux2014_x86_64.whl (883 kB)\r\n",
      "\u001b[2K   \u001b[90m━━━━━━━━━━━━━━━━━━━━━━━━━━━━━━━━━━━━━━━━\u001b[0m \u001b[32m883.7/883.7 kB\u001b[0m \u001b[31m45.9 MB/s\u001b[0m eta \u001b[36m0:00:00\u001b[0m\r\n",
      "\u001b[?25hDownloading nvidia_cudnn_cu12-9.1.0.70-py3-none-manylinux2014_x86_64.whl (664.8 MB)\r\n",
      "\u001b[2K   \u001b[90m━━━━━━━━━━━━━━━━━━━━━━━━━━━━━━━━━━━━━━━━\u001b[0m \u001b[32m664.8/664.8 MB\u001b[0m \u001b[31m2.6 MB/s\u001b[0m eta \u001b[36m0:00:00\u001b[0m\r\n",
      "\u001b[?25hDownloading nvidia_cufft_cu12-11.2.1.3-py3-none-manylinux2014_x86_64.whl (211.5 MB)\r\n",
      "\u001b[2K   \u001b[90m━━━━━━━━━━━━━━━━━━━━━━━━━━━━━━━━━━━━━━━━\u001b[0m \u001b[32m211.5/211.5 MB\u001b[0m \u001b[31m8.1 MB/s\u001b[0m eta \u001b[36m0:00:00\u001b[0m\r\n",
      "\u001b[?25hDownloading nvidia_curand_cu12-10.3.5.147-py3-none-manylinux2014_x86_64.whl (56.3 MB)\r\n",
      "\u001b[2K   \u001b[90m━━━━━━━━━━━━━━━━━━━━━━━━━━━━━━━━━━━━━━━━\u001b[0m \u001b[32m56.3/56.3 MB\u001b[0m \u001b[31m31.3 MB/s\u001b[0m eta \u001b[36m0:00:00\u001b[0m\r\n",
      "\u001b[?25hDownloading nvidia_cusolver_cu12-11.6.1.9-py3-none-manylinux2014_x86_64.whl (127.9 MB)\r\n",
      "\u001b[2K   \u001b[90m━━━━━━━━━━━━━━━━━━━━━━━━━━━━━━━━━━━━━━━━\u001b[0m \u001b[32m127.9/127.9 MB\u001b[0m \u001b[31m13.3 MB/s\u001b[0m eta \u001b[36m0:00:00\u001b[0m\r\n",
      "\u001b[?25hDownloading nvidia_cusparse_cu12-12.3.1.170-py3-none-manylinux2014_x86_64.whl (207.5 MB)\r\n",
      "\u001b[2K   \u001b[90m━━━━━━━━━━━━━━━━━━━━━━━━━━━━━━━━━━━━━━━━\u001b[0m \u001b[32m207.5/207.5 MB\u001b[0m \u001b[31m8.2 MB/s\u001b[0m eta \u001b[36m0:00:00\u001b[0m\r\n",
      "\u001b[?25hDownloading nvidia_nvjitlink_cu12-12.4.127-py3-none-manylinux2014_x86_64.whl (21.1 MB)\r\n",
      "\u001b[2K   \u001b[90m━━━━━━━━━━━━━━━━━━━━━━━━━━━━━━━━━━━━━━━━\u001b[0m \u001b[32m21.1/21.1 MB\u001b[0m \u001b[31m74.3 MB/s\u001b[0m eta \u001b[36m0:00:00\u001b[0m\r\n",
      "\u001b[?25hInstalling collected packages: nvidia-nvjitlink-cu12, nvidia-curand-cu12, nvidia-cufft-cu12, nvidia-cuda-runtime-cu12, nvidia-cuda-nvrtc-cu12, nvidia-cuda-cupti-cu12, nvidia-cublas-cu12, nvidia-cusparse-cu12, nvidia-cudnn-cu12, nvidia-cusolver-cu12, thop\r\n",
      "  Attempting uninstall: nvidia-nvjitlink-cu12\r\n",
      "    Found existing installation: nvidia-nvjitlink-cu12 12.5.82\r\n",
      "    Uninstalling nvidia-nvjitlink-cu12-12.5.82:\r\n",
      "      Successfully uninstalled nvidia-nvjitlink-cu12-12.5.82\r\n",
      "  Attempting uninstall: nvidia-curand-cu12\r\n",
      "    Found existing installation: nvidia-curand-cu12 10.3.6.82\r\n",
      "    Uninstalling nvidia-curand-cu12-10.3.6.82:\r\n",
      "      Successfully uninstalled nvidia-curand-cu12-10.3.6.82\r\n",
      "  Attempting uninstall: nvidia-cufft-cu12\r\n",
      "    Found existing installation: nvidia-cufft-cu12 11.2.3.61\r\n",
      "    Uninstalling nvidia-cufft-cu12-11.2.3.61:\r\n",
      "      Successfully uninstalled nvidia-cufft-cu12-11.2.3.61\r\n",
      "  Attempting uninstall: nvidia-cuda-runtime-cu12\r\n",
      "    Found existing installation: nvidia-cuda-runtime-cu12 12.5.82\r\n",
      "    Uninstalling nvidia-cuda-runtime-cu12-12.5.82:\r\n",
      "      Successfully uninstalled nvidia-cuda-runtime-cu12-12.5.82\r\n",
      "  Attempting uninstall: nvidia-cuda-nvrtc-cu12\r\n",
      "    Found existing installation: nvidia-cuda-nvrtc-cu12 12.5.82\r\n",
      "    Uninstalling nvidia-cuda-nvrtc-cu12-12.5.82:\r\n",
      "      Successfully uninstalled nvidia-cuda-nvrtc-cu12-12.5.82\r\n",
      "  Attempting uninstall: nvidia-cuda-cupti-cu12\r\n",
      "    Found existing installation: nvidia-cuda-cupti-cu12 12.5.82\r\n",
      "    Uninstalling nvidia-cuda-cupti-cu12-12.5.82:\r\n",
      "      Successfully uninstalled nvidia-cuda-cupti-cu12-12.5.82\r\n",
      "  Attempting uninstall: nvidia-cublas-cu12\r\n",
      "    Found existing installation: nvidia-cublas-cu12 12.5.3.2\r\n",
      "    Uninstalling nvidia-cublas-cu12-12.5.3.2:\r\n",
      "      Successfully uninstalled nvidia-cublas-cu12-12.5.3.2\r\n",
      "  Attempting uninstall: nvidia-cusparse-cu12\r\n",
      "    Found existing installation: nvidia-cusparse-cu12 12.5.1.3\r\n",
      "    Uninstalling nvidia-cusparse-cu12-12.5.1.3:\r\n",
      "      Successfully uninstalled nvidia-cusparse-cu12-12.5.1.3\r\n",
      "  Attempting uninstall: nvidia-cudnn-cu12\r\n",
      "    Found existing installation: nvidia-cudnn-cu12 9.3.0.75\r\n",
      "    Uninstalling nvidia-cudnn-cu12-9.3.0.75:\r\n",
      "      Successfully uninstalled nvidia-cudnn-cu12-9.3.0.75\r\n",
      "  Attempting uninstall: nvidia-cusolver-cu12\r\n",
      "    Found existing installation: nvidia-cusolver-cu12 11.6.3.83\r\n",
      "    Uninstalling nvidia-cusolver-cu12-11.6.3.83:\r\n",
      "      Successfully uninstalled nvidia-cusolver-cu12-11.6.3.83\r\n",
      "Successfully installed nvidia-cublas-cu12-12.4.5.8 nvidia-cuda-cupti-cu12-12.4.127 nvidia-cuda-nvrtc-cu12-12.4.127 nvidia-cuda-runtime-cu12-12.4.127 nvidia-cudnn-cu12-9.1.0.70 nvidia-cufft-cu12-11.2.1.3 nvidia-curand-cu12-10.3.5.147 nvidia-cusolver-cu12-11.6.1.9 nvidia-cusparse-cu12-12.3.1.170 nvidia-nvjitlink-cu12-12.4.127 thop-0.1.1.post2209072238\r\n",
      "Requirement already satisfied: torchsummary in /usr/local/lib/python3.11/dist-packages (1.5.1)\r\n"
     ]
    }
   ],
   "source": [
    "! pip install thop\n",
    "! pip install torchsummary"
   ]
  },
  {
   "cell_type": "code",
   "execution_count": 2,
   "id": "951096d5",
   "metadata": {
    "execution": {
     "iopub.execute_input": "2025-07-12T12:54:30.326327Z",
     "iopub.status.busy": "2025-07-12T12:54:30.326079Z",
     "iopub.status.idle": "2025-07-12T12:54:53.286546Z",
     "shell.execute_reply": "2025-07-12T12:54:53.285794Z"
    },
    "id": "uTY8C-LBhDTX",
    "papermill": {
     "duration": 22.982355,
     "end_time": "2025-07-12T12:54:53.288068",
     "exception": false,
     "start_time": "2025-07-12T12:54:30.305713",
     "status": "completed"
    },
    "tags": []
   },
   "outputs": [
    {
     "name": "stderr",
     "output_type": "stream",
     "text": [
      "2025-07-12 12:54:40.478036: E external/local_xla/xla/stream_executor/cuda/cuda_fft.cc:477] Unable to register cuFFT factory: Attempting to register factory for plugin cuFFT when one has already been registered\n",
      "WARNING: All log messages before absl::InitializeLog() is called are written to STDERR\n",
      "E0000 00:00:1752324880.639122      19 cuda_dnn.cc:8310] Unable to register cuDNN factory: Attempting to register factory for plugin cuDNN when one has already been registered\n",
      "E0000 00:00:1752324880.685120      19 cuda_blas.cc:1418] Unable to register cuBLAS factory: Attempting to register factory for plugin cuBLAS when one has already been registered\n"
     ]
    }
   ],
   "source": [
    "import torch\n",
    "import torch.nn as nn\n",
    "import torch.nn.functional as F\n",
    "import torch.optim as optim\n",
    "import torchvision\n",
    "import torchvision.transforms as transforms\n",
    "import argparse\n",
    "import os\n",
    "import numpy as np\n",
    "from torch.utils.data import random_split\n",
    "from torch.utils.tensorboard import SummaryWriter"
   ]
  },
  {
   "cell_type": "code",
   "execution_count": 3,
   "id": "562411f5",
   "metadata": {
    "execution": {
     "iopub.execute_input": "2025-07-12T12:54:53.329497Z",
     "iopub.status.busy": "2025-07-12T12:54:53.329009Z",
     "iopub.status.idle": "2025-07-12T12:54:53.334001Z",
     "shell.execute_reply": "2025-07-12T12:54:53.333225Z"
    },
    "id": "io7k6zHGb1OJ",
    "papermill": {
     "duration": 0.026108,
     "end_time": "2025-07-12T12:54:53.335096",
     "exception": false,
     "start_time": "2025-07-12T12:54:53.308988",
     "status": "completed"
    },
    "tags": []
   },
   "outputs": [],
   "source": [
    "# Create SummaryWriter\n",
    "writer = SummaryWriter(\"../tensorboard\")"
   ]
  },
  {
   "cell_type": "code",
   "execution_count": 4,
   "id": "4a07415e",
   "metadata": {
    "execution": {
     "iopub.execute_input": "2025-07-12T12:54:53.374582Z",
     "iopub.status.busy": "2025-07-12T12:54:53.374091Z",
     "iopub.status.idle": "2025-07-12T12:54:53.457097Z",
     "shell.execute_reply": "2025-07-12T12:54:53.456246Z"
    },
    "id": "oqc_D_uEhc1O",
    "outputId": "4ac3d5f8-a008-47bf-819b-e168d3f3295f",
    "papermill": {
     "duration": 0.104064,
     "end_time": "2025-07-12T12:54:53.458339",
     "exception": false,
     "start_time": "2025-07-12T12:54:53.354275",
     "status": "completed"
    },
    "tags": []
   },
   "outputs": [
    {
     "name": "stdout",
     "output_type": "stream",
     "text": [
      "True\n"
     ]
    }
   ],
   "source": [
    "#檢查是否可用gpu\n",
    "print(torch.cuda.is_available())"
   ]
  },
  {
   "cell_type": "code",
   "execution_count": 5,
   "id": "5420626d",
   "metadata": {
    "execution": {
     "iopub.execute_input": "2025-07-12T12:54:53.498192Z",
     "iopub.status.busy": "2025-07-12T12:54:53.497966Z",
     "iopub.status.idle": "2025-07-12T12:55:03.334123Z",
     "shell.execute_reply": "2025-07-12T12:55:03.333171Z"
    },
    "id": "3LzusjVfhxJ3",
    "outputId": "7bd1f5fa-b17c-441f-842a-4e697a9e5ad6",
    "papermill": {
     "duration": 9.857323,
     "end_time": "2025-07-12T12:55:03.335489",
     "exception": false,
     "start_time": "2025-07-12T12:54:53.478166",
     "status": "completed"
    },
    "tags": []
   },
   "outputs": [
    {
     "name": "stderr",
     "output_type": "stream",
     "text": [
      "100%|██████████| 170M/170M [00:01<00:00, 96.2MB/s]\n"
     ]
    },
    {
     "name": "stdout",
     "output_type": "stream",
     "text": [
      "[0.49210092 0.4829062  0.44563133] [0.24697709 0.24331959 0.26141095]\n",
      "[0.49210092 0.4829062  0.44563133] [0.24697709 0.24331959 0.26141095]\n"
     ]
    }
   ],
   "source": [
    "# 計算normalization需要的 mean & std\n",
    "def get_mean_std(dataset, ratio=0.3):\n",
    "    # Get mean and std by sample ratio\n",
    "    dataloader = torch.utils.data.DataLoader(dataset, batch_size=int(len(dataset)*ratio), shuffle=True, num_workers=2)\n",
    "\n",
    "    data = next(iter(dataloader))[0]     # get the first iteration data\n",
    "    mean = np.mean(data.numpy(), axis=(0,2,3))\n",
    "    std = np.std(data.numpy(), axis=(0,2,3))\n",
    "    return mean, std\n",
    "\n",
    "train_dataset = torchvision.datasets.CIFAR10(root='./data', train=True, download=True, transform=transforms.ToTensor())\n",
    "test_dataset = torchvision.datasets.CIFAR10(root='./data', train=False, download=True, transform=transforms.ToTensor())\n",
    "\n",
    "train_mean, train_std = get_mean_std(train_dataset)\n",
    "test_mean, test_std = train_mean, train_std\n",
    "print(train_mean, train_std)\n",
    "print(test_mean, test_std)"
   ]
  },
  {
   "cell_type": "code",
   "execution_count": 6,
   "id": "7f27d3ba",
   "metadata": {
    "execution": {
     "iopub.execute_input": "2025-07-12T12:55:03.377941Z",
     "iopub.status.busy": "2025-07-12T12:55:03.377629Z",
     "iopub.status.idle": "2025-07-12T12:55:03.381883Z",
     "shell.execute_reply": "2025-07-12T12:55:03.381323Z"
    },
    "papermill": {
     "duration": 0.026758,
     "end_time": "2025-07-12T12:55:03.383035",
     "exception": false,
     "start_time": "2025-07-12T12:55:03.356277",
     "status": "completed"
    },
    "tags": []
   },
   "outputs": [],
   "source": [
    "##### setting parameter #####\n",
    "EPOCH = 50\n",
    "lr = 0.001\n",
    "device = torch.device(\"cuda\" if torch.cuda.is_available() else \"cpu\")"
   ]
  },
  {
   "cell_type": "code",
   "execution_count": 7,
   "id": "7aabe19a",
   "metadata": {
    "execution": {
     "iopub.execute_input": "2025-07-12T12:55:03.470080Z",
     "iopub.status.busy": "2025-07-12T12:55:03.469837Z",
     "iopub.status.idle": "2025-07-12T12:55:04.115733Z",
     "shell.execute_reply": "2025-07-12T12:55:04.114629Z"
    },
    "papermill": {
     "duration": 0.668557,
     "end_time": "2025-07-12T12:55:04.117199",
     "exception": false,
     "start_time": "2025-07-12T12:55:03.448642",
     "status": "completed"
    },
    "tags": []
   },
   "outputs": [
    {
     "name": "stdout",
     "output_type": "stream",
     "text": [
      "----------------------------------------------------------------\n",
      "        Layer (type)               Output Shape         Param #\n",
      "================================================================\n",
      "            Conv2d-1           [-1, 64, 32, 32]           1,728\n",
      "       BatchNorm2d-2           [-1, 64, 32, 32]             128\n",
      "              ReLU-3           [-1, 64, 32, 32]               0\n",
      "            Conv2d-4           [-1, 64, 32, 32]          36,864\n",
      "       BatchNorm2d-5           [-1, 64, 32, 32]             128\n",
      "              ReLU-6           [-1, 64, 32, 32]               0\n",
      "            Conv2d-7           [-1, 64, 32, 32]          36,864\n",
      "       BatchNorm2d-8           [-1, 64, 32, 32]             128\n",
      "          ResBlock-9           [-1, 64, 32, 32]               0\n",
      "           Conv2d-10           [-1, 64, 32, 32]          36,864\n",
      "      BatchNorm2d-11           [-1, 64, 32, 32]             128\n",
      "             ReLU-12           [-1, 64, 32, 32]               0\n",
      "           Conv2d-13           [-1, 64, 32, 32]          36,864\n",
      "      BatchNorm2d-14           [-1, 64, 32, 32]             128\n",
      "         ResBlock-15           [-1, 64, 32, 32]               0\n",
      "           Conv2d-16          [-1, 128, 16, 16]          73,728\n",
      "      BatchNorm2d-17          [-1, 128, 16, 16]             256\n",
      "             ReLU-18          [-1, 128, 16, 16]               0\n",
      "           Conv2d-19          [-1, 128, 16, 16]         147,456\n",
      "      BatchNorm2d-20          [-1, 128, 16, 16]             256\n",
      "           Conv2d-21          [-1, 128, 16, 16]           8,192\n",
      "      BatchNorm2d-22          [-1, 128, 16, 16]             256\n",
      "         ResBlock-23          [-1, 128, 16, 16]               0\n",
      "           Conv2d-24          [-1, 128, 16, 16]         147,456\n",
      "      BatchNorm2d-25          [-1, 128, 16, 16]             256\n",
      "             ReLU-26          [-1, 128, 16, 16]               0\n",
      "           Conv2d-27          [-1, 128, 16, 16]         147,456\n",
      "      BatchNorm2d-28          [-1, 128, 16, 16]             256\n",
      "         ResBlock-29          [-1, 128, 16, 16]               0\n",
      "           Conv2d-30            [-1, 256, 8, 8]         294,912\n",
      "      BatchNorm2d-31            [-1, 256, 8, 8]             512\n",
      "             ReLU-32            [-1, 256, 8, 8]               0\n",
      "           Conv2d-33            [-1, 256, 8, 8]         589,824\n",
      "      BatchNorm2d-34            [-1, 256, 8, 8]             512\n",
      "           Conv2d-35            [-1, 256, 8, 8]          32,768\n",
      "      BatchNorm2d-36            [-1, 256, 8, 8]             512\n",
      "         ResBlock-37            [-1, 256, 8, 8]               0\n",
      "           Conv2d-38            [-1, 256, 8, 8]         589,824\n",
      "      BatchNorm2d-39            [-1, 256, 8, 8]             512\n",
      "             ReLU-40            [-1, 256, 8, 8]               0\n",
      "           Conv2d-41            [-1, 256, 8, 8]         589,824\n",
      "      BatchNorm2d-42            [-1, 256, 8, 8]             512\n",
      "         ResBlock-43            [-1, 256, 8, 8]               0\n",
      "           Conv2d-44            [-1, 512, 4, 4]       1,179,648\n",
      "      BatchNorm2d-45            [-1, 512, 4, 4]           1,024\n",
      "             ReLU-46            [-1, 512, 4, 4]               0\n",
      "           Conv2d-47            [-1, 512, 4, 4]       2,359,296\n",
      "      BatchNorm2d-48            [-1, 512, 4, 4]           1,024\n",
      "           Conv2d-49            [-1, 512, 4, 4]         131,072\n",
      "      BatchNorm2d-50            [-1, 512, 4, 4]           1,024\n",
      "         ResBlock-51            [-1, 512, 4, 4]               0\n",
      "           Conv2d-52            [-1, 512, 4, 4]       2,359,296\n",
      "      BatchNorm2d-53            [-1, 512, 4, 4]           1,024\n",
      "             ReLU-54            [-1, 512, 4, 4]               0\n",
      "           Conv2d-55            [-1, 512, 4, 4]       2,359,296\n",
      "      BatchNorm2d-56            [-1, 512, 4, 4]           1,024\n",
      "         ResBlock-57            [-1, 512, 4, 4]               0\n",
      "           Linear-58                   [-1, 10]           5,130\n",
      "================================================================\n",
      "Total params: 11,173,962\n",
      "Trainable params: 11,173,962\n",
      "Non-trainable params: 0\n",
      "----------------------------------------------------------------\n",
      "Input size (MB): 0.01\n",
      "Forward/backward pass size (MB): 13.63\n",
      "Params size (MB): 42.63\n",
      "Estimated Total Size (MB): 56.26\n",
      "----------------------------------------------------------------\n",
      "[INFO] Register count_convNd() for <class 'torch.nn.modules.conv.Conv2d'>.\n",
      "[INFO] Register count_normalization() for <class 'torch.nn.modules.batchnorm.BatchNorm2d'>.\n",
      "[INFO] Register zero_ops() for <class 'torch.nn.modules.activation.ReLU'>.\n",
      "[INFO] Register zero_ops() for <class 'torch.nn.modules.container.Sequential'>.\n",
      "[INFO] Register count_linear() for <class 'torch.nn.modules.linear.Linear'>.\n",
      "FLOPs: 557880320.0\n",
      "Params: 11173962.0\n"
     ]
    }
   ],
   "source": [
    "from thop import profile\n",
    "from torchsummary import summary\n",
    "import sys\n",
    "sys.path.append('/kaggle/input/resnet/pytorch/default/1')\n",
    "from resnet18 import *\n",
    "##### 使用 thop 計算 FLOPs 和參數數量 #####\n",
    "# 宣告model\n",
    "model = ResNet(ResBlock).to(device)\n",
    "summary(model, (3, 32, 32))\n",
    "\n",
    "input = torch.randn(1, 3, 32, 32).to(device)\n",
    "flops, params = profile(model, inputs=(input, ))\n",
    "\n",
    "print(f\"FLOPs: {flops}\")\n",
    "print(f\"Params: {params}\")"
   ]
  },
  {
   "cell_type": "code",
   "execution_count": 8,
   "id": "08a1d8ad",
   "metadata": {
    "execution": {
     "iopub.execute_input": "2025-07-12T12:55:04.160287Z",
     "iopub.status.busy": "2025-07-12T12:55:04.160032Z",
     "iopub.status.idle": "2025-07-12T12:55:04.168045Z",
     "shell.execute_reply": "2025-07-12T12:55:04.167493Z"
    },
    "papermill": {
     "duration": 0.030501,
     "end_time": "2025-07-12T12:55:04.169148",
     "exception": false,
     "start_time": "2025-07-12T12:55:04.138647",
     "status": "completed"
    },
    "tags": []
   },
   "outputs": [],
   "source": [
    "def train_model(model, trainloader, valloader, epochs):\n",
    "    model.to(device)\n",
    "    criterion = nn.CrossEntropyLoss()\n",
    "    optimizer = optim.Adam(model.parameters(), lr=lr, weight_decay=5e-4)\n",
    "    scheduler = optim.lr_scheduler.CosineAnnealingLR(optimizer, T_max=200)\n",
    "    \n",
    "    train_losses, val_losses, train_accs, val_accs = [], [], [], []\n",
    "    \n",
    "    for epoch in range(epochs):\n",
    "        model.train()\n",
    "        running_loss, correct, total = 0.0, 0, 0\n",
    "        \n",
    "        for inputs, labels in trainloader:\n",
    "            inputs, labels = inputs.to(device), labels.to(device)\n",
    "            optimizer.zero_grad()\n",
    "            \n",
    "            outputs = model(inputs)\n",
    "            loss = criterion(outputs, labels)\n",
    "            loss.backward()\n",
    "            optimizer.step()\n",
    "            \n",
    "            running_loss += loss.item()\n",
    "            _, predicted = torch.max(outputs.data, 1)\n",
    "            total += labels.size(0)\n",
    "            correct += (predicted == labels).sum().item()\n",
    "        \n",
    "        train_losses.append(running_loss / len(trainloader))\n",
    "        train_accs.append(100 * correct / total)\n",
    "        \n",
    "        model.eval()\n",
    "        val_loss, correct, total = 0.0, 0, 0\n",
    "        \n",
    "        with torch.no_grad():\n",
    "            for inputs, labels in valloader:\n",
    "                inputs, labels = inputs.to(device), labels.to(device)\n",
    "                outputs = model(inputs)\n",
    "                loss = criterion(outputs, labels)\n",
    "                val_loss += loss.item()\n",
    "                _, predicted = torch.max(outputs.data, 1)\n",
    "                total += labels.size(0)\n",
    "                correct += (predicted == labels).sum().item()\n",
    "        \n",
    "        val_losses.append(val_loss / len(valloader))\n",
    "        val_accs.append(100 * correct / total)\n",
    "        \n",
    "        print(f\"Epoch {epoch+1}: Train Loss {train_losses[-1]:.2f}, Val Loss {val_losses[-1]:.2f}, Train Acc {train_accs[-1]:.2f}%, Val Acc {val_accs[-1]:.2f}%\")\n",
    "\n",
    "        scheduler.step()\n",
    "        \n",
    "    return train_losses, val_losses, train_accs, val_accs"
   ]
  },
  {
   "cell_type": "code",
   "execution_count": 9,
   "id": "49b6d445",
   "metadata": {
    "execution": {
     "iopub.execute_input": "2025-07-12T12:55:04.211300Z",
     "iopub.status.busy": "2025-07-12T12:55:04.211094Z",
     "iopub.status.idle": "2025-07-12T12:55:04.215240Z",
     "shell.execute_reply": "2025-07-12T12:55:04.214728Z"
    },
    "papermill": {
     "duration": 0.026556,
     "end_time": "2025-07-12T12:55:04.216273",
     "exception": false,
     "start_time": "2025-07-12T12:55:04.189717",
     "status": "completed"
    },
    "tags": []
   },
   "outputs": [],
   "source": [
    "def test_model(model, testloader):\n",
    "    model.eval()\n",
    "    correct, total = 0, 0\n",
    "    with torch.no_grad():\n",
    "        for inputs, labels in testloader:\n",
    "            inputs, labels = inputs.to(device), labels.to(device)\n",
    "            outputs = model(inputs)\n",
    "            _, predicted = torch.max(outputs.data, 1)\n",
    "            total += labels.size(0)\n",
    "            correct += (predicted == labels).sum().item()\n",
    "    return 100 * correct / total"
   ]
  },
  {
   "cell_type": "code",
   "execution_count": 10,
   "id": "ede1c2f0",
   "metadata": {
    "execution": {
     "iopub.execute_input": "2025-07-12T12:55:04.257740Z",
     "iopub.status.busy": "2025-07-12T12:55:04.257493Z",
     "iopub.status.idle": "2025-07-12T12:55:04.261225Z",
     "shell.execute_reply": "2025-07-12T12:55:04.260670Z"
    },
    "id": "5NGnL4rP6ofO",
    "papermill": {
     "duration": 0.025576,
     "end_time": "2025-07-12T12:55:04.262251",
     "exception": false,
     "start_time": "2025-07-12T12:55:04.236675",
     "status": "completed"
    },
    "tags": []
   },
   "outputs": [],
   "source": [
    "##### data normalization #####\n",
    "transform_train = transforms.Compose([\n",
    "    transforms.ToTensor(),\n",
    "    # data normalization    # standardization: (image - train_mean) / train_std\n",
    "    transforms.Normalize(mean=train_mean, std=train_std),\n",
    "])\n",
    "\n",
    "transform_test = transforms.Compose([\n",
    "    transforms.ToTensor(),\n",
    "    # data normalization    # standardization: (image - train_mean) / train_std\n",
    "    transforms.Normalize(mean=test_mean, std=test_std),\n",
    "])"
   ]
  },
  {
   "cell_type": "markdown",
   "id": "74026807",
   "metadata": {
    "papermill": {
     "duration": 0.020057,
     "end_time": "2025-07-12T12:55:04.302442",
     "exception": false,
     "start_time": "2025-07-12T12:55:04.282385",
     "status": "completed"
    },
    "tags": []
   },
   "source": [
    "### **Without augmentation**"
   ]
  },
  {
   "cell_type": "code",
   "execution_count": 11,
   "id": "0bb52707",
   "metadata": {
    "execution": {
     "iopub.execute_input": "2025-07-12T12:55:04.343676Z",
     "iopub.status.busy": "2025-07-12T12:55:04.343290Z",
     "iopub.status.idle": "2025-07-12T12:55:04.346710Z",
     "shell.execute_reply": "2025-07-12T12:55:04.346145Z"
    },
    "papermill": {
     "duration": 0.025208,
     "end_time": "2025-07-12T12:55:04.347757",
     "exception": false,
     "start_time": "2025-07-12T12:55:04.322549",
     "status": "completed"
    },
    "tags": []
   },
   "outputs": [],
   "source": [
    "transform_without_aug = transforms.Compose([\n",
    "    transforms.ToTensor(),\n",
    "    # data normalization    # standardization: (image - train_mean) / train_std\n",
    "    transforms.Normalize(mean=train_mean, std=train_std),\n",
    "])"
   ]
  },
  {
   "cell_type": "code",
   "execution_count": 12,
   "id": "16882689",
   "metadata": {
    "execution": {
     "iopub.execute_input": "2025-07-12T12:55:04.389280Z",
     "iopub.status.busy": "2025-07-12T12:55:04.389099Z",
     "iopub.status.idle": "2025-07-12T12:55:06.029368Z",
     "shell.execute_reply": "2025-07-12T12:55:06.028360Z"
    },
    "id": "oaJyYUXj6rNW",
    "outputId": "4bafd9ae-ce2d-43ca-e04a-30d1f272c38e",
    "papermill": {
     "duration": 1.662637,
     "end_time": "2025-07-12T12:55:06.030779",
     "exception": false,
     "start_time": "2025-07-12T12:55:04.368142",
     "status": "completed"
    },
    "tags": []
   },
   "outputs": [
    {
     "name": "stdout",
     "output_type": "stream",
     "text": [
      "train_without_aug length:  45000\n",
      "val_without_aug length:  5000\n",
      "test_without_aug length:  10000\n"
     ]
    }
   ],
   "source": [
    "# dataset\n",
    "trainset_without_aug = torchvision.datasets.CIFAR10(root='./data', train=True, download=True, transform=transform_without_aug)\n",
    "test_ds_without_aug = torchvision.datasets.CIFAR10(root='./data', train=False, download=True, transform=transform_test)\n",
    "\n",
    "# Cifar-10的標籤: ('plane', 'car', 'bird', 'cat', 'deer', 'dog', 'frog', 'horse', 'ship', 'truck')\n",
    "\n",
    "# split validation dataset\n",
    "torch.manual_seed(43)     # 確保每次獲得相同的驗證集\n",
    "val_size = 5000       # 取5000張驗證集(0.1 of trainset)\n",
    "train_size = len(trainset_without_aug) - val_size\n",
    "train_ds_without_aug, val_ds_without_aug = random_split(trainset_without_aug, [train_size, val_size])\n",
    "print(\"train_without_aug length: \", len(train_ds_without_aug))\n",
    "print(\"val_without_aug length: \", len(val_ds_without_aug))\n",
    "print(\"test_without_aug length: \", len(test_ds_without_aug))\n",
    "\n",
    "# 宣告 batch size\n",
    "BATCH_SIZE = 128\n",
    "trainloader_without_aug = torch.utils.data.DataLoader(train_ds_without_aug, batch_size=BATCH_SIZE, shuffle=True, num_workers=2)\n",
    "valloader_without_aug = torch.utils.data.DataLoader(val_ds_without_aug, batch_size=BATCH_SIZE, shuffle=False, num_workers=2)\n",
    "testloader_without_aug = torch.utils.data.DataLoader(test_ds_without_aug, batch_size=BATCH_SIZE, shuffle=False, num_workers=2)"
   ]
  },
  {
   "cell_type": "code",
   "execution_count": 13,
   "id": "e5cdb21c",
   "metadata": {
    "execution": {
     "iopub.execute_input": "2025-07-12T12:55:06.074122Z",
     "iopub.status.busy": "2025-07-12T12:55:06.073555Z",
     "iopub.status.idle": "2025-07-12T13:29:39.210645Z",
     "shell.execute_reply": "2025-07-12T13:29:39.209555Z"
    },
    "papermill": {
     "duration": 2073.160153,
     "end_time": "2025-07-12T13:29:39.212206",
     "exception": false,
     "start_time": "2025-07-12T12:55:06.052053",
     "status": "completed"
    },
    "tags": []
   },
   "outputs": [
    {
     "name": "stdout",
     "output_type": "stream",
     "text": [
      "train version 1 without augmentation...\n",
      "Epoch 1: Train Loss 1.36, Val Loss 1.30, Train Acc 49.96%, Val Acc 54.86%\n",
      "Epoch 2: Train Loss 0.91, Val Loss 1.26, Train Acc 67.79%, Val Acc 56.44%\n",
      "Epoch 3: Train Loss 0.72, Val Loss 0.77, Train Acc 75.08%, Val Acc 72.76%\n",
      "Epoch 4: Train Loss 0.62, Val Loss 0.74, Train Acc 78.43%, Val Acc 74.08%\n",
      "Epoch 5: Train Loss 0.54, Val Loss 0.72, Train Acc 81.41%, Val Acc 75.24%\n",
      "Epoch 6: Train Loss 0.47, Val Loss 0.60, Train Acc 83.75%, Val Acc 79.04%\n",
      "Epoch 7: Train Loss 0.42, Val Loss 0.72, Train Acc 85.45%, Val Acc 75.92%\n",
      "Epoch 8: Train Loss 0.38, Val Loss 0.65, Train Acc 86.93%, Val Acc 78.12%\n",
      "Epoch 9: Train Loss 0.33, Val Loss 0.57, Train Acc 88.62%, Val Acc 81.04%\n",
      "Epoch 10: Train Loss 0.29, Val Loss 0.67, Train Acc 89.93%, Val Acc 77.60%\n",
      "Epoch 11: Train Loss 0.26, Val Loss 0.60, Train Acc 91.07%, Val Acc 80.84%\n",
      "Epoch 12: Train Loss 0.23, Val Loss 0.61, Train Acc 92.24%, Val Acc 79.94%\n",
      "Epoch 13: Train Loss 0.21, Val Loss 0.62, Train Acc 92.86%, Val Acc 80.60%\n",
      "Epoch 14: Train Loss 0.19, Val Loss 0.59, Train Acc 93.69%, Val Acc 81.72%\n",
      "Epoch 15: Train Loss 0.17, Val Loss 0.53, Train Acc 94.33%, Val Acc 83.16%\n",
      "Epoch 16: Train Loss 0.16, Val Loss 0.59, Train Acc 94.47%, Val Acc 82.36%\n",
      "Epoch 17: Train Loss 0.15, Val Loss 0.63, Train Acc 95.00%, Val Acc 80.98%\n",
      "Epoch 18: Train Loss 0.14, Val Loss 0.66, Train Acc 95.32%, Val Acc 81.26%\n",
      "Epoch 19: Train Loss 0.13, Val Loss 0.59, Train Acc 95.64%, Val Acc 82.78%\n",
      "Epoch 20: Train Loss 0.12, Val Loss 0.62, Train Acc 95.76%, Val Acc 81.46%\n",
      "Epoch 21: Train Loss 0.12, Val Loss 0.61, Train Acc 95.84%, Val Acc 82.34%\n",
      "Epoch 22: Train Loss 0.12, Val Loss 0.61, Train Acc 95.96%, Val Acc 82.54%\n",
      "Epoch 23: Train Loss 0.11, Val Loss 0.61, Train Acc 96.14%, Val Acc 83.02%\n",
      "Epoch 24: Train Loss 0.11, Val Loss 0.63, Train Acc 96.24%, Val Acc 81.62%\n",
      "Epoch 25: Train Loss 0.10, Val Loss 0.66, Train Acc 96.64%, Val Acc 81.52%\n",
      "Epoch 26: Train Loss 0.10, Val Loss 0.66, Train Acc 96.65%, Val Acc 81.10%\n",
      "Epoch 27: Train Loss 0.10, Val Loss 0.65, Train Acc 96.54%, Val Acc 80.52%\n",
      "Epoch 28: Train Loss 0.10, Val Loss 0.67, Train Acc 96.66%, Val Acc 81.38%\n",
      "Epoch 29: Train Loss 0.10, Val Loss 0.68, Train Acc 96.76%, Val Acc 81.38%\n",
      "Epoch 30: Train Loss 0.10, Val Loss 0.64, Train Acc 96.77%, Val Acc 81.76%\n",
      "Epoch 31: Train Loss 0.10, Val Loss 0.63, Train Acc 96.82%, Val Acc 81.90%\n",
      "Epoch 32: Train Loss 0.10, Val Loss 0.60, Train Acc 96.61%, Val Acc 83.28%\n",
      "Epoch 33: Train Loss 0.09, Val Loss 0.61, Train Acc 96.98%, Val Acc 82.90%\n",
      "Epoch 34: Train Loss 0.08, Val Loss 0.64, Train Acc 97.20%, Val Acc 82.72%\n",
      "Epoch 35: Train Loss 0.08, Val Loss 0.62, Train Acc 97.11%, Val Acc 82.78%\n",
      "Epoch 36: Train Loss 0.08, Val Loss 0.75, Train Acc 97.15%, Val Acc 79.96%\n",
      "Epoch 37: Train Loss 0.09, Val Loss 0.62, Train Acc 97.13%, Val Acc 82.88%\n",
      "Epoch 38: Train Loss 0.07, Val Loss 0.64, Train Acc 97.58%, Val Acc 83.68%\n",
      "Epoch 39: Train Loss 0.08, Val Loss 0.66, Train Acc 97.17%, Val Acc 82.38%\n",
      "Epoch 40: Train Loss 0.08, Val Loss 0.63, Train Acc 97.42%, Val Acc 83.30%\n",
      "Epoch 41: Train Loss 0.08, Val Loss 0.72, Train Acc 97.32%, Val Acc 80.84%\n",
      "Epoch 42: Train Loss 0.09, Val Loss 0.63, Train Acc 97.08%, Val Acc 82.92%\n",
      "Epoch 43: Train Loss 0.07, Val Loss 0.74, Train Acc 97.86%, Val Acc 81.26%\n",
      "Epoch 44: Train Loss 0.08, Val Loss 0.66, Train Acc 97.34%, Val Acc 83.04%\n",
      "Epoch 45: Train Loss 0.08, Val Loss 0.67, Train Acc 97.42%, Val Acc 81.56%\n",
      "Epoch 46: Train Loss 0.07, Val Loss 0.67, Train Acc 97.64%, Val Acc 82.30%\n",
      "Epoch 47: Train Loss 0.07, Val Loss 0.75, Train Acc 97.69%, Val Acc 80.96%\n",
      "Epoch 48: Train Loss 0.07, Val Loss 0.77, Train Acc 97.71%, Val Acc 81.16%\n",
      "Epoch 49: Train Loss 0.07, Val Loss 0.68, Train Acc 97.64%, Val Acc 81.74%\n",
      "Epoch 50: Train Loss 0.07, Val Loss 0.68, Train Acc 97.71%, Val Acc 82.26%\n",
      "Test Accuracy (with norm): 81.44%\n"
     ]
    }
   ],
   "source": [
    "model_without_aug = ResNet(ResBlock)\n",
    "\n",
    "print(\"train version 1 without augmentation...\")\n",
    "\n",
    "train_losses_without_aug, val_losses_without_aug, train_accs_without_aug, val_accs_without_aug = train_model(model_without_aug, trainloader_without_aug, valloader_without_aug, EPOCH)\n",
    "test_acc_norm = test_model(model_without_aug, testloader_without_aug)\n",
    "\n",
    "print(f\"Test Accuracy (with norm): {test_acc_norm:.2f}%\")"
   ]
  },
  {
   "cell_type": "code",
   "execution_count": 14,
   "id": "f9a61942",
   "metadata": {
    "execution": {
     "iopub.execute_input": "2025-07-12T13:29:39.258616Z",
     "iopub.status.busy": "2025-07-12T13:29:39.258360Z",
     "iopub.status.idle": "2025-07-12T13:29:39.586275Z",
     "shell.execute_reply": "2025-07-12T13:29:39.585547Z"
    },
    "id": "boGt8nkQBR5V",
    "papermill": {
     "duration": 0.352113,
     "end_time": "2025-07-12T13:29:39.587528",
     "exception": false,
     "start_time": "2025-07-12T13:29:39.235415",
     "status": "completed"
    },
    "tags": []
   },
   "outputs": [
    {
     "data": {
      "image/png": "[encoded data removed]",
      "text/plain": [
       "<Figure size 1200x400 with 2 Axes>"
      ]
     },
     "metadata": {},
     "output_type": "display_data"
    }
   ],
   "source": [
    "import matplotlib.pyplot as plt\n",
    "\n",
    "##### 繪製 loss 和 accuracy 的圖 #####\n",
    "plt.figure(figsize=(12, 4))\n",
    "\n",
    "plt.subplot(1, 2, 1)\n",
    "plt.plot(train_losses_without_aug, label='Train Loss')\n",
    "plt.plot(val_losses_without_aug, label='Val Loss')\n",
    "plt.xlabel('Epoch')\n",
    "plt.ylabel('Loss')\n",
    "plt.legend()\n",
    "\n",
    "plt.subplot(1, 2, 2)\n",
    "plt.plot(train_accs_without_aug, label='Train Accuracy')\n",
    "plt.plot(val_accs_without_aug, label='Val Accuracy')\n",
    "plt.xlabel('Epoch')\n",
    "plt.ylabel('Accuracy')\n",
    "plt.legend()\n",
    "\n",
    "plt.show()"
   ]
  },
  {
   "cell_type": "markdown",
   "id": "afd611d5",
   "metadata": {
    "papermill": {
     "duration": 0.024064,
     "end_time": "2025-07-12T13:29:39.635093",
     "exception": false,
     "start_time": "2025-07-12T13:29:39.611029",
     "status": "completed"
    },
    "tags": []
   },
   "source": [
    "### **With simple augmentation**"
   ]
  },
  {
   "cell_type": "code",
   "execution_count": 15,
   "id": "8c4a9b89",
   "metadata": {
    "execution": {
     "iopub.execute_input": "2025-07-12T13:29:39.683480Z",
     "iopub.status.busy": "2025-07-12T13:29:39.682859Z",
     "iopub.status.idle": "2025-07-12T13:29:39.686805Z",
     "shell.execute_reply": "2025-07-12T13:29:39.686262Z"
    },
    "papermill": {
     "duration": 0.029159,
     "end_time": "2025-07-12T13:29:39.687899",
     "exception": false,
     "start_time": "2025-07-12T13:29:39.658740",
     "status": "completed"
    },
    "tags": []
   },
   "outputs": [],
   "source": [
    "transform_simple_aug = transforms.Compose([\n",
    "    transforms.ToTensor(),\n",
    "    \n",
    "    # data augmentation\n",
    "    transforms.RandomCrop(32, padding=4),\n",
    "    transforms.RandomHorizontalFlip(), \n",
    "    \n",
    "    # data normalization    # standardization: (image - train_mean) / train_std\n",
    "    transforms.Normalize(mean=train_mean, std=train_std),\n",
    "])"
   ]
  },
  {
   "cell_type": "code",
   "execution_count": 16,
   "id": "1981ae42",
   "metadata": {
    "execution": {
     "iopub.execute_input": "2025-07-12T13:29:39.735836Z",
     "iopub.status.busy": "2025-07-12T13:29:39.735331Z",
     "iopub.status.idle": "2025-07-12T13:29:41.412440Z",
     "shell.execute_reply": "2025-07-12T13:29:41.411476Z"
    },
    "papermill": {
     "duration": 1.702235,
     "end_time": "2025-07-12T13:29:41.413760",
     "exception": false,
     "start_time": "2025-07-12T13:29:39.711525",
     "status": "completed"
    },
    "tags": []
   },
   "outputs": [
    {
     "name": "stdout",
     "output_type": "stream",
     "text": [
      "train_simple_aug length:  45000\n",
      "val_simple_aug length:  5000\n",
      "test_simple_aug length:  10000\n"
     ]
    }
   ],
   "source": [
    "# dataset\n",
    "trainset_simple_aug = torchvision.datasets.CIFAR10(root='./data', train=True, download=True, transform=transform_simple_aug)\n",
    "test_ds_simple_aug = torchvision.datasets.CIFAR10(root='./data', train=False, download=True, transform=transform_test)\n",
    "\n",
    "# Cifar-10的標籤: ('plane', 'car', 'bird', 'cat', 'deer', 'dog', 'frog', 'horse', 'ship', 'truck')\n",
    "\n",
    "train_ds_simple_aug, val_ds_simple_aug = random_split(trainset_simple_aug, [train_size, val_size])\n",
    "print(\"train_simple_aug length: \", len(train_ds_simple_aug))\n",
    "print(\"val_simple_aug length: \", len(val_ds_simple_aug))\n",
    "print(\"test_simple_aug length: \", len(test_ds_simple_aug))\n",
    "\n",
    "# 宣告 batch size\n",
    "BATCH_SIZE = 128\n",
    "trainloader_simple_aug = torch.utils.data.DataLoader(train_ds_simple_aug, batch_size=BATCH_SIZE, shuffle=True, num_workers=2)\n",
    "valloader_simple_aug = torch.utils.data.DataLoader(val_ds_simple_aug, batch_size=BATCH_SIZE, shuffle=False, num_workers=2)\n",
    "testloader_simple_aug = torch.utils.data.DataLoader(test_ds_simple_aug, batch_size=BATCH_SIZE, shuffle=False, num_workers=2)"
   ]
  },
  {
   "cell_type": "code",
   "execution_count": 17,
   "id": "6e4f7142",
   "metadata": {
    "execution": {
     "iopub.execute_input": "2025-07-12T13:29:41.464706Z",
     "iopub.status.busy": "2025-07-12T13:29:41.464464Z",
     "iopub.status.idle": "2025-07-12T14:04:21.372347Z",
     "shell.execute_reply": "2025-07-12T14:04:21.371389Z"
    },
    "papermill": {
     "duration": 2079.933431,
     "end_time": "2025-07-12T14:04:21.373641",
     "exception": false,
     "start_time": "2025-07-12T13:29:41.440210",
     "status": "completed"
    },
    "tags": []
   },
   "outputs": [
    {
     "name": "stdout",
     "output_type": "stream",
     "text": [
      "train version 2 with simple augmentaion...\n",
      "Epoch 1: Train Loss 1.51, Val Loss 1.36, Train Acc 44.41%, Val Acc 49.68%\n",
      "Epoch 2: Train Loss 1.06, Val Loss 1.26, Train Acc 62.23%, Val Acc 56.46%\n",
      "Epoch 3: Train Loss 0.87, Val Loss 1.11, Train Acc 69.29%, Val Acc 61.84%\n",
      "Epoch 4: Train Loss 0.75, Val Loss 0.72, Train Acc 74.23%, Val Acc 75.66%\n",
      "Epoch 5: Train Loss 0.66, Val Loss 0.79, Train Acc 77.20%, Val Acc 72.88%\n",
      "Epoch 6: Train Loss 0.60, Val Loss 0.66, Train Acc 79.68%, Val Acc 78.02%\n",
      "Epoch 7: Train Loss 0.56, Val Loss 0.70, Train Acc 80.88%, Val Acc 77.08%\n",
      "Epoch 8: Train Loss 0.52, Val Loss 0.63, Train Acc 82.23%, Val Acc 78.44%\n",
      "Epoch 9: Train Loss 0.48, Val Loss 0.52, Train Acc 83.44%, Val Acc 81.28%\n",
      "Epoch 10: Train Loss 0.46, Val Loss 0.60, Train Acc 84.46%, Val Acc 79.94%\n",
      "Epoch 11: Train Loss 0.43, Val Loss 0.46, Train Acc 85.33%, Val Acc 84.66%\n",
      "Epoch 12: Train Loss 0.41, Val Loss 0.48, Train Acc 85.85%, Val Acc 83.78%\n",
      "Epoch 13: Train Loss 0.39, Val Loss 0.49, Train Acc 86.52%, Val Acc 83.14%\n",
      "Epoch 14: Train Loss 0.38, Val Loss 0.46, Train Acc 87.10%, Val Acc 84.46%\n",
      "Epoch 15: Train Loss 0.37, Val Loss 0.50, Train Acc 87.59%, Val Acc 83.10%\n",
      "Epoch 16: Train Loss 0.35, Val Loss 0.48, Train Acc 88.00%, Val Acc 83.20%\n",
      "Epoch 17: Train Loss 0.34, Val Loss 0.45, Train Acc 88.48%, Val Acc 85.28%\n",
      "Epoch 18: Train Loss 0.33, Val Loss 0.42, Train Acc 88.78%, Val Acc 85.48%\n",
      "Epoch 19: Train Loss 0.32, Val Loss 0.49, Train Acc 89.09%, Val Acc 84.54%\n",
      "Epoch 20: Train Loss 0.32, Val Loss 0.45, Train Acc 89.02%, Val Acc 84.74%\n",
      "Epoch 21: Train Loss 0.31, Val Loss 0.48, Train Acc 89.23%, Val Acc 83.66%\n",
      "Epoch 22: Train Loss 0.30, Val Loss 0.38, Train Acc 89.68%, Val Acc 87.14%\n",
      "Epoch 23: Train Loss 0.30, Val Loss 0.43, Train Acc 90.12%, Val Acc 85.48%\n",
      "Epoch 24: Train Loss 0.29, Val Loss 0.39, Train Acc 89.86%, Val Acc 86.62%\n",
      "Epoch 25: Train Loss 0.29, Val Loss 0.40, Train Acc 90.28%, Val Acc 86.56%\n",
      "Epoch 26: Train Loss 0.28, Val Loss 0.45, Train Acc 90.33%, Val Acc 85.40%\n",
      "Epoch 27: Train Loss 0.28, Val Loss 0.50, Train Acc 90.55%, Val Acc 83.40%\n",
      "Epoch 28: Train Loss 0.27, Val Loss 0.39, Train Acc 90.69%, Val Acc 86.38%\n",
      "Epoch 29: Train Loss 0.27, Val Loss 0.37, Train Acc 90.90%, Val Acc 87.62%\n",
      "Epoch 30: Train Loss 0.26, Val Loss 0.40, Train Acc 91.02%, Val Acc 86.84%\n",
      "Epoch 31: Train Loss 0.26, Val Loss 0.39, Train Acc 91.11%, Val Acc 87.34%\n",
      "Epoch 32: Train Loss 0.25, Val Loss 0.39, Train Acc 91.36%, Val Acc 87.02%\n",
      "Epoch 33: Train Loss 0.25, Val Loss 0.38, Train Acc 91.39%, Val Acc 87.48%\n",
      "Epoch 34: Train Loss 0.24, Val Loss 0.35, Train Acc 91.86%, Val Acc 88.56%\n",
      "Epoch 35: Train Loss 0.24, Val Loss 0.37, Train Acc 91.67%, Val Acc 87.66%\n",
      "Epoch 36: Train Loss 0.24, Val Loss 0.36, Train Acc 91.69%, Val Acc 87.70%\n",
      "Epoch 37: Train Loss 0.24, Val Loss 0.33, Train Acc 91.77%, Val Acc 88.98%\n",
      "Epoch 38: Train Loss 0.23, Val Loss 0.39, Train Acc 92.00%, Val Acc 87.12%\n",
      "Epoch 39: Train Loss 0.23, Val Loss 0.35, Train Acc 91.95%, Val Acc 88.50%\n",
      "Epoch 40: Train Loss 0.22, Val Loss 0.38, Train Acc 92.46%, Val Acc 87.92%\n",
      "Epoch 41: Train Loss 0.23, Val Loss 0.38, Train Acc 92.36%, Val Acc 87.44%\n",
      "Epoch 42: Train Loss 0.22, Val Loss 0.37, Train Acc 92.44%, Val Acc 87.90%\n",
      "Epoch 43: Train Loss 0.23, Val Loss 0.35, Train Acc 92.35%, Val Acc 88.14%\n",
      "Epoch 44: Train Loss 0.22, Val Loss 0.37, Train Acc 92.57%, Val Acc 87.92%\n",
      "Epoch 45: Train Loss 0.22, Val Loss 0.39, Train Acc 92.46%, Val Acc 87.10%\n",
      "Epoch 46: Train Loss 0.21, Val Loss 0.38, Train Acc 92.65%, Val Acc 87.48%\n",
      "Epoch 47: Train Loss 0.21, Val Loss 0.39, Train Acc 92.67%, Val Acc 87.36%\n",
      "Epoch 48: Train Loss 0.21, Val Loss 0.33, Train Acc 92.96%, Val Acc 88.84%\n",
      "Epoch 49: Train Loss 0.21, Val Loss 0.34, Train Acc 92.90%, Val Acc 88.74%\n",
      "Epoch 50: Train Loss 0.20, Val Loss 0.38, Train Acc 93.07%, Val Acc 88.14%\n",
      "Test Accuracy (without norm): 88.40%\n"
     ]
    }
   ],
   "source": [
    "model_simple_aug = ResNet(ResBlock)\n",
    "\n",
    "print(\"train version 2 with simple augmentaion...\")\n",
    "\n",
    "train_losses_simple_aug, val_losses_simple_aug, train_accs_simple_aug, val_accs_simple_aug = train_model(model_simple_aug, trainloader_simple_aug, valloader_simple_aug, EPOCH)\n",
    "test_acc_simple_aug = test_model(model_simple_aug, testloader_simple_aug)\n",
    "\n",
    "print(f\"Test Accuracy (without norm): {test_acc_simple_aug:.2f}%\")"
   ]
  },
  {
   "cell_type": "code",
   "execution_count": 18,
   "id": "1874acae",
   "metadata": {
    "execution": {
     "iopub.execute_input": "2025-07-12T14:04:21.426571Z",
     "iopub.status.busy": "2025-07-12T14:04:21.426337Z",
     "iopub.status.idle": "2025-07-12T14:04:21.690746Z",
     "shell.execute_reply": "2025-07-12T14:04:21.689971Z"
    },
    "papermill": {
     "duration": 0.291695,
     "end_time": "2025-07-12T14:04:21.692041",
     "exception": false,
     "start_time": "2025-07-12T14:04:21.400346",
     "status": "completed"
    },
    "tags": []
   },
   "outputs": [
    {
     "data": {
      "image/png": "[encoded data removed]",
      "text/plain": [
       "<Figure size 1200x400 with 2 Axes>"
      ]
     },
     "metadata": {},
     "output_type": "display_data"
    }
   ],
   "source": [
    "##### 繪製 loss 和 accuracy 的圖 #####\n",
    "plt.figure(figsize=(12, 4))\n",
    "\n",
    "plt.subplot(1, 2, 1)\n",
    "plt.plot(train_losses_simple_aug, label='Train Loss')\n",
    "plt.plot(val_losses_simple_aug, label='Val Loss')\n",
    "plt.xlabel('Epoch')\n",
    "plt.ylabel('Loss')\n",
    "plt.legend()\n",
    "\n",
    "plt.subplot(1, 2, 2)\n",
    "plt.plot(train_accs_simple_aug, label='Train Accuracy')\n",
    "plt.plot(val_accs_simple_aug, label='Val Accuracy')\n",
    "plt.xlabel('Epoch')\n",
    "plt.ylabel('Accuracy')\n",
    "plt.legend()\n",
    "\n",
    "plt.show()"
   ]
  },
  {
   "cell_type": "markdown",
   "id": "986ef275",
   "metadata": {
    "papermill": {
     "duration": 0.025777,
     "end_time": "2025-07-12T14:04:21.744786",
     "exception": false,
     "start_time": "2025-07-12T14:04:21.719009",
     "status": "completed"
    },
    "tags": []
   },
   "source": [
    "### **With augmentation**"
   ]
  },
  {
   "cell_type": "code",
   "execution_count": 19,
   "id": "e3bd18a3",
   "metadata": {
    "execution": {
     "iopub.execute_input": "2025-07-12T14:04:21.798050Z",
     "iopub.status.busy": "2025-07-12T14:04:21.797454Z",
     "iopub.status.idle": "2025-07-12T14:04:21.802074Z",
     "shell.execute_reply": "2025-07-12T14:04:21.801483Z"
    },
    "papermill": {
     "duration": 0.032534,
     "end_time": "2025-07-12T14:04:21.803115",
     "exception": false,
     "start_time": "2025-07-12T14:04:21.770581",
     "status": "completed"
    },
    "tags": []
   },
   "outputs": [],
   "source": [
    "transform_with_aug = transforms.Compose([\n",
    "    transforms.ToTensor(),\n",
    "    \n",
    "    # data augmentation\n",
    "    transforms.RandomCrop(32, padding=4),\n",
    "    transforms.RandomHorizontalFlip(),\n",
    "    transforms.RandomRotation(10),\n",
    "    transforms.ColorJitter(brightness=0.2, contrast=0.2, saturation=0.2), \n",
    "    \n",
    "    # data normalization    # standardization: (image - train_mean) / train_std\n",
    "    transforms.Normalize(mean=train_mean, std=train_std),\n",
    "])"
   ]
  },
  {
   "cell_type": "code",
   "execution_count": 20,
   "id": "ea20e5b2",
   "metadata": {
    "execution": {
     "iopub.execute_input": "2025-07-12T14:04:21.855647Z",
     "iopub.status.busy": "2025-07-12T14:04:21.855465Z",
     "iopub.status.idle": "2025-07-12T14:04:23.504168Z",
     "shell.execute_reply": "2025-07-12T14:04:23.503452Z"
    },
    "papermill": {
     "duration": 1.676343,
     "end_time": "2025-07-12T14:04:23.505416",
     "exception": false,
     "start_time": "2025-07-12T14:04:21.829073",
     "status": "completed"
    },
    "tags": []
   },
   "outputs": [
    {
     "name": "stdout",
     "output_type": "stream",
     "text": [
      "train_with_aug length:  45000\n",
      "val_with_aug length:  5000\n",
      "test_with_aug length:  10000\n"
     ]
    }
   ],
   "source": [
    "# dataset\n",
    "trainset_with_aug = torchvision.datasets.CIFAR10(root='./data', train=True, download=True, transform=transform_with_aug)\n",
    "test_ds_with_aug = torchvision.datasets.CIFAR10(root='./data', train=False, download=True, transform=transform_test)\n",
    "\n",
    "# Cifar-10的標籤: ('plane', 'car', 'bird', 'cat', 'deer', 'dog', 'frog', 'horse', 'ship', 'truck')\n",
    "\n",
    "train_ds_with_aug, val_ds_with_aug = random_split(trainset_with_aug, [train_size, val_size])\n",
    "print(\"train_with_aug length: \", len(train_ds_with_aug))\n",
    "print(\"val_with_aug length: \", len(val_ds_with_aug))\n",
    "print(\"test_with_aug length: \", len(test_ds_with_aug))\n",
    "\n",
    "# 宣告 batch size\n",
    "BATCH_SIZE = 128\n",
    "trainloader_with_aug = torch.utils.data.DataLoader(train_ds_with_aug, batch_size=BATCH_SIZE, shuffle=True, num_workers=2)\n",
    "valloader_with_aug = torch.utils.data.DataLoader(val_ds_with_aug, batch_size=BATCH_SIZE, shuffle=False, num_workers=2)\n",
    "testloader_with_aug = torch.utils.data.DataLoader(test_ds_with_aug, batch_size=BATCH_SIZE, shuffle=False, num_workers=2)"
   ]
  },
  {
   "cell_type": "code",
   "execution_count": 21,
   "id": "cda12540",
   "metadata": {
    "execution": {
     "iopub.execute_input": "2025-07-12T14:04:23.558668Z",
     "iopub.status.busy": "2025-07-12T14:04:23.558468Z",
     "iopub.status.idle": "2025-07-12T14:41:11.055895Z",
     "shell.execute_reply": "2025-07-12T14:41:11.054775Z"
    },
    "papermill": {
     "duration": 2207.525503,
     "end_time": "2025-07-12T14:41:11.057376",
     "exception": false,
     "start_time": "2025-07-12T14:04:23.531873",
     "status": "completed"
    },
    "tags": []
   },
   "outputs": [
    {
     "name": "stdout",
     "output_type": "stream",
     "text": [
      "train version 3 with simple augmentaion...\n",
      "Epoch 1: Train Loss 1.58, Val Loss 1.50, Train Acc 41.44%, Val Acc 47.02%\n",
      "Epoch 2: Train Loss 1.21, Val Loss 1.19, Train Acc 56.32%, Val Acc 57.76%\n",
      "Epoch 3: Train Loss 1.04, Val Loss 1.18, Train Acc 62.88%, Val Acc 58.28%\n",
      "Epoch 4: Train Loss 0.92, Val Loss 1.09, Train Acc 67.59%, Val Acc 61.94%\n",
      "Epoch 5: Train Loss 0.82, Val Loss 0.88, Train Acc 71.28%, Val Acc 69.42%\n",
      "Epoch 6: Train Loss 0.74, Val Loss 0.83, Train Acc 74.43%, Val Acc 70.80%\n",
      "Epoch 7: Train Loss 0.69, Val Loss 0.93, Train Acc 76.16%, Val Acc 68.58%\n",
      "Epoch 8: Train Loss 0.64, Val Loss 0.71, Train Acc 77.88%, Val Acc 76.26%\n",
      "Epoch 9: Train Loss 0.60, Val Loss 0.64, Train Acc 79.54%, Val Acc 78.56%\n",
      "Epoch 10: Train Loss 0.56, Val Loss 0.68, Train Acc 80.81%, Val Acc 76.88%\n",
      "Epoch 11: Train Loss 0.53, Val Loss 0.60, Train Acc 81.72%, Val Acc 79.44%\n",
      "Epoch 12: Train Loss 0.51, Val Loss 0.58, Train Acc 82.46%, Val Acc 80.28%\n",
      "Epoch 13: Train Loss 0.50, Val Loss 0.65, Train Acc 82.81%, Val Acc 78.02%\n",
      "Epoch 14: Train Loss 0.48, Val Loss 0.64, Train Acc 83.77%, Val Acc 78.38%\n",
      "Epoch 15: Train Loss 0.46, Val Loss 0.52, Train Acc 84.33%, Val Acc 82.28%\n",
      "Epoch 16: Train Loss 0.45, Val Loss 0.55, Train Acc 84.30%, Val Acc 81.98%\n",
      "Epoch 17: Train Loss 0.43, Val Loss 0.66, Train Acc 85.12%, Val Acc 78.80%\n",
      "Epoch 18: Train Loss 0.43, Val Loss 0.55, Train Acc 85.25%, Val Acc 81.76%\n",
      "Epoch 19: Train Loss 0.42, Val Loss 0.61, Train Acc 85.90%, Val Acc 80.50%\n",
      "Epoch 20: Train Loss 0.41, Val Loss 0.47, Train Acc 86.00%, Val Acc 84.90%\n",
      "Epoch 21: Train Loss 0.40, Val Loss 0.54, Train Acc 86.19%, Val Acc 82.24%\n",
      "Epoch 22: Train Loss 0.39, Val Loss 0.46, Train Acc 86.56%, Val Acc 84.40%\n",
      "Epoch 23: Train Loss 0.39, Val Loss 0.50, Train Acc 86.68%, Val Acc 82.78%\n",
      "Epoch 24: Train Loss 0.38, Val Loss 0.44, Train Acc 86.90%, Val Acc 85.12%\n",
      "Epoch 25: Train Loss 0.37, Val Loss 0.48, Train Acc 87.43%, Val Acc 83.88%\n",
      "Epoch 26: Train Loss 0.37, Val Loss 0.42, Train Acc 87.24%, Val Acc 86.14%\n",
      "Epoch 27: Train Loss 0.37, Val Loss 0.45, Train Acc 87.54%, Val Acc 85.20%\n",
      "Epoch 28: Train Loss 0.36, Val Loss 0.48, Train Acc 87.75%, Val Acc 84.18%\n",
      "Epoch 29: Train Loss 0.36, Val Loss 0.44, Train Acc 87.79%, Val Acc 84.98%\n",
      "Epoch 30: Train Loss 0.34, Val Loss 0.44, Train Acc 88.21%, Val Acc 85.58%\n",
      "Epoch 31: Train Loss 0.34, Val Loss 0.42, Train Acc 88.19%, Val Acc 86.26%\n",
      "Epoch 32: Train Loss 0.34, Val Loss 0.47, Train Acc 88.28%, Val Acc 84.66%\n",
      "Epoch 33: Train Loss 0.34, Val Loss 0.48, Train Acc 88.40%, Val Acc 84.54%\n",
      "Epoch 34: Train Loss 0.33, Val Loss 0.50, Train Acc 88.50%, Val Acc 83.82%\n",
      "Epoch 35: Train Loss 0.33, Val Loss 0.41, Train Acc 88.77%, Val Acc 86.68%\n",
      "Epoch 36: Train Loss 0.33, Val Loss 0.43, Train Acc 88.76%, Val Acc 86.28%\n",
      "Epoch 37: Train Loss 0.32, Val Loss 0.47, Train Acc 89.05%, Val Acc 84.84%\n",
      "Epoch 38: Train Loss 0.32, Val Loss 0.43, Train Acc 89.16%, Val Acc 86.42%\n",
      "Epoch 39: Train Loss 0.31, Val Loss 0.44, Train Acc 88.96%, Val Acc 85.70%\n",
      "Epoch 40: Train Loss 0.32, Val Loss 0.40, Train Acc 88.91%, Val Acc 86.06%\n",
      "Epoch 41: Train Loss 0.32, Val Loss 0.43, Train Acc 89.22%, Val Acc 86.44%\n",
      "Epoch 42: Train Loss 0.31, Val Loss 0.40, Train Acc 89.31%, Val Acc 86.50%\n",
      "Epoch 43: Train Loss 0.31, Val Loss 0.44, Train Acc 89.46%, Val Acc 85.74%\n",
      "Epoch 44: Train Loss 0.31, Val Loss 0.42, Train Acc 89.36%, Val Acc 86.42%\n",
      "Epoch 45: Train Loss 0.31, Val Loss 0.52, Train Acc 89.53%, Val Acc 84.20%\n",
      "Epoch 46: Train Loss 0.30, Val Loss 0.43, Train Acc 89.85%, Val Acc 85.66%\n",
      "Epoch 47: Train Loss 0.30, Val Loss 0.43, Train Acc 89.82%, Val Acc 85.54%\n",
      "Epoch 48: Train Loss 0.29, Val Loss 0.44, Train Acc 90.02%, Val Acc 85.64%\n",
      "Epoch 49: Train Loss 0.29, Val Loss 0.42, Train Acc 90.09%, Val Acc 86.62%\n",
      "Epoch 50: Train Loss 0.29, Val Loss 0.44, Train Acc 90.30%, Val Acc 86.02%\n",
      "Test Accuracy (without norm): 87.77%\n"
     ]
    }
   ],
   "source": [
    "model_with_aug = ResNet(ResBlock)\n",
    "\n",
    "print(\"train version 3 with simple augmentaion...\")\n",
    "\n",
    "train_losses_with_aug, val_losses_with_aug, train_accs_with_aug, val_accs_with_aug = train_model(model_with_aug, trainloader_with_aug, valloader_with_aug, EPOCH)\n",
    "test_acc_with_aug = test_model(model_with_aug, testloader_with_aug)\n",
    "\n",
    "print(f\"Test Accuracy (without norm): {test_acc_with_aug:.2f}%\")"
   ]
  },
  {
   "cell_type": "code",
   "execution_count": 22,
   "id": "12c6acaf",
   "metadata": {
    "execution": {
     "iopub.execute_input": "2025-07-12T14:41:11.115352Z",
     "iopub.status.busy": "2025-07-12T14:41:11.114744Z",
     "iopub.status.idle": "2025-07-12T14:41:11.378340Z",
     "shell.execute_reply": "2025-07-12T14:41:11.377595Z"
    },
    "papermill": {
     "duration": 0.293503,
     "end_time": "2025-07-12T14:41:11.379508",
     "exception": false,
     "start_time": "2025-07-12T14:41:11.086005",
     "status": "completed"
    },
    "tags": []
   },
   "outputs": [
    {
     "data": {
      "image/png": "[encoded data removed]",
      "text/plain": [
       "<Figure size 1200x400 with 2 Axes>"
      ]
     },
     "metadata": {},
     "output_type": "display_data"
    }
   ],
   "source": [
    "##### 繪製 loss 和 accuracy 的圖 #####\n",
    "plt.figure(figsize=(12, 4))\n",
    "\n",
    "plt.subplot(1, 2, 1)\n",
    "plt.plot(train_losses_with_aug, label='Train Loss')\n",
    "plt.plot(val_losses_with_aug, label='Val Loss')\n",
    "plt.xlabel('Epoch')\n",
    "plt.ylabel('Loss')\n",
    "plt.legend()\n",
    "\n",
    "plt.subplot(1, 2, 2)\n",
    "plt.plot(train_accs_with_aug, label='Train Accuracy')\n",
    "plt.plot(val_accs_with_aug, label='Val Accuracy')\n",
    "plt.xlabel('Epoch')\n",
    "plt.ylabel('Accuracy')\n",
    "plt.legend()\n",
    "\n",
    "plt.show()"
   ]
  }
 ],
 "metadata": {
  "accelerator": "GPU",
  "colab": {
   "provenance": []
  },
  "kaggle": {
   "accelerator": "nvidiaTeslaT4",
   "dataSources": [
    {
     "isSourceIdPinned": true,
     "modelId": 398398,
     "modelInstanceId": 377976,
     "sourceId": 468542,
     "sourceType": "modelInstanceVersion"
    }
   ],
   "dockerImageVersionId": 31090,
   "isGpuEnabled": true,
   "isInternetEnabled": true,
   "language": "python",
   "sourceType": "notebook"
  },
  "kernelspec": {
   "display_name": "Python 3",
   "language": "python",
   "name": "python3"
  },
  "language_info": {
   "codemirror_mode": {
    "name": "ipython",
    "version": 3
   },
   "file_extension": ".py",
   "mimetype": "text/x-python",
   "name": "python",
   "nbconvert_exporter": "python",
   "pygments_lexer": "ipython3",
   "version": "3.11.13"
  },
  "papermill": {
   "default_parameters": {},
   "duration": 6483.780535,
   "end_time": "2025-07-12T14:41:14.369982",
   "environment_variables": {},
   "exception": null,
   "input_path": "__notebook__.ipynb",
   "output_path": "__notebook__.ipynb",
   "parameters": {},
   "start_time": "2025-07-12T12:53:10.589447",
   "version": "2.6.0"
  }
 },
 "nbformat": 4,
 "nbformat_minor": 5
}
