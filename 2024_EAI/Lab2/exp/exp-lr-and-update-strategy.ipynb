{
 "cells": [
  {
   "cell_type": "code",
   "execution_count": 1,
   "id": "ff989393",
   "metadata": {
    "collapsed": true,
    "execution": {
     "iopub.execute_input": "2025-07-13T09:15:12.743576Z",
     "iopub.status.busy": "2025-07-13T09:15:12.743122Z",
     "iopub.status.idle": "2025-07-13T09:16:39.258730Z",
     "shell.execute_reply": "2025-07-13T09:16:39.257794Z"
    },
    "id": "3a_T1sve46zm",
    "jupyter": {
     "outputs_hidden": true
    },
    "outputId": "31fcc0ef-781a-498f-a6a5-1c56eaeb9f1d",
    "papermill": {
     "duration": 86.521214,
     "end_time": "2025-07-13T09:16:39.260365",
     "exception": false,
     "start_time": "2025-07-13T09:15:12.739151",
     "status": "completed"
    },
    "tags": []
   },
   "outputs": [
    {
     "name": "stdout",
     "output_type": "stream",
     "text": [
      "Collecting thop\r\n",
      "  Downloading thop-0.1.1.post2209072238-py3-none-any.whl.metadata (2.7 kB)\r\n",
      "Requirement already satisfied: torch in /usr/local/lib/python3.11/dist-packages (from thop) (2.6.0+cu124)\r\n",
      "Requirement already satisfied: filelock in /usr/local/lib/python3.11/dist-packages (from torch->thop) (3.18.0)\r\n",
      "Requirement already satisfied: typing-extensions>=4.10.0 in /usr/local/lib/python3.11/dist-packages (from torch->thop) (4.14.0)\r\n",
      "Requirement already satisfied: networkx in /usr/local/lib/python3.11/dist-packages (from torch->thop) (3.5)\r\n",
      "Requirement already satisfied: jinja2 in /usr/local/lib/python3.11/dist-packages (from torch->thop) (3.1.6)\r\n",
      "Requirement already satisfied: fsspec in /usr/local/lib/python3.11/dist-packages (from torch->thop) (2025.5.1)\r\n",
      "Collecting nvidia-cuda-nvrtc-cu12==12.4.127 (from torch->thop)\r\n",
      "  Downloading nvidia_cuda_nvrtc_cu12-12.4.127-py3-none-manylinux2014_x86_64.whl.metadata (1.5 kB)\r\n",
      "Collecting nvidia-cuda-runtime-cu12==12.4.127 (from torch->thop)\r\n",
      "  Downloading nvidia_cuda_runtime_cu12-12.4.127-py3-none-manylinux2014_x86_64.whl.metadata (1.5 kB)\r\n",
      "Collecting nvidia-cuda-cupti-cu12==12.4.127 (from torch->thop)\r\n",
      "  Downloading nvidia_cuda_cupti_cu12-12.4.127-py3-none-manylinux2014_x86_64.whl.metadata (1.6 kB)\r\n",
      "Collecting nvidia-cudnn-cu12==9.1.0.70 (from torch->thop)\r\n",
      "  Downloading nvidia_cudnn_cu12-9.1.0.70-py3-none-manylinux2014_x86_64.whl.metadata (1.6 kB)\r\n",
      "Collecting nvidia-cublas-cu12==12.4.5.8 (from torch->thop)\r\n",
      "  Downloading nvidia_cublas_cu12-12.4.5.8-py3-none-manylinux2014_x86_64.whl.metadata (1.5 kB)\r\n",
      "Collecting nvidia-cufft-cu12==11.2.1.3 (from torch->thop)\r\n",
      "  Downloading nvidia_cufft_cu12-11.2.1.3-py3-none-manylinux2014_x86_64.whl.metadata (1.5 kB)\r\n",
      "Collecting nvidia-curand-cu12==10.3.5.147 (from torch->thop)\r\n",
      "  Downloading nvidia_curand_cu12-10.3.5.147-py3-none-manylinux2014_x86_64.whl.metadata (1.5 kB)\r\n",
      "Collecting nvidia-cusolver-cu12==11.6.1.9 (from torch->thop)\r\n",
      "  Downloading nvidia_cusolver_cu12-11.6.1.9-py3-none-manylinux2014_x86_64.whl.metadata (1.6 kB)\r\n",
      "Collecting nvidia-cusparse-cu12==12.3.1.170 (from torch->thop)\r\n",
      "  Downloading nvidia_cusparse_cu12-12.3.1.170-py3-none-manylinux2014_x86_64.whl.metadata (1.6 kB)\r\n",
      "Requirement already satisfied: nvidia-cusparselt-cu12==0.6.2 in /usr/local/lib/python3.11/dist-packages (from torch->thop) (0.6.2)\r\n",
      "Requirement already satisfied: nvidia-nccl-cu12==2.21.5 in /usr/local/lib/python3.11/dist-packages (from torch->thop) (2.21.5)\r\n",
      "Requirement already satisfied: nvidia-nvtx-cu12==12.4.127 in /usr/local/lib/python3.11/dist-packages (from torch->thop) (12.4.127)\r\n",
      "Collecting nvidia-nvjitlink-cu12==12.4.127 (from torch->thop)\r\n",
      "  Downloading nvidia_nvjitlink_cu12-12.4.127-py3-none-manylinux2014_x86_64.whl.metadata (1.5 kB)\r\n",
      "Requirement already satisfied: triton==3.2.0 in /usr/local/lib/python3.11/dist-packages (from torch->thop) (3.2.0)\r\n",
      "Requirement already satisfied: sympy==1.13.1 in /usr/local/lib/python3.11/dist-packages (from torch->thop) (1.13.1)\r\n",
      "Requirement already satisfied: mpmath<1.4,>=1.1.0 in /usr/local/lib/python3.11/dist-packages (from sympy==1.13.1->torch->thop) (1.3.0)\r\n",
      "Requirement already satisfied: MarkupSafe>=2.0 in /usr/local/lib/python3.11/dist-packages (from jinja2->torch->thop) (3.0.2)\r\n",
      "Downloading thop-0.1.1.post2209072238-py3-none-any.whl (15 kB)\r\n",
      "Downloading nvidia_cublas_cu12-12.4.5.8-py3-none-manylinux2014_x86_64.whl (363.4 MB)\r\n",
      "\u001b[2K   \u001b[90m━━━━━━━━━━━━━━━━━━━━━━━━━━━━━━━━━━━━━━━━\u001b[0m \u001b[32m363.4/363.4 MB\u001b[0m \u001b[31m5.0 MB/s\u001b[0m eta \u001b[36m0:00:00\u001b[0m\r\n",
      "\u001b[?25hDownloading nvidia_cuda_cupti_cu12-12.4.127-py3-none-manylinux2014_x86_64.whl (13.8 MB)\r\n",
      "\u001b[2K   \u001b[90m━━━━━━━━━━━━━━━━━━━━━━━━━━━━━━━━━━━━━━━━\u001b[0m \u001b[32m13.8/13.8 MB\u001b[0m \u001b[31m91.2 MB/s\u001b[0m eta \u001b[36m0:00:00\u001b[0m\r\n",
      "\u001b[?25hDownloading nvidia_cuda_nvrtc_cu12-12.4.127-py3-none-manylinux2014_x86_64.whl (24.6 MB)\r\n",
      "\u001b[2K   \u001b[90m━━━━━━━━━━━━━━━━━━━━━━━━━━━━━━━━━━━━━━━━\u001b[0m \u001b[32m24.6/24.6 MB\u001b[0m \u001b[31m73.1 MB/s\u001b[0m eta \u001b[36m0:00:00\u001b[0m\r\n",
      "\u001b[?25hDownloading nvidia_cuda_runtime_cu12-12.4.127-py3-none-manylinux2014_x86_64.whl (883 kB)\r\n",
      "\u001b[2K   \u001b[90m━━━━━━━━━━━━━━━━━━━━━━━━━━━━━━━━━━━━━━━━\u001b[0m \u001b[32m883.7/883.7 kB\u001b[0m \u001b[31m41.8 MB/s\u001b[0m eta \u001b[36m0:00:00\u001b[0m\r\n",
      "\u001b[?25hDownloading nvidia_cudnn_cu12-9.1.0.70-py3-none-manylinux2014_x86_64.whl (664.8 MB)\r\n",
      "\u001b[2K   \u001b[90m━━━━━━━━━━━━━━━━━━━━━━━━━━━━━━━━━━━━━━━━\u001b[0m \u001b[32m664.8/664.8 MB\u001b[0m \u001b[31m2.5 MB/s\u001b[0m eta \u001b[36m0:00:00\u001b[0m\r\n",
      "\u001b[?25hDownloading nvidia_cufft_cu12-11.2.1.3-py3-none-manylinux2014_x86_64.whl (211.5 MB)\r\n",
      "\u001b[2K   \u001b[90m━━━━━━━━━━━━━━━━━━━━━━━━━━━━━━━━━━━━━━━━\u001b[0m \u001b[32m211.5/211.5 MB\u001b[0m \u001b[31m8.1 MB/s\u001b[0m eta \u001b[36m0:00:00\u001b[0m\r\n",
      "\u001b[?25hDownloading nvidia_curand_cu12-10.3.5.147-py3-none-manylinux2014_x86_64.whl (56.3 MB)\r\n",
      "\u001b[2K   \u001b[90m━━━━━━━━━━━━━━━━━━━━━━━━━━━━━━━━━━━━━━━━\u001b[0m \u001b[32m56.3/56.3 MB\u001b[0m \u001b[31m31.0 MB/s\u001b[0m eta \u001b[36m0:00:00\u001b[0m\r\n",
      "\u001b[?25hDownloading nvidia_cusolver_cu12-11.6.1.9-py3-none-manylinux2014_x86_64.whl (127.9 MB)\r\n",
      "\u001b[2K   \u001b[90m━━━━━━━━━━━━━━━━━━━━━━━━━━━━━━━━━━━━━━━━\u001b[0m \u001b[32m127.9/127.9 MB\u001b[0m \u001b[31m8.9 MB/s\u001b[0m eta \u001b[36m0:00:00\u001b[0m\r\n",
      "\u001b[?25hDownloading nvidia_cusparse_cu12-12.3.1.170-py3-none-manylinux2014_x86_64.whl (207.5 MB)\r\n",
      "\u001b[2K   \u001b[90m━━━━━━━━━━━━━━━━━━━━━━━━━━━━━━━━━━━━━━━━\u001b[0m \u001b[32m207.5/207.5 MB\u001b[0m \u001b[31m8.1 MB/s\u001b[0m eta \u001b[36m0:00:00\u001b[0m\r\n",
      "\u001b[?25hDownloading nvidia_nvjitlink_cu12-12.4.127-py3-none-manylinux2014_x86_64.whl (21.1 MB)\r\n",
      "\u001b[2K   \u001b[90m━━━━━━━━━━━━━━━━━━━━━━━━━━━━━━━━━━━━━━━━\u001b[0m \u001b[32m21.1/21.1 MB\u001b[0m \u001b[31m73.1 MB/s\u001b[0m eta \u001b[36m0:00:00\u001b[0m\r\n",
      "\u001b[?25hInstalling collected packages: nvidia-nvjitlink-cu12, nvidia-curand-cu12, nvidia-cufft-cu12, nvidia-cuda-runtime-cu12, nvidia-cuda-nvrtc-cu12, nvidia-cuda-cupti-cu12, nvidia-cublas-cu12, nvidia-cusparse-cu12, nvidia-cudnn-cu12, nvidia-cusolver-cu12, thop\r\n",
      "  Attempting uninstall: nvidia-nvjitlink-cu12\r\n",
      "    Found existing installation: nvidia-nvjitlink-cu12 12.5.82\r\n",
      "    Uninstalling nvidia-nvjitlink-cu12-12.5.82:\r\n",
      "      Successfully uninstalled nvidia-nvjitlink-cu12-12.5.82\r\n",
      "  Attempting uninstall: nvidia-curand-cu12\r\n",
      "    Found existing installation: nvidia-curand-cu12 10.3.6.82\r\n",
      "    Uninstalling nvidia-curand-cu12-10.3.6.82:\r\n",
      "      Successfully uninstalled nvidia-curand-cu12-10.3.6.82\r\n",
      "  Attempting uninstall: nvidia-cufft-cu12\r\n",
      "    Found existing installation: nvidia-cufft-cu12 11.2.3.61\r\n",
      "    Uninstalling nvidia-cufft-cu12-11.2.3.61:\r\n",
      "      Successfully uninstalled nvidia-cufft-cu12-11.2.3.61\r\n",
      "  Attempting uninstall: nvidia-cuda-runtime-cu12\r\n",
      "    Found existing installation: nvidia-cuda-runtime-cu12 12.5.82\r\n",
      "    Uninstalling nvidia-cuda-runtime-cu12-12.5.82:\r\n",
      "      Successfully uninstalled nvidia-cuda-runtime-cu12-12.5.82\r\n",
      "  Attempting uninstall: nvidia-cuda-nvrtc-cu12\r\n",
      "    Found existing installation: nvidia-cuda-nvrtc-cu12 12.5.82\r\n",
      "    Uninstalling nvidia-cuda-nvrtc-cu12-12.5.82:\r\n",
      "      Successfully uninstalled nvidia-cuda-nvrtc-cu12-12.5.82\r\n",
      "  Attempting uninstall: nvidia-cuda-cupti-cu12\r\n",
      "    Found existing installation: nvidia-cuda-cupti-cu12 12.5.82\r\n",
      "    Uninstalling nvidia-cuda-cupti-cu12-12.5.82:\r\n",
      "      Successfully uninstalled nvidia-cuda-cupti-cu12-12.5.82\r\n",
      "  Attempting uninstall: nvidia-cublas-cu12\r\n",
      "    Found existing installation: nvidia-cublas-cu12 12.5.3.2\r\n",
      "    Uninstalling nvidia-cublas-cu12-12.5.3.2:\r\n",
      "      Successfully uninstalled nvidia-cublas-cu12-12.5.3.2\r\n",
      "  Attempting uninstall: nvidia-cusparse-cu12\r\n",
      "    Found existing installation: nvidia-cusparse-cu12 12.5.1.3\r\n",
      "    Uninstalling nvidia-cusparse-cu12-12.5.1.3:\r\n",
      "      Successfully uninstalled nvidia-cusparse-cu12-12.5.1.3\r\n",
      "  Attempting uninstall: nvidia-cudnn-cu12\r\n",
      "    Found existing installation: nvidia-cudnn-cu12 9.3.0.75\r\n",
      "    Uninstalling nvidia-cudnn-cu12-9.3.0.75:\r\n",
      "      Successfully uninstalled nvidia-cudnn-cu12-9.3.0.75\r\n",
      "  Attempting uninstall: nvidia-cusolver-cu12\r\n",
      "    Found existing installation: nvidia-cusolver-cu12 11.6.3.83\r\n",
      "    Uninstalling nvidia-cusolver-cu12-11.6.3.83:\r\n",
      "      Successfully uninstalled nvidia-cusolver-cu12-11.6.3.83\r\n",
      "Successfully installed nvidia-cublas-cu12-12.4.5.8 nvidia-cuda-cupti-cu12-12.4.127 nvidia-cuda-nvrtc-cu12-12.4.127 nvidia-cuda-runtime-cu12-12.4.127 nvidia-cudnn-cu12-9.1.0.70 nvidia-cufft-cu12-11.2.1.3 nvidia-curand-cu12-10.3.5.147 nvidia-cusolver-cu12-11.6.1.9 nvidia-cusparse-cu12-12.3.1.170 nvidia-nvjitlink-cu12-12.4.127 thop-0.1.1.post2209072238\r\n",
      "Requirement already satisfied: torchsummary in /usr/local/lib/python3.11/dist-packages (1.5.1)\r\n"
     ]
    }
   ],
   "source": [
    "! pip install thop\n",
    "! pip install torchsummary"
   ]
  },
  {
   "cell_type": "code",
   "execution_count": 2,
   "id": "58b73669",
   "metadata": {
    "collapsed": true,
    "execution": {
     "iopub.execute_input": "2025-07-13T09:16:39.309484Z",
     "iopub.status.busy": "2025-07-13T09:16:39.308682Z",
     "iopub.status.idle": "2025-07-13T09:17:13.123268Z",
     "shell.execute_reply": "2025-07-13T09:17:13.122435Z"
    },
    "id": "uTY8C-LBhDTX",
    "jupyter": {
     "outputs_hidden": true
    },
    "papermill": {
     "duration": 33.836342,
     "end_time": "2025-07-13T09:17:13.124774",
     "exception": false,
     "start_time": "2025-07-13T09:16:39.288432",
     "status": "completed"
    },
    "tags": []
   },
   "outputs": [
    {
     "name": "stderr",
     "output_type": "stream",
     "text": [
      "2025-07-13 09:16:54.379658: E external/local_xla/xla/stream_executor/cuda/cuda_fft.cc:477] Unable to register cuFFT factory: Attempting to register factory for plugin cuFFT when one has already been registered\n",
      "WARNING: All log messages before absl::InitializeLog() is called are written to STDERR\n",
      "E0000 00:00:1752398214.731674      19 cuda_dnn.cc:8310] Unable to register cuDNN factory: Attempting to register factory for plugin cuDNN when one has already been registered\n",
      "E0000 00:00:1752398214.831742      19 cuda_blas.cc:1418] Unable to register cuBLAS factory: Attempting to register factory for plugin cuBLAS when one has already been registered\n"
     ]
    }
   ],
   "source": [
    "import torch\n",
    "import torch.nn as nn\n",
    "import torch.nn.functional as F\n",
    "import torch.optim as optim\n",
    "import torchvision\n",
    "import torchvision.transforms as transforms\n",
    "import argparse\n",
    "import os\n",
    "import numpy as np\n",
    "from torch.utils.data import random_split\n",
    "from torch.utils.tensorboard import SummaryWriter"
   ]
  },
  {
   "cell_type": "code",
   "execution_count": 3,
   "id": "d2e4ca44",
   "metadata": {
    "execution": {
     "iopub.execute_input": "2025-07-13T09:17:13.164565Z",
     "iopub.status.busy": "2025-07-13T09:17:13.164119Z",
     "iopub.status.idle": "2025-07-13T09:17:13.168533Z",
     "shell.execute_reply": "2025-07-13T09:17:13.168044Z"
    },
    "id": "io7k6zHGb1OJ",
    "papermill": {
     "duration": 0.024605,
     "end_time": "2025-07-13T09:17:13.169501",
     "exception": false,
     "start_time": "2025-07-13T09:17:13.144896",
     "status": "completed"
    },
    "tags": []
   },
   "outputs": [],
   "source": [
    "# Create SummaryWriter\n",
    "writer = SummaryWriter(\"../tensorboard\")"
   ]
  },
  {
   "cell_type": "code",
   "execution_count": 4,
   "id": "20e29e52",
   "metadata": {
    "collapsed": true,
    "execution": {
     "iopub.execute_input": "2025-07-13T09:17:13.208235Z",
     "iopub.status.busy": "2025-07-13T09:17:13.207730Z",
     "iopub.status.idle": "2025-07-13T09:17:13.297920Z",
     "shell.execute_reply": "2025-07-13T09:17:13.297079Z"
    },
    "id": "oqc_D_uEhc1O",
    "jupyter": {
     "outputs_hidden": true
    },
    "outputId": "4ac3d5f8-a008-47bf-819b-e168d3f3295f",
    "papermill": {
     "duration": 0.110621,
     "end_time": "2025-07-13T09:17:13.299059",
     "exception": false,
     "start_time": "2025-07-13T09:17:13.188438",
     "status": "completed"
    },
    "tags": []
   },
   "outputs": [
    {
     "name": "stdout",
     "output_type": "stream",
     "text": [
      "True\n"
     ]
    }
   ],
   "source": [
    "#檢查是否可用gpu\n",
    "print(torch.cuda.is_available())"
   ]
  },
  {
   "cell_type": "code",
   "execution_count": 5,
   "id": "03bae7aa",
   "metadata": {
    "collapsed": true,
    "execution": {
     "iopub.execute_input": "2025-07-13T09:17:13.337425Z",
     "iopub.status.busy": "2025-07-13T09:17:13.337208Z",
     "iopub.status.idle": "2025-07-13T09:17:23.781395Z",
     "shell.execute_reply": "2025-07-13T09:17:23.780385Z"
    },
    "id": "3LzusjVfhxJ3",
    "jupyter": {
     "outputs_hidden": true
    },
    "outputId": "7bd1f5fa-b17c-441f-842a-4e697a9e5ad6",
    "papermill": {
     "duration": 10.464771,
     "end_time": "2025-07-13T09:17:23.782863",
     "exception": false,
     "start_time": "2025-07-13T09:17:13.318092",
     "status": "completed"
    },
    "tags": []
   },
   "outputs": [
    {
     "name": "stderr",
     "output_type": "stream",
     "text": [
      "100%|██████████| 170M/170M [00:01<00:00, 104MB/s]\n"
     ]
    },
    {
     "name": "stdout",
     "output_type": "stream",
     "text": [
      "[0.49070385 0.48101363 0.44511664] [0.2473055  0.243788   0.26141948]\n",
      "[0.49070385 0.48101363 0.44511664] [0.2473055  0.243788   0.26141948]\n"
     ]
    }
   ],
   "source": [
    "# 計算normalization需要的 mean & std\n",
    "def get_mean_std(dataset, ratio=0.3):\n",
    "    # Get mean and std by sample ratio\n",
    "    dataloader = torch.utils.data.DataLoader(dataset, batch_size=int(len(dataset)*ratio), shuffle=True, num_workers=2)\n",
    "\n",
    "    data = next(iter(dataloader))[0]     # get the first iteration data\n",
    "    mean = np.mean(data.numpy(), axis=(0,2,3))\n",
    "    std = np.std(data.numpy(), axis=(0,2,3))\n",
    "    return mean, std\n",
    "\n",
    "train_dataset = torchvision.datasets.CIFAR10(root='./data', train=True, download=True, transform=transforms.ToTensor())\n",
    "test_dataset = torchvision.datasets.CIFAR10(root='./data', train=False, download=True, transform=transforms.ToTensor())\n",
    "\n",
    "train_mean, train_std = get_mean_std(train_dataset)\n",
    "test_mean, test_std = train_mean, train_std\n",
    "print(train_mean, train_std)\n",
    "print(test_mean, test_std)"
   ]
  },
  {
   "cell_type": "code",
   "execution_count": 6,
   "id": "a64206d6",
   "metadata": {
    "execution": {
     "iopub.execute_input": "2025-07-13T09:17:23.824161Z",
     "iopub.status.busy": "2025-07-13T09:17:23.823355Z",
     "iopub.status.idle": "2025-07-13T09:17:23.827350Z",
     "shell.execute_reply": "2025-07-13T09:17:23.826827Z"
    },
    "papermill": {
     "duration": 0.025339,
     "end_time": "2025-07-13T09:17:23.828284",
     "exception": false,
     "start_time": "2025-07-13T09:17:23.802945",
     "status": "completed"
    },
    "tags": []
   },
   "outputs": [],
   "source": [
    "##### setting parameter #####\n",
    "EPOCH = 50\n",
    "lr = 0.0005\n",
    "device = torch.device(\"cuda\" if torch.cuda.is_available() else \"cpu\")"
   ]
  },
  {
   "cell_type": "code",
   "execution_count": 7,
   "id": "75517908",
   "metadata": {
    "collapsed": true,
    "execution": {
     "iopub.execute_input": "2025-07-13T09:17:23.913179Z",
     "iopub.status.busy": "2025-07-13T09:17:23.912945Z",
     "iopub.status.idle": "2025-07-13T09:17:24.653180Z",
     "shell.execute_reply": "2025-07-13T09:17:24.652077Z"
    },
    "jupyter": {
     "outputs_hidden": true
    },
    "papermill": {
     "duration": 0.806729,
     "end_time": "2025-07-13T09:17:24.654620",
     "exception": false,
     "start_time": "2025-07-13T09:17:23.847891",
     "status": "completed"
    },
    "tags": []
   },
   "outputs": [
    {
     "name": "stdout",
     "output_type": "stream",
     "text": [
      "----------------------------------------------------------------\n",
      "        Layer (type)               Output Shape         Param #\n",
      "================================================================\n",
      "            Conv2d-1           [-1, 64, 32, 32]           1,728\n",
      "       BatchNorm2d-2           [-1, 64, 32, 32]             128\n",
      "              ReLU-3           [-1, 64, 32, 32]               0\n",
      "            Conv2d-4           [-1, 64, 32, 32]          36,864\n",
      "       BatchNorm2d-5           [-1, 64, 32, 32]             128\n",
      "              ReLU-6           [-1, 64, 32, 32]               0\n",
      "            Conv2d-7           [-1, 64, 32, 32]          36,864\n",
      "       BatchNorm2d-8           [-1, 64, 32, 32]             128\n",
      "          ResBlock-9           [-1, 64, 32, 32]               0\n",
      "           Conv2d-10           [-1, 64, 32, 32]          36,864\n",
      "      BatchNorm2d-11           [-1, 64, 32, 32]             128\n",
      "             ReLU-12           [-1, 64, 32, 32]               0\n",
      "           Conv2d-13           [-1, 64, 32, 32]          36,864\n",
      "      BatchNorm2d-14           [-1, 64, 32, 32]             128\n",
      "         ResBlock-15           [-1, 64, 32, 32]               0\n",
      "           Conv2d-16          [-1, 128, 16, 16]          73,728\n",
      "      BatchNorm2d-17          [-1, 128, 16, 16]             256\n",
      "             ReLU-18          [-1, 128, 16, 16]               0\n",
      "           Conv2d-19          [-1, 128, 16, 16]         147,456\n",
      "      BatchNorm2d-20          [-1, 128, 16, 16]             256\n",
      "           Conv2d-21          [-1, 128, 16, 16]           8,192\n",
      "      BatchNorm2d-22          [-1, 128, 16, 16]             256\n",
      "         ResBlock-23          [-1, 128, 16, 16]               0\n",
      "           Conv2d-24          [-1, 128, 16, 16]         147,456\n",
      "      BatchNorm2d-25          [-1, 128, 16, 16]             256\n",
      "             ReLU-26          [-1, 128, 16, 16]               0\n",
      "           Conv2d-27          [-1, 128, 16, 16]         147,456\n",
      "      BatchNorm2d-28          [-1, 128, 16, 16]             256\n",
      "         ResBlock-29          [-1, 128, 16, 16]               0\n",
      "           Conv2d-30            [-1, 256, 8, 8]         294,912\n",
      "      BatchNorm2d-31            [-1, 256, 8, 8]             512\n",
      "             ReLU-32            [-1, 256, 8, 8]               0\n",
      "           Conv2d-33            [-1, 256, 8, 8]         589,824\n",
      "      BatchNorm2d-34            [-1, 256, 8, 8]             512\n",
      "           Conv2d-35            [-1, 256, 8, 8]          32,768\n",
      "      BatchNorm2d-36            [-1, 256, 8, 8]             512\n",
      "         ResBlock-37            [-1, 256, 8, 8]               0\n",
      "           Conv2d-38            [-1, 256, 8, 8]         589,824\n",
      "      BatchNorm2d-39            [-1, 256, 8, 8]             512\n",
      "             ReLU-40            [-1, 256, 8, 8]               0\n",
      "           Conv2d-41            [-1, 256, 8, 8]         589,824\n",
      "      BatchNorm2d-42            [-1, 256, 8, 8]             512\n",
      "         ResBlock-43            [-1, 256, 8, 8]               0\n",
      "           Conv2d-44            [-1, 512, 4, 4]       1,179,648\n",
      "      BatchNorm2d-45            [-1, 512, 4, 4]           1,024\n",
      "             ReLU-46            [-1, 512, 4, 4]               0\n",
      "           Conv2d-47            [-1, 512, 4, 4]       2,359,296\n",
      "      BatchNorm2d-48            [-1, 512, 4, 4]           1,024\n",
      "           Conv2d-49            [-1, 512, 4, 4]         131,072\n",
      "      BatchNorm2d-50            [-1, 512, 4, 4]           1,024\n",
      "         ResBlock-51            [-1, 512, 4, 4]               0\n",
      "           Conv2d-52            [-1, 512, 4, 4]       2,359,296\n",
      "      BatchNorm2d-53            [-1, 512, 4, 4]           1,024\n",
      "             ReLU-54            [-1, 512, 4, 4]               0\n",
      "           Conv2d-55            [-1, 512, 4, 4]       2,359,296\n",
      "      BatchNorm2d-56            [-1, 512, 4, 4]           1,024\n",
      "         ResBlock-57            [-1, 512, 4, 4]               0\n",
      "           Linear-58                   [-1, 10]           5,130\n",
      "================================================================\n",
      "Total params: 11,173,962\n",
      "Trainable params: 11,173,962\n",
      "Non-trainable params: 0\n",
      "----------------------------------------------------------------\n",
      "Input size (MB): 0.01\n",
      "Forward/backward pass size (MB): 13.63\n",
      "Params size (MB): 42.63\n",
      "Estimated Total Size (MB): 56.26\n",
      "----------------------------------------------------------------\n",
      "[INFO] Register count_convNd() for <class 'torch.nn.modules.conv.Conv2d'>.\n",
      "[INFO] Register count_normalization() for <class 'torch.nn.modules.batchnorm.BatchNorm2d'>.\n",
      "[INFO] Register zero_ops() for <class 'torch.nn.modules.activation.ReLU'>.\n",
      "[INFO] Register zero_ops() for <class 'torch.nn.modules.container.Sequential'>.\n",
      "[INFO] Register count_linear() for <class 'torch.nn.modules.linear.Linear'>.\n",
      "FLOPs: 557880320.0\n",
      "Params: 11173962.0\n"
     ]
    }
   ],
   "source": [
    "from thop import profile\n",
    "from torchsummary import summary\n",
    "import sys\n",
    "sys.path.append('/kaggle/input/resnet/pytorch/default/1')\n",
    "from resnet18 import *\n",
    "##### 使用 thop 計算 FLOPs 和參數數量 #####\n",
    "# 宣告model\n",
    "model = ResNet(ResBlock).to(device)\n",
    "summary(model, (3, 32, 32))\n",
    "\n",
    "input = torch.randn(1, 3, 32, 32).to(device)\n",
    "flops, params = profile(model, inputs=(input, ))\n",
    "\n",
    "print(f\"FLOPs: {flops}\")\n",
    "print(f\"Params: {params}\")"
   ]
  },
  {
   "cell_type": "code",
   "execution_count": 8,
   "id": "ce124b7f",
   "metadata": {
    "execution": {
     "iopub.execute_input": "2025-07-13T09:17:24.696582Z",
     "iopub.status.busy": "2025-07-13T09:17:24.696368Z",
     "iopub.status.idle": "2025-07-13T09:17:24.704523Z",
     "shell.execute_reply": "2025-07-13T09:17:24.704000Z"
    },
    "papermill": {
     "duration": 0.030354,
     "end_time": "2025-07-13T09:17:24.705547",
     "exception": false,
     "start_time": "2025-07-13T09:17:24.675193",
     "status": "completed"
    },
    "tags": []
   },
   "outputs": [],
   "source": [
    "def train_model(model, trainloader, valloader, epochs):\n",
    "    model.to(device)\n",
    "    criterion = nn.CrossEntropyLoss()\n",
    "    optimizer = optim.Adam(model.parameters(), lr=lr, weight_decay=5e-4)\n",
    "    # optimizer = optim.SGD(model.parameters(), lr=lr, momentum=0.9, weight_decay=5e-4)\n",
    "    scheduler = optim.lr_scheduler.CosineAnnealingLR(optimizer, T_max=200)\n",
    "    \n",
    "    train_losses, val_losses, train_accs, val_accs = [], [], [], []\n",
    "    \n",
    "    for epoch in range(epochs):\n",
    "        model.train()\n",
    "        running_loss, correct, total = 0.0, 0, 0\n",
    "        \n",
    "        for inputs, labels in trainloader:\n",
    "            inputs, labels = inputs.to(device), labels.to(device)\n",
    "            optimizer.zero_grad()\n",
    "            \n",
    "            outputs = model(inputs)\n",
    "            loss = criterion(outputs, labels)\n",
    "            loss.backward()\n",
    "            optimizer.step()\n",
    "            \n",
    "            running_loss += loss.item()\n",
    "            _, predicted = torch.max(outputs.data, 1)\n",
    "            total += labels.size(0)\n",
    "            correct += (predicted == labels).sum().item()\n",
    "        \n",
    "        train_losses.append(running_loss / len(trainloader))\n",
    "        train_accs.append(100 * correct / total)\n",
    "        \n",
    "        model.eval()\n",
    "        val_loss, correct, total = 0.0, 0, 0\n",
    "        \n",
    "        with torch.no_grad():\n",
    "            for inputs, labels in valloader:\n",
    "                inputs, labels = inputs.to(device), labels.to(device)\n",
    "                outputs = model(inputs)\n",
    "                loss = criterion(outputs, labels)\n",
    "                val_loss += loss.item()\n",
    "                _, predicted = torch.max(outputs.data, 1)\n",
    "                total += labels.size(0)\n",
    "                correct += (predicted == labels).sum().item()\n",
    "        \n",
    "        val_losses.append(val_loss / len(valloader))\n",
    "        val_accs.append(100 * correct / total)\n",
    "        \n",
    "        print(f\"Epoch {epoch+1}: Train Loss {train_losses[-1]:.2f}, Val Loss {val_losses[-1]:.2f}, Train Acc {train_accs[-1]:.2f}%, Val Acc {val_accs[-1]:.2f}%\")\n",
    "\n",
    "        scheduler.step()\n",
    "        \n",
    "    return train_losses, val_losses, train_accs, val_accs"
   ]
  },
  {
   "cell_type": "code",
   "execution_count": 9,
   "id": "b421f7cd",
   "metadata": {
    "execution": {
     "iopub.execute_input": "2025-07-13T09:17:24.746020Z",
     "iopub.status.busy": "2025-07-13T09:17:24.745827Z",
     "iopub.status.idle": "2025-07-13T09:17:24.750030Z",
     "shell.execute_reply": "2025-07-13T09:17:24.749319Z"
    },
    "papermill": {
     "duration": 0.026236,
     "end_time": "2025-07-13T09:17:24.751680",
     "exception": false,
     "start_time": "2025-07-13T09:17:24.725444",
     "status": "completed"
    },
    "tags": []
   },
   "outputs": [],
   "source": [
    "def test_model(model, testloader):\n",
    "    model.eval()\n",
    "    correct, total = 0, 0\n",
    "    with torch.no_grad():\n",
    "        for inputs, labels in testloader:\n",
    "            inputs, labels = inputs.to(device), labels.to(device)\n",
    "            outputs = model(inputs)\n",
    "            _, predicted = torch.max(outputs.data, 1)\n",
    "            total += labels.size(0)\n",
    "            correct += (predicted == labels).sum().item()\n",
    "    return 100 * correct / total"
   ]
  },
  {
   "cell_type": "code",
   "execution_count": 10,
   "id": "6721b425",
   "metadata": {
    "execution": {
     "iopub.execute_input": "2025-07-13T09:17:24.792597Z",
     "iopub.status.busy": "2025-07-13T09:17:24.791970Z",
     "iopub.status.idle": "2025-07-13T09:17:24.796532Z",
     "shell.execute_reply": "2025-07-13T09:17:24.796007Z"
    },
    "id": "5NGnL4rP6ofO",
    "papermill": {
     "duration": 0.025806,
     "end_time": "2025-07-13T09:17:24.797525",
     "exception": false,
     "start_time": "2025-07-13T09:17:24.771719",
     "status": "completed"
    },
    "tags": []
   },
   "outputs": [],
   "source": [
    "##### data normalization #####\n",
    "transform_train = transforms.Compose([\n",
    "    transforms.ToTensor(),\n",
    "\n",
    "    # data augmentation\n",
    "    transforms.RandomCrop(32, padding=4),\n",
    "    transforms.RandomHorizontalFlip(),\n",
    "    transforms.RandomRotation(10),\n",
    "    transforms.ColorJitter(brightness=0.2, contrast=0.2, saturation=0.2), \n",
    "    \n",
    "    # data normalization    # standardization: (image - train_mean) / train_std\n",
    "    transforms.Normalize(mean=train_mean, std=train_std),\n",
    "])\n",
    "\n",
    "transform_test = transforms.Compose([\n",
    "    transforms.ToTensor(),\n",
    "    # data normalization    # standardization: (image - train_mean) / train_std\n",
    "    transforms.Normalize(mean=test_mean, std=test_std),\n",
    "])"
   ]
  },
  {
   "cell_type": "code",
   "execution_count": 11,
   "id": "1fd01af3",
   "metadata": {
    "collapsed": true,
    "execution": {
     "iopub.execute_input": "2025-07-13T09:17:24.839113Z",
     "iopub.status.busy": "2025-07-13T09:17:24.838909Z",
     "iopub.status.idle": "2025-07-13T09:17:26.541580Z",
     "shell.execute_reply": "2025-07-13T09:17:26.540854Z"
    },
    "jupyter": {
     "outputs_hidden": true
    },
    "papermill": {
     "duration": 1.724855,
     "end_time": "2025-07-13T09:17:26.543006",
     "exception": false,
     "start_time": "2025-07-13T09:17:24.818151",
     "status": "completed"
    },
    "tags": []
   },
   "outputs": [
    {
     "name": "stdout",
     "output_type": "stream",
     "text": [
      "image shape:  torch.Size([3, 32, 32])\n",
      "train length:  45000\n",
      "val length:  5000\n",
      "test length:  10000\n"
     ]
    }
   ],
   "source": [
    "# dataset\n",
    "trainset = torchvision.datasets.CIFAR10(root='./data', train=True, download=True, transform=transform_train)\n",
    "test_ds = torchvision.datasets.CIFAR10(root='./data', train=False, download=True, transform=transform_test)\n",
    "\n",
    "# 檢查training dataset\n",
    "#print(\"trainset length: \", len(trainset))\n",
    "#print(\"classes: \", trainset.classes)\n",
    "image, label = trainset[0]\n",
    "print(\"image shape: \", image.shape)\n",
    "#print(\"label: \", label)\n",
    "\n",
    "# Cifar-10的標籤: ('plane', 'car', 'bird', 'cat', 'deer', 'dog', 'frog', 'horse', 'ship', 'truck')\n",
    "\n",
    "# split validation dataset\n",
    "torch.manual_seed(43)     # 確保每次獲得相同的驗證集\n",
    "val_size = 5000       # 取5000張驗證集(0.1 of trainset)\n",
    "train_size = len(trainset) - val_size\n",
    "train_ds, val_ds = random_split(trainset, [train_size, val_size])\n",
    "print(\"train length: \", len(train_ds))\n",
    "print(\"val length: \", len(val_ds))\n",
    "print(\"test length: \", len(test_ds))\n",
    "\n",
    "# 宣告 batch size\n",
    "BATCH_SIZE = 128\n",
    "trainloader = torch.utils.data.DataLoader(train_ds, batch_size=BATCH_SIZE, shuffle=True, num_workers=2)\n",
    "valloader = torch.utils.data.DataLoader(val_ds, batch_size=BATCH_SIZE, shuffle=False, num_workers=2)\n",
    "testloader = torch.utils.data.DataLoader(test_ds, batch_size=BATCH_SIZE, shuffle=False, num_workers=2)"
   ]
  },
  {
   "cell_type": "code",
   "execution_count": 12,
   "id": "cd45c4f5",
   "metadata": {
    "collapsed": true,
    "execution": {
     "iopub.execute_input": "2025-07-13T09:17:26.583746Z",
     "iopub.status.busy": "2025-07-13T09:17:26.583498Z",
     "iopub.status.idle": "2025-07-13T09:55:16.410303Z",
     "shell.execute_reply": "2025-07-13T09:55:16.409292Z"
    },
    "jupyter": {
     "outputs_hidden": true
    },
    "papermill": {
     "duration": 2269.848355,
     "end_time": "2025-07-13T09:55:16.411741",
     "exception": false,
     "start_time": "2025-07-13T09:17:26.563386",
     "status": "completed"
    },
    "tags": []
   },
   "outputs": [
    {
     "name": "stdout",
     "output_type": "stream",
     "text": [
      "Epoch 1: Train Loss 1.48, Val Loss 1.31, Train Acc 45.88%, Val Acc 54.22%\n",
      "Epoch 2: Train Loss 1.02, Val Loss 1.11, Train Acc 63.70%, Val Acc 60.58%\n",
      "Epoch 3: Train Loss 0.85, Val Loss 0.89, Train Acc 70.05%, Val Acc 68.46%\n",
      "Epoch 4: Train Loss 0.74, Val Loss 0.93, Train Acc 74.24%, Val Acc 66.84%\n",
      "Epoch 5: Train Loss 0.66, Val Loss 0.74, Train Acc 76.90%, Val Acc 74.36%\n",
      "Epoch 6: Train Loss 0.61, Val Loss 0.76, Train Acc 78.99%, Val Acc 74.12%\n",
      "Epoch 7: Train Loss 0.57, Val Loss 0.68, Train Acc 80.32%, Val Acc 77.14%\n",
      "Epoch 8: Train Loss 0.54, Val Loss 0.64, Train Acc 81.28%, Val Acc 77.48%\n",
      "Epoch 9: Train Loss 0.51, Val Loss 0.60, Train Acc 82.26%, Val Acc 79.74%\n",
      "Epoch 10: Train Loss 0.48, Val Loss 0.79, Train Acc 83.37%, Val Acc 73.66%\n",
      "Epoch 11: Train Loss 0.47, Val Loss 0.65, Train Acc 84.16%, Val Acc 78.42%\n",
      "Epoch 12: Train Loss 0.44, Val Loss 0.64, Train Acc 84.97%, Val Acc 78.40%\n",
      "Epoch 13: Train Loss 0.43, Val Loss 0.59, Train Acc 85.30%, Val Acc 80.38%\n",
      "Epoch 14: Train Loss 0.41, Val Loss 0.55, Train Acc 85.87%, Val Acc 81.52%\n",
      "Epoch 15: Train Loss 0.39, Val Loss 0.58, Train Acc 86.57%, Val Acc 80.94%\n",
      "Epoch 16: Train Loss 0.39, Val Loss 0.61, Train Acc 86.78%, Val Acc 80.32%\n",
      "Epoch 17: Train Loss 0.37, Val Loss 0.46, Train Acc 87.33%, Val Acc 84.74%\n",
      "Epoch 18: Train Loss 0.36, Val Loss 0.50, Train Acc 87.55%, Val Acc 82.68%\n",
      "Epoch 19: Train Loss 0.34, Val Loss 0.44, Train Acc 88.28%, Val Acc 85.20%\n",
      "Epoch 20: Train Loss 0.34, Val Loss 0.53, Train Acc 88.33%, Val Acc 82.52%\n",
      "Epoch 21: Train Loss 0.33, Val Loss 0.41, Train Acc 88.66%, Val Acc 85.80%\n",
      "Epoch 22: Train Loss 0.33, Val Loss 0.44, Train Acc 88.84%, Val Acc 84.86%\n",
      "Epoch 23: Train Loss 0.31, Val Loss 0.45, Train Acc 89.42%, Val Acc 85.06%\n",
      "Epoch 24: Train Loss 0.31, Val Loss 0.51, Train Acc 89.54%, Val Acc 83.24%\n",
      "Epoch 25: Train Loss 0.30, Val Loss 0.36, Train Acc 89.87%, Val Acc 87.96%\n",
      "Epoch 26: Train Loss 0.29, Val Loss 0.42, Train Acc 90.34%, Val Acc 85.68%\n",
      "Epoch 27: Train Loss 0.28, Val Loss 0.39, Train Acc 90.25%, Val Acc 86.66%\n",
      "Epoch 28: Train Loss 0.28, Val Loss 0.47, Train Acc 90.53%, Val Acc 84.66%\n",
      "Epoch 29: Train Loss 0.27, Val Loss 0.44, Train Acc 90.68%, Val Acc 85.88%\n",
      "Epoch 30: Train Loss 0.27, Val Loss 0.39, Train Acc 90.82%, Val Acc 86.42%\n",
      "Epoch 31: Train Loss 0.26, Val Loss 0.39, Train Acc 91.02%, Val Acc 86.66%\n",
      "Epoch 32: Train Loss 0.25, Val Loss 0.38, Train Acc 91.26%, Val Acc 87.16%\n",
      "Epoch 33: Train Loss 0.26, Val Loss 0.38, Train Acc 91.37%, Val Acc 87.56%\n",
      "Epoch 34: Train Loss 0.25, Val Loss 0.37, Train Acc 91.34%, Val Acc 87.66%\n",
      "Epoch 35: Train Loss 0.24, Val Loss 0.35, Train Acc 91.67%, Val Acc 87.98%\n",
      "Epoch 36: Train Loss 0.24, Val Loss 0.38, Train Acc 91.66%, Val Acc 86.74%\n",
      "Epoch 37: Train Loss 0.24, Val Loss 0.36, Train Acc 91.90%, Val Acc 88.16%\n",
      "Epoch 38: Train Loss 0.23, Val Loss 0.35, Train Acc 92.10%, Val Acc 87.70%\n",
      "Epoch 39: Train Loss 0.23, Val Loss 0.36, Train Acc 92.21%, Val Acc 88.30%\n",
      "Epoch 40: Train Loss 0.22, Val Loss 0.42, Train Acc 92.34%, Val Acc 86.66%\n",
      "Epoch 41: Train Loss 0.23, Val Loss 0.35, Train Acc 92.17%, Val Acc 88.44%\n",
      "Epoch 42: Train Loss 0.22, Val Loss 0.39, Train Acc 92.59%, Val Acc 86.98%\n",
      "Epoch 43: Train Loss 0.22, Val Loss 0.41, Train Acc 92.51%, Val Acc 85.96%\n",
      "Epoch 44: Train Loss 0.21, Val Loss 0.37, Train Acc 92.82%, Val Acc 87.74%\n",
      "Epoch 45: Train Loss 0.21, Val Loss 0.36, Train Acc 93.00%, Val Acc 88.08%\n",
      "Epoch 46: Train Loss 0.21, Val Loss 0.33, Train Acc 92.92%, Val Acc 88.98%\n",
      "Epoch 47: Train Loss 0.20, Val Loss 0.36, Train Acc 93.09%, Val Acc 87.80%\n",
      "Epoch 48: Train Loss 0.20, Val Loss 0.36, Train Acc 93.18%, Val Acc 87.78%\n",
      "Epoch 49: Train Loss 0.19, Val Loss 0.37, Train Acc 93.28%, Val Acc 87.68%\n",
      "Epoch 50: Train Loss 0.19, Val Loss 0.37, Train Acc 93.32%, Val Acc 87.94%\n",
      "Test Accuracy (without norm): 88.90%\n"
     ]
    }
   ],
   "source": [
    "model = ResNet(ResBlock)\n",
    "\n",
    "# print(\"train with learning rate = 0.0005...\")\n",
    "\n",
    "train_losses, val_losses, train_accs, val_accs = train_model(model, trainloader, valloader, EPOCH)\n",
    "test_acc = test_model(model, testloader)\n",
    "\n",
    "print(f\"Test Accuracy (without norm): {test_acc:.2f}%\")"
   ]
  },
  {
   "cell_type": "code",
   "execution_count": 13,
   "id": "34cc7588",
   "metadata": {
    "collapsed": true,
    "execution": {
     "iopub.execute_input": "2025-07-13T09:55:16.458836Z",
     "iopub.status.busy": "2025-07-13T09:55:16.458548Z",
     "iopub.status.idle": "2025-07-13T09:55:16.970780Z",
     "shell.execute_reply": "2025-07-13T09:55:16.970138Z"
    },
    "jupyter": {
     "outputs_hidden": true
    },
    "papermill": {
     "duration": 0.537898,
     "end_time": "2025-07-13T09:55:16.972392",
     "exception": false,
     "start_time": "2025-07-13T09:55:16.434494",
     "status": "completed"
    },
    "tags": []
   },
   "outputs": [
    {
     "data": {
      "image/png": "[encoded data removed]",
      "text/plain": [
       "<Figure size 1200x400 with 2 Axes>"
      ]
     },
     "metadata": {},
     "output_type": "display_data"
    }
   ],
   "source": [
    "import matplotlib.pyplot as plt\n",
    "\n",
    "##### 繪製 loss 和 accuracy 的圖 #####\n",
    "plt.figure(figsize=(12, 4))\n",
    "\n",
    "plt.subplot(1, 2, 1)\n",
    "plt.plot(train_losses, label='Train Loss')\n",
    "plt.plot(val_losses, label='Val Loss')\n",
    "plt.xlabel('Epoch')\n",
    "plt.ylabel('Loss')\n",
    "plt.legend()\n",
    "\n",
    "plt.subplot(1, 2, 2)\n",
    "plt.plot(train_accs, label='Train Accuracy')\n",
    "plt.plot(val_accs, label='Val Accuracy')\n",
    "plt.xlabel('Epoch')\n",
    "plt.ylabel('Accuracy')\n",
    "plt.legend()\n",
    "\n",
    "plt.show()"
   ]
  }
 ],
 "metadata": {
  "accelerator": "GPU",
  "colab": {
   "provenance": []
  },
  "kaggle": {
   "accelerator": "nvidiaTeslaT4",
   "dataSources": [
    {
     "isSourceIdPinned": true,
     "modelId": 398398,
     "modelInstanceId": 377976,
     "sourceId": 468542,
     "sourceType": "modelInstanceVersion"
    }
   ],
   "dockerImageVersionId": 31090,
   "isGpuEnabled": true,
   "isInternetEnabled": true,
   "language": "python",
   "sourceType": "notebook"
  },
  "kernelspec": {
   "display_name": "Python 3",
   "language": "python",
   "name": "python3"
  },
  "language_info": {
   "codemirror_mode": {
    "name": "ipython",
    "version": 3
   },
   "file_extension": ".py",
   "mimetype": "text/x-python",
   "name": "python",
   "nbconvert_exporter": "python",
   "pygments_lexer": "ipython3",
   "version": "3.11.13"
  },
  "papermill": {
   "default_parameters": {},
   "duration": 2412.966363,
   "end_time": "2025-07-13T09:55:19.944354",
   "environment_variables": {},
   "exception": null,
   "input_path": "__notebook__.ipynb",
   "output_path": "__notebook__.ipynb",
   "parameters": {},
   "start_time": "2025-07-13T09:15:06.977991",
   "version": "2.6.0"
  }
 },
 "nbformat": 4,
 "nbformat_minor": 5
}
