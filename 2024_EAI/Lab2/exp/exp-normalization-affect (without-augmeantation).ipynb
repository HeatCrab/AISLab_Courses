{
 "cells": [
  {
   "cell_type": "code",
   "execution_count": 1,
   "id": "51961d89",
   "metadata": {
    "execution": {
     "iopub.execute_input": "2025-07-12T13:07:08.754603Z",
     "iopub.status.busy": "2025-07-12T13:07:08.754314Z",
     "iopub.status.idle": "2025-07-12T13:08:35.505801Z",
     "shell.execute_reply": "2025-07-12T13:08:35.504993Z"
    },
    "id": "3a_T1sve46zm",
    "outputId": "31fcc0ef-781a-498f-a6a5-1c56eaeb9f1d",
    "papermill": {
     "duration": 86.758386,
     "end_time": "2025-07-12T13:08:35.508021",
     "exception": false,
     "start_time": "2025-07-12T13:07:08.749635",
     "status": "completed"
    },
    "tags": []
   },
   "outputs": [
    {
     "name": "stdout",
     "output_type": "stream",
     "text": [
      "Collecting thop\r\n",
      "  Downloading thop-0.1.1.post2209072238-py3-none-any.whl.metadata (2.7 kB)\r\n",
      "Requirement already satisfied: torch in /usr/local/lib/python3.11/dist-packages (from thop) (2.6.0+cu124)\r\n",
      "Requirement already satisfied: filelock in /usr/local/lib/python3.11/dist-packages (from torch->thop) (3.18.0)\r\n",
      "Requirement already satisfied: typing-extensions>=4.10.0 in /usr/local/lib/python3.11/dist-packages (from torch->thop) (4.14.0)\r\n",
      "Requirement already satisfied: networkx in /usr/local/lib/python3.11/dist-packages (from torch->thop) (3.5)\r\n",
      "Requirement already satisfied: jinja2 in /usr/local/lib/python3.11/dist-packages (from torch->thop) (3.1.6)\r\n",
      "Requirement already satisfied: fsspec in /usr/local/lib/python3.11/dist-packages (from torch->thop) (2025.5.1)\r\n",
      "Collecting nvidia-cuda-nvrtc-cu12==12.4.127 (from torch->thop)\r\n",
      "  Downloading nvidia_cuda_nvrtc_cu12-12.4.127-py3-none-manylinux2014_x86_64.whl.metadata (1.5 kB)\r\n",
      "Collecting nvidia-cuda-runtime-cu12==12.4.127 (from torch->thop)\r\n",
      "  Downloading nvidia_cuda_runtime_cu12-12.4.127-py3-none-manylinux2014_x86_64.whl.metadata (1.5 kB)\r\n",
      "Collecting nvidia-cuda-cupti-cu12==12.4.127 (from torch->thop)\r\n",
      "  Downloading nvidia_cuda_cupti_cu12-12.4.127-py3-none-manylinux2014_x86_64.whl.metadata (1.6 kB)\r\n",
      "Collecting nvidia-cudnn-cu12==9.1.0.70 (from torch->thop)\r\n",
      "  Downloading nvidia_cudnn_cu12-9.1.0.70-py3-none-manylinux2014_x86_64.whl.metadata (1.6 kB)\r\n",
      "Collecting nvidia-cublas-cu12==12.4.5.8 (from torch->thop)\r\n",
      "  Downloading nvidia_cublas_cu12-12.4.5.8-py3-none-manylinux2014_x86_64.whl.metadata (1.5 kB)\r\n",
      "Collecting nvidia-cufft-cu12==11.2.1.3 (from torch->thop)\r\n",
      "  Downloading nvidia_cufft_cu12-11.2.1.3-py3-none-manylinux2014_x86_64.whl.metadata (1.5 kB)\r\n",
      "Collecting nvidia-curand-cu12==10.3.5.147 (from torch->thop)\r\n",
      "  Downloading nvidia_curand_cu12-10.3.5.147-py3-none-manylinux2014_x86_64.whl.metadata (1.5 kB)\r\n",
      "Collecting nvidia-cusolver-cu12==11.6.1.9 (from torch->thop)\r\n",
      "  Downloading nvidia_cusolver_cu12-11.6.1.9-py3-none-manylinux2014_x86_64.whl.metadata (1.6 kB)\r\n",
      "Collecting nvidia-cusparse-cu12==12.3.1.170 (from torch->thop)\r\n",
      "  Downloading nvidia_cusparse_cu12-12.3.1.170-py3-none-manylinux2014_x86_64.whl.metadata (1.6 kB)\r\n",
      "Requirement already satisfied: nvidia-cusparselt-cu12==0.6.2 in /usr/local/lib/python3.11/dist-packages (from torch->thop) (0.6.2)\r\n",
      "Requirement already satisfied: nvidia-nccl-cu12==2.21.5 in /usr/local/lib/python3.11/dist-packages (from torch->thop) (2.21.5)\r\n",
      "Requirement already satisfied: nvidia-nvtx-cu12==12.4.127 in /usr/local/lib/python3.11/dist-packages (from torch->thop) (12.4.127)\r\n",
      "Collecting nvidia-nvjitlink-cu12==12.4.127 (from torch->thop)\r\n",
      "  Downloading nvidia_nvjitlink_cu12-12.4.127-py3-none-manylinux2014_x86_64.whl.metadata (1.5 kB)\r\n",
      "Requirement already satisfied: triton==3.2.0 in /usr/local/lib/python3.11/dist-packages (from torch->thop) (3.2.0)\r\n",
      "Requirement already satisfied: sympy==1.13.1 in /usr/local/lib/python3.11/dist-packages (from torch->thop) (1.13.1)\r\n",
      "Requirement already satisfied: mpmath<1.4,>=1.1.0 in /usr/local/lib/python3.11/dist-packages (from sympy==1.13.1->torch->thop) (1.3.0)\r\n",
      "Requirement already satisfied: MarkupSafe>=2.0 in /usr/local/lib/python3.11/dist-packages (from jinja2->torch->thop) (3.0.2)\r\n",
      "Downloading thop-0.1.1.post2209072238-py3-none-any.whl (15 kB)\r\n",
      "Downloading nvidia_cublas_cu12-12.4.5.8-py3-none-manylinux2014_x86_64.whl (363.4 MB)\r\n",
      "\u001b[2K   \u001b[90m━━━━━━━━━━━━━━━━━━━━━━━━━━━━━━━━━━━━━━━━\u001b[0m \u001b[32m363.4/363.4 MB\u001b[0m \u001b[31m4.7 MB/s\u001b[0m eta \u001b[36m0:00:00\u001b[0m\r\n",
      "\u001b[?25hDownloading nvidia_cuda_cupti_cu12-12.4.127-py3-none-manylinux2014_x86_64.whl (13.8 MB)\r\n",
      "\u001b[2K   \u001b[90m━━━━━━━━━━━━━━━━━━━━━━━━━━━━━━━━━━━━━━━━\u001b[0m \u001b[32m13.8/13.8 MB\u001b[0m \u001b[31m94.9 MB/s\u001b[0m eta \u001b[36m0:00:00\u001b[0m\r\n",
      "\u001b[?25hDownloading nvidia_cuda_nvrtc_cu12-12.4.127-py3-none-manylinux2014_x86_64.whl (24.6 MB)\r\n",
      "\u001b[2K   \u001b[90m━━━━━━━━━━━━━━━━━━━━━━━━━━━━━━━━━━━━━━━━\u001b[0m \u001b[32m24.6/24.6 MB\u001b[0m \u001b[31m81.3 MB/s\u001b[0m eta \u001b[36m0:00:00\u001b[0m\r\n",
      "\u001b[?25hDownloading nvidia_cuda_runtime_cu12-12.4.127-py3-none-manylinux2014_x86_64.whl (883 kB)\r\n",
      "\u001b[2K   \u001b[90m━━━━━━━━━━━━━━━━━━━━━━━━━━━━━━━━━━━━━━━━\u001b[0m \u001b[32m883.7/883.7 kB\u001b[0m \u001b[31m37.0 MB/s\u001b[0m eta \u001b[36m0:00:00\u001b[0m\r\n",
      "\u001b[?25hDownloading nvidia_cudnn_cu12-9.1.0.70-py3-none-manylinux2014_x86_64.whl (664.8 MB)\r\n",
      "\u001b[2K   \u001b[90m━━━━━━━━━━━━━━━━━━━━━━━━━━━━━━━━━━━━━━━━\u001b[0m \u001b[32m664.8/664.8 MB\u001b[0m \u001b[31m2.3 MB/s\u001b[0m eta \u001b[36m0:00:00\u001b[0m\r\n",
      "\u001b[?25hDownloading nvidia_cufft_cu12-11.2.1.3-py3-none-manylinux2014_x86_64.whl (211.5 MB)\r\n",
      "\u001b[2K   \u001b[90m━━━━━━━━━━━━━━━━━━━━━━━━━━━━━━━━━━━━━━━━\u001b[0m \u001b[32m211.5/211.5 MB\u001b[0m \u001b[31m2.1 MB/s\u001b[0m eta \u001b[36m0:00:00\u001b[0m\r\n",
      "\u001b[?25hDownloading nvidia_curand_cu12-10.3.5.147-py3-none-manylinux2014_x86_64.whl (56.3 MB)\r\n",
      "\u001b[2K   \u001b[90m━━━━━━━━━━━━━━━━━━━━━━━━━━━━━━━━━━━━━━━━\u001b[0m \u001b[32m56.3/56.3 MB\u001b[0m \u001b[31m13.4 MB/s\u001b[0m eta \u001b[36m0:00:00\u001b[0m\r\n",
      "\u001b[?25hDownloading nvidia_cusolver_cu12-11.6.1.9-py3-none-manylinux2014_x86_64.whl (127.9 MB)\r\n",
      "\u001b[2K   \u001b[90m━━━━━━━━━━━━━━━━━━━━━━━━━━━━━━━━━━━━━━━━\u001b[0m \u001b[32m127.9/127.9 MB\u001b[0m \u001b[31m13.4 MB/s\u001b[0m eta \u001b[36m0:00:00\u001b[0m\r\n",
      "\u001b[?25hDownloading nvidia_cusparse_cu12-12.3.1.170-py3-none-manylinux2014_x86_64.whl (207.5 MB)\r\n",
      "\u001b[2K   \u001b[90m━━━━━━━━━━━━━━━━━━━━━━━━━━━━━━━━━━━━━━━━\u001b[0m \u001b[32m207.5/207.5 MB\u001b[0m \u001b[31m8.2 MB/s\u001b[0m eta \u001b[36m0:00:00\u001b[0m\r\n",
      "\u001b[?25hDownloading nvidia_nvjitlink_cu12-12.4.127-py3-none-manylinux2014_x86_64.whl (21.1 MB)\r\n",
      "\u001b[2K   \u001b[90m━━━━━━━━━━━━━━━━━━━━━━━━━━━━━━━━━━━━━━━━\u001b[0m \u001b[32m21.1/21.1 MB\u001b[0m \u001b[31m78.4 MB/s\u001b[0m eta \u001b[36m0:00:00\u001b[0m\r\n",
      "\u001b[?25hInstalling collected packages: nvidia-nvjitlink-cu12, nvidia-curand-cu12, nvidia-cufft-cu12, nvidia-cuda-runtime-cu12, nvidia-cuda-nvrtc-cu12, nvidia-cuda-cupti-cu12, nvidia-cublas-cu12, nvidia-cusparse-cu12, nvidia-cudnn-cu12, nvidia-cusolver-cu12, thop\r\n",
      "  Attempting uninstall: nvidia-nvjitlink-cu12\r\n",
      "    Found existing installation: nvidia-nvjitlink-cu12 12.5.82\r\n",
      "    Uninstalling nvidia-nvjitlink-cu12-12.5.82:\r\n",
      "      Successfully uninstalled nvidia-nvjitlink-cu12-12.5.82\r\n",
      "  Attempting uninstall: nvidia-curand-cu12\r\n",
      "    Found existing installation: nvidia-curand-cu12 10.3.6.82\r\n",
      "    Uninstalling nvidia-curand-cu12-10.3.6.82:\r\n",
      "      Successfully uninstalled nvidia-curand-cu12-10.3.6.82\r\n",
      "  Attempting uninstall: nvidia-cufft-cu12\r\n",
      "    Found existing installation: nvidia-cufft-cu12 11.2.3.61\r\n",
      "    Uninstalling nvidia-cufft-cu12-11.2.3.61:\r\n",
      "      Successfully uninstalled nvidia-cufft-cu12-11.2.3.61\r\n",
      "  Attempting uninstall: nvidia-cuda-runtime-cu12\r\n",
      "    Found existing installation: nvidia-cuda-runtime-cu12 12.5.82\r\n",
      "    Uninstalling nvidia-cuda-runtime-cu12-12.5.82:\r\n",
      "      Successfully uninstalled nvidia-cuda-runtime-cu12-12.5.82\r\n",
      "  Attempting uninstall: nvidia-cuda-nvrtc-cu12\r\n",
      "    Found existing installation: nvidia-cuda-nvrtc-cu12 12.5.82\r\n",
      "    Uninstalling nvidia-cuda-nvrtc-cu12-12.5.82:\r\n",
      "      Successfully uninstalled nvidia-cuda-nvrtc-cu12-12.5.82\r\n",
      "  Attempting uninstall: nvidia-cuda-cupti-cu12\r\n",
      "    Found existing installation: nvidia-cuda-cupti-cu12 12.5.82\r\n",
      "    Uninstalling nvidia-cuda-cupti-cu12-12.5.82:\r\n",
      "      Successfully uninstalled nvidia-cuda-cupti-cu12-12.5.82\r\n",
      "  Attempting uninstall: nvidia-cublas-cu12\r\n",
      "    Found existing installation: nvidia-cublas-cu12 12.5.3.2\r\n",
      "    Uninstalling nvidia-cublas-cu12-12.5.3.2:\r\n",
      "      Successfully uninstalled nvidia-cublas-cu12-12.5.3.2\r\n",
      "  Attempting uninstall: nvidia-cusparse-cu12\r\n",
      "    Found existing installation: nvidia-cusparse-cu12 12.5.1.3\r\n",
      "    Uninstalling nvidia-cusparse-cu12-12.5.1.3:\r\n",
      "      Successfully uninstalled nvidia-cusparse-cu12-12.5.1.3\r\n",
      "  Attempting uninstall: nvidia-cudnn-cu12\r\n",
      "    Found existing installation: nvidia-cudnn-cu12 9.3.0.75\r\n",
      "    Uninstalling nvidia-cudnn-cu12-9.3.0.75:\r\n",
      "      Successfully uninstalled nvidia-cudnn-cu12-9.3.0.75\r\n",
      "  Attempting uninstall: nvidia-cusolver-cu12\r\n",
      "    Found existing installation: nvidia-cusolver-cu12 11.6.3.83\r\n",
      "    Uninstalling nvidia-cusolver-cu12-11.6.3.83:\r\n",
      "      Successfully uninstalled nvidia-cusolver-cu12-11.6.3.83\r\n",
      "Successfully installed nvidia-cublas-cu12-12.4.5.8 nvidia-cuda-cupti-cu12-12.4.127 nvidia-cuda-nvrtc-cu12-12.4.127 nvidia-cuda-runtime-cu12-12.4.127 nvidia-cudnn-cu12-9.1.0.70 nvidia-cufft-cu12-11.2.1.3 nvidia-curand-cu12-10.3.5.147 nvidia-cusolver-cu12-11.6.1.9 nvidia-cusparse-cu12-12.3.1.170 nvidia-nvjitlink-cu12-12.4.127 thop-0.1.1.post2209072238\r\n",
      "Requirement already satisfied: torchsummary in /usr/local/lib/python3.11/dist-packages (1.5.1)\r\n"
     ]
    }
   ],
   "source": [
    "! pip install thop\n",
    "! pip install torchsummary"
   ]
  },
  {
   "cell_type": "code",
   "execution_count": 2,
   "id": "2d07f468",
   "metadata": {
    "execution": {
     "iopub.execute_input": "2025-07-12T13:08:35.557318Z",
     "iopub.status.busy": "2025-07-12T13:08:35.556493Z",
     "iopub.status.idle": "2025-07-12T13:09:10.711936Z",
     "shell.execute_reply": "2025-07-12T13:09:10.710995Z"
    },
    "id": "uTY8C-LBhDTX",
    "papermill": {
     "duration": 35.181581,
     "end_time": "2025-07-12T13:09:10.713431",
     "exception": false,
     "start_time": "2025-07-12T13:08:35.531850",
     "status": "completed"
    },
    "tags": []
   },
   "outputs": [
    {
     "name": "stderr",
     "output_type": "stream",
     "text": [
      "2025-07-12 13:08:50.811844: E external/local_xla/xla/stream_executor/cuda/cuda_fft.cc:477] Unable to register cuFFT factory: Attempting to register factory for plugin cuFFT when one has already been registered\n",
      "WARNING: All log messages before absl::InitializeLog() is called are written to STDERR\n",
      "E0000 00:00:1752325731.181775      19 cuda_dnn.cc:8310] Unable to register cuDNN factory: Attempting to register factory for plugin cuDNN when one has already been registered\n",
      "E0000 00:00:1752325731.286066      19 cuda_blas.cc:1418] Unable to register cuBLAS factory: Attempting to register factory for plugin cuBLAS when one has already been registered\n"
     ]
    }
   ],
   "source": [
    "import torch\n",
    "import torch.nn as nn\n",
    "import torch.nn.functional as F\n",
    "import torch.optim as optim\n",
    "import torchvision\n",
    "import torchvision.transforms as transforms\n",
    "import argparse\n",
    "import os\n",
    "import numpy as np\n",
    "from torch.utils.data import random_split\n",
    "from torch.utils.tensorboard import SummaryWriter"
   ]
  },
  {
   "cell_type": "code",
   "execution_count": 3,
   "id": "1c636a18",
   "metadata": {
    "execution": {
     "iopub.execute_input": "2025-07-12T13:09:10.761371Z",
     "iopub.status.busy": "2025-07-12T13:09:10.760797Z",
     "iopub.status.idle": "2025-07-12T13:09:10.766067Z",
     "shell.execute_reply": "2025-07-12T13:09:10.765480Z"
    },
    "id": "io7k6zHGb1OJ",
    "papermill": {
     "duration": 0.030337,
     "end_time": "2025-07-12T13:09:10.767147",
     "exception": false,
     "start_time": "2025-07-12T13:09:10.736810",
     "status": "completed"
    },
    "tags": []
   },
   "outputs": [],
   "source": [
    "# Create SummaryWriter\n",
    "writer = SummaryWriter(\"../tensorboard\")"
   ]
  },
  {
   "cell_type": "code",
   "execution_count": 4,
   "id": "6e07b80c",
   "metadata": {
    "execution": {
     "iopub.execute_input": "2025-07-12T13:09:10.812803Z",
     "iopub.status.busy": "2025-07-12T13:09:10.812580Z",
     "iopub.status.idle": "2025-07-12T13:09:10.900773Z",
     "shell.execute_reply": "2025-07-12T13:09:10.899882Z"
    },
    "id": "oqc_D_uEhc1O",
    "outputId": "4ac3d5f8-a008-47bf-819b-e168d3f3295f",
    "papermill": {
     "duration": 0.112554,
     "end_time": "2025-07-12T13:09:10.902149",
     "exception": false,
     "start_time": "2025-07-12T13:09:10.789595",
     "status": "completed"
    },
    "tags": []
   },
   "outputs": [
    {
     "name": "stdout",
     "output_type": "stream",
     "text": [
      "True\n"
     ]
    }
   ],
   "source": [
    "#檢查是否可用gpu\n",
    "print(torch.cuda.is_available())"
   ]
  },
  {
   "cell_type": "code",
   "execution_count": 5,
   "id": "c5dd3d93",
   "metadata": {
    "execution": {
     "iopub.execute_input": "2025-07-12T13:09:10.949963Z",
     "iopub.status.busy": "2025-07-12T13:09:10.949700Z",
     "iopub.status.idle": "2025-07-12T13:09:21.125540Z",
     "shell.execute_reply": "2025-07-12T13:09:21.124624Z"
    },
    "id": "3LzusjVfhxJ3",
    "outputId": "7bd1f5fa-b17c-441f-842a-4e697a9e5ad6",
    "papermill": {
     "duration": 10.200964,
     "end_time": "2025-07-12T13:09:21.126776",
     "exception": false,
     "start_time": "2025-07-12T13:09:10.925812",
     "status": "completed"
    },
    "tags": []
   },
   "outputs": [
    {
     "name": "stderr",
     "output_type": "stream",
     "text": [
      "100%|██████████| 170M/170M [00:01<00:00, 101MB/s]\n"
     ]
    },
    {
     "name": "stdout",
     "output_type": "stream",
     "text": [
      "[0.49021417 0.4808351  0.4444391 ] [0.24755527 0.24365287 0.2614551 ]\n",
      "[0.49021417 0.4808351  0.4444391 ] [0.24755527 0.24365287 0.2614551 ]\n"
     ]
    }
   ],
   "source": [
    "# 計算normalization需要的 mean & std\n",
    "def get_mean_std(dataset, ratio=0.3):\n",
    "    # Get mean and std by sample ratio\n",
    "    dataloader = torch.utils.data.DataLoader(dataset, batch_size=int(len(dataset)*ratio), shuffle=True, num_workers=2)\n",
    "\n",
    "    data = next(iter(dataloader))[0]     # get the first iteration data\n",
    "    mean = np.mean(data.numpy(), axis=(0,2,3))\n",
    "    std = np.std(data.numpy(), axis=(0,2,3))\n",
    "    return mean, std\n",
    "\n",
    "train_dataset = torchvision.datasets.CIFAR10(root='./data', train=True, download=True, transform=transforms.ToTensor())\n",
    "test_dataset = torchvision.datasets.CIFAR10(root='./data', train=False, download=True, transform=transforms.ToTensor())\n",
    "\n",
    "train_mean, train_std = get_mean_std(train_dataset)\n",
    "test_mean, test_std = train_mean, train_std\n",
    "print(train_mean, train_std)\n",
    "print(test_mean, test_std)"
   ]
  },
  {
   "cell_type": "code",
   "execution_count": 6,
   "id": "64393bcc",
   "metadata": {
    "execution": {
     "iopub.execute_input": "2025-07-12T13:09:21.178553Z",
     "iopub.status.busy": "2025-07-12T13:09:21.178202Z",
     "iopub.status.idle": "2025-07-12T13:09:21.183246Z",
     "shell.execute_reply": "2025-07-12T13:09:21.182507Z"
    },
    "papermill": {
     "duration": 0.03279,
     "end_time": "2025-07-12T13:09:21.184444",
     "exception": false,
     "start_time": "2025-07-12T13:09:21.151654",
     "status": "completed"
    },
    "tags": []
   },
   "outputs": [],
   "source": [
    "##### setting parameter #####\n",
    "EPOCH = 50\n",
    "lr = 0.001\n",
    "device = torch.device(\"cuda\" if torch.cuda.is_available() else \"cpu\")"
   ]
  },
  {
   "cell_type": "code",
   "execution_count": 7,
   "id": "fba609bc",
   "metadata": {
    "execution": {
     "iopub.execute_input": "2025-07-12T13:09:21.287250Z",
     "iopub.status.busy": "2025-07-12T13:09:21.286464Z",
     "iopub.status.idle": "2025-07-12T13:09:22.041381Z",
     "shell.execute_reply": "2025-07-12T13:09:22.040516Z"
    },
    "papermill": {
     "duration": 0.780938,
     "end_time": "2025-07-12T13:09:22.042914",
     "exception": false,
     "start_time": "2025-07-12T13:09:21.261976",
     "status": "completed"
    },
    "tags": []
   },
   "outputs": [
    {
     "name": "stdout",
     "output_type": "stream",
     "text": [
      "----------------------------------------------------------------\n",
      "        Layer (type)               Output Shape         Param #\n",
      "================================================================\n",
      "            Conv2d-1           [-1, 64, 32, 32]           1,728\n",
      "       BatchNorm2d-2           [-1, 64, 32, 32]             128\n",
      "              ReLU-3           [-1, 64, 32, 32]               0\n",
      "            Conv2d-4           [-1, 64, 32, 32]          36,864\n",
      "       BatchNorm2d-5           [-1, 64, 32, 32]             128\n",
      "              ReLU-6           [-1, 64, 32, 32]               0\n",
      "            Conv2d-7           [-1, 64, 32, 32]          36,864\n",
      "       BatchNorm2d-8           [-1, 64, 32, 32]             128\n",
      "          ResBlock-9           [-1, 64, 32, 32]               0\n",
      "           Conv2d-10           [-1, 64, 32, 32]          36,864\n",
      "      BatchNorm2d-11           [-1, 64, 32, 32]             128\n",
      "             ReLU-12           [-1, 64, 32, 32]               0\n",
      "           Conv2d-13           [-1, 64, 32, 32]          36,864\n",
      "      BatchNorm2d-14           [-1, 64, 32, 32]             128\n",
      "         ResBlock-15           [-1, 64, 32, 32]               0\n",
      "           Conv2d-16          [-1, 128, 16, 16]          73,728\n",
      "      BatchNorm2d-17          [-1, 128, 16, 16]             256\n",
      "             ReLU-18          [-1, 128, 16, 16]               0\n",
      "           Conv2d-19          [-1, 128, 16, 16]         147,456\n",
      "      BatchNorm2d-20          [-1, 128, 16, 16]             256\n",
      "           Conv2d-21          [-1, 128, 16, 16]           8,192\n",
      "      BatchNorm2d-22          [-1, 128, 16, 16]             256\n",
      "         ResBlock-23          [-1, 128, 16, 16]               0\n",
      "           Conv2d-24          [-1, 128, 16, 16]         147,456\n",
      "      BatchNorm2d-25          [-1, 128, 16, 16]             256\n",
      "             ReLU-26          [-1, 128, 16, 16]               0\n",
      "           Conv2d-27          [-1, 128, 16, 16]         147,456\n",
      "      BatchNorm2d-28          [-1, 128, 16, 16]             256\n",
      "         ResBlock-29          [-1, 128, 16, 16]               0\n",
      "           Conv2d-30            [-1, 256, 8, 8]         294,912\n",
      "      BatchNorm2d-31            [-1, 256, 8, 8]             512\n",
      "             ReLU-32            [-1, 256, 8, 8]               0\n",
      "           Conv2d-33            [-1, 256, 8, 8]         589,824\n",
      "      BatchNorm2d-34            [-1, 256, 8, 8]             512\n",
      "           Conv2d-35            [-1, 256, 8, 8]          32,768\n",
      "      BatchNorm2d-36            [-1, 256, 8, 8]             512\n",
      "         ResBlock-37            [-1, 256, 8, 8]               0\n",
      "           Conv2d-38            [-1, 256, 8, 8]         589,824\n",
      "      BatchNorm2d-39            [-1, 256, 8, 8]             512\n",
      "             ReLU-40            [-1, 256, 8, 8]               0\n",
      "           Conv2d-41            [-1, 256, 8, 8]         589,824\n",
      "      BatchNorm2d-42            [-1, 256, 8, 8]             512\n",
      "         ResBlock-43            [-1, 256, 8, 8]               0\n",
      "           Conv2d-44            [-1, 512, 4, 4]       1,179,648\n",
      "      BatchNorm2d-45            [-1, 512, 4, 4]           1,024\n",
      "             ReLU-46            [-1, 512, 4, 4]               0\n",
      "           Conv2d-47            [-1, 512, 4, 4]       2,359,296\n",
      "      BatchNorm2d-48            [-1, 512, 4, 4]           1,024\n",
      "           Conv2d-49            [-1, 512, 4, 4]         131,072\n",
      "      BatchNorm2d-50            [-1, 512, 4, 4]           1,024\n",
      "         ResBlock-51            [-1, 512, 4, 4]               0\n",
      "           Conv2d-52            [-1, 512, 4, 4]       2,359,296\n",
      "      BatchNorm2d-53            [-1, 512, 4, 4]           1,024\n",
      "             ReLU-54            [-1, 512, 4, 4]               0\n",
      "           Conv2d-55            [-1, 512, 4, 4]       2,359,296\n",
      "      BatchNorm2d-56            [-1, 512, 4, 4]           1,024\n",
      "         ResBlock-57            [-1, 512, 4, 4]               0\n",
      "           Linear-58                   [-1, 10]           5,130\n",
      "================================================================\n",
      "Total params: 11,173,962\n",
      "Trainable params: 11,173,962\n",
      "Non-trainable params: 0\n",
      "----------------------------------------------------------------\n",
      "Input size (MB): 0.01\n",
      "Forward/backward pass size (MB): 13.63\n",
      "Params size (MB): 42.63\n",
      "Estimated Total Size (MB): 56.26\n",
      "----------------------------------------------------------------\n",
      "[INFO] Register count_convNd() for <class 'torch.nn.modules.conv.Conv2d'>.\n",
      "[INFO] Register count_normalization() for <class 'torch.nn.modules.batchnorm.BatchNorm2d'>.\n",
      "[INFO] Register zero_ops() for <class 'torch.nn.modules.activation.ReLU'>.\n",
      "[INFO] Register zero_ops() for <class 'torch.nn.modules.container.Sequential'>.\n",
      "[INFO] Register count_linear() for <class 'torch.nn.modules.linear.Linear'>.\n",
      "FLOPs: 557880320.0\n",
      "Params: 11173962.0\n"
     ]
    }
   ],
   "source": [
    "from thop import profile\n",
    "from torchsummary import summary\n",
    "import sys\n",
    "sys.path.append('/kaggle/input/resnet/pytorch/default/1')\n",
    "from resnet18 import *\n",
    "##### 使用 thop 計算 FLOPs 和參數數量 #####\n",
    "# 宣告model\n",
    "model = ResNet(ResBlock).to(device)\n",
    "summary(model, (3, 32, 32))\n",
    "\n",
    "input = torch.randn(1, 3, 32, 32).to(device)\n",
    "flops, params = profile(model, inputs=(input, ))\n",
    "\n",
    "print(f\"FLOPs: {flops}\")\n",
    "print(f\"Params: {params}\")"
   ]
  },
  {
   "cell_type": "code",
   "execution_count": 8,
   "id": "73f909fa",
   "metadata": {
    "execution": {
     "iopub.execute_input": "2025-07-12T13:09:22.104760Z",
     "iopub.status.busy": "2025-07-12T13:09:22.104482Z",
     "iopub.status.idle": "2025-07-12T13:09:22.112857Z",
     "shell.execute_reply": "2025-07-12T13:09:22.112242Z"
    },
    "papermill": {
     "duration": 0.036439,
     "end_time": "2025-07-12T13:09:22.113873",
     "exception": false,
     "start_time": "2025-07-12T13:09:22.077434",
     "status": "completed"
    },
    "tags": []
   },
   "outputs": [],
   "source": [
    "def train_model(model, trainloader, valloader, epochs):\n",
    "    model.to(device)\n",
    "    criterion = nn.CrossEntropyLoss()\n",
    "    optimizer = optim.Adam(model.parameters(), lr=lr, weight_decay=5e-4)\n",
    "    scheduler = optim.lr_scheduler.CosineAnnealingLR(optimizer, T_max=200)\n",
    "    \n",
    "    train_losses, val_losses, train_accs, val_accs = [], [], [], []\n",
    "    \n",
    "    for epoch in range(epochs):\n",
    "        model.train()\n",
    "        running_loss, correct, total = 0.0, 0, 0\n",
    "        \n",
    "        for inputs, labels in trainloader:\n",
    "            inputs, labels = inputs.to(device), labels.to(device)\n",
    "            optimizer.zero_grad()\n",
    "            \n",
    "            outputs = model(inputs)\n",
    "            loss = criterion(outputs, labels)\n",
    "            loss.backward()\n",
    "            optimizer.step()\n",
    "            \n",
    "            running_loss += loss.item()\n",
    "            _, predicted = torch.max(outputs.data, 1)\n",
    "            total += labels.size(0)\n",
    "            correct += (predicted == labels).sum().item()\n",
    "        \n",
    "        train_losses.append(running_loss / len(trainloader))\n",
    "        train_accs.append(100 * correct / total)\n",
    "        \n",
    "        model.eval()\n",
    "        val_loss, correct, total = 0.0, 0, 0\n",
    "        \n",
    "        with torch.no_grad():\n",
    "            for inputs, labels in valloader:\n",
    "                inputs, labels = inputs.to(device), labels.to(device)\n",
    "                outputs = model(inputs)\n",
    "                loss = criterion(outputs, labels)\n",
    "                val_loss += loss.item()\n",
    "                _, predicted = torch.max(outputs.data, 1)\n",
    "                total += labels.size(0)\n",
    "                correct += (predicted == labels).sum().item()\n",
    "        \n",
    "        val_losses.append(val_loss / len(valloader))\n",
    "        val_accs.append(100 * correct / total)\n",
    "        \n",
    "        print(f\"Epoch {epoch+1}: Train Loss {train_losses[-1]:.2f}, Val Loss {val_losses[-1]:.2f}, Train Acc {train_accs[-1]:.2f}%, Val Acc {val_accs[-1]:.2f}%\")\n",
    "\n",
    "        scheduler.step()\n",
    "        \n",
    "    return train_losses, val_losses, train_accs, val_accs"
   ]
  },
  {
   "cell_type": "code",
   "execution_count": 9,
   "id": "8b52babe",
   "metadata": {
    "execution": {
     "iopub.execute_input": "2025-07-12T13:09:22.163733Z",
     "iopub.status.busy": "2025-07-12T13:09:22.163187Z",
     "iopub.status.idle": "2025-07-12T13:09:22.167854Z",
     "shell.execute_reply": "2025-07-12T13:09:22.167231Z"
    },
    "papermill": {
     "duration": 0.030589,
     "end_time": "2025-07-12T13:09:22.169016",
     "exception": false,
     "start_time": "2025-07-12T13:09:22.138427",
     "status": "completed"
    },
    "tags": []
   },
   "outputs": [],
   "source": [
    "def test_model(model, testloader):\n",
    "    model.eval()\n",
    "    correct, total = 0, 0\n",
    "    with torch.no_grad():\n",
    "        for inputs, labels in testloader:\n",
    "            inputs, labels = inputs.to(device), labels.to(device)\n",
    "            outputs = model(inputs)\n",
    "            _, predicted = torch.max(outputs.data, 1)\n",
    "            total += labels.size(0)\n",
    "            correct += (predicted == labels).sum().item()\n",
    "    return 100 * correct / total"
   ]
  },
  {
   "cell_type": "code",
   "execution_count": 10,
   "id": "2b4505ae",
   "metadata": {
    "execution": {
     "iopub.execute_input": "2025-07-12T13:09:22.219225Z",
     "iopub.status.busy": "2025-07-12T13:09:22.218965Z",
     "iopub.status.idle": "2025-07-12T13:09:22.222692Z",
     "shell.execute_reply": "2025-07-12T13:09:22.222070Z"
    },
    "id": "5NGnL4rP6ofO",
    "papermill": {
     "duration": 0.0301,
     "end_time": "2025-07-12T13:09:22.223835",
     "exception": false,
     "start_time": "2025-07-12T13:09:22.193735",
     "status": "completed"
    },
    "tags": []
   },
   "outputs": [],
   "source": [
    "##### data augmentation #####\n",
    "transform_train = transforms.Compose([\n",
    "    transforms.ToTensor(),\n",
    "\n",
    "    # # data augmentation\n",
    "    # transforms.RandomCrop(32, padding=4),\n",
    "    # transforms.RandomHorizontalFlip(),\n",
    "    # transforms.RandomRotation(10),\n",
    "    # transforms.ColorJitter(brightness=0.2, contrast=0.2, saturation=0.2),\n",
    "])\n",
    "\n",
    "transform_test = transforms.Compose([\n",
    "    transforms.ToTensor(),\n",
    "])"
   ]
  },
  {
   "cell_type": "markdown",
   "id": "fa04c747",
   "metadata": {
    "papermill": {
     "duration": 0.024047,
     "end_time": "2025-07-12T13:09:22.271711",
     "exception": false,
     "start_time": "2025-07-12T13:09:22.247664",
     "status": "completed"
    },
    "tags": []
   },
   "source": [
    "### **With normalization**"
   ]
  },
  {
   "cell_type": "code",
   "execution_count": 11,
   "id": "85386c26",
   "metadata": {
    "execution": {
     "iopub.execute_input": "2025-07-12T13:09:22.320433Z",
     "iopub.status.busy": "2025-07-12T13:09:22.320172Z",
     "iopub.status.idle": "2025-07-12T13:09:22.323952Z",
     "shell.execute_reply": "2025-07-12T13:09:22.323426Z"
    },
    "papermill": {
     "duration": 0.029464,
     "end_time": "2025-07-12T13:09:22.324972",
     "exception": false,
     "start_time": "2025-07-12T13:09:22.295508",
     "status": "completed"
    },
    "tags": []
   },
   "outputs": [],
   "source": [
    "transform_train_norm = transforms.Compose([transform_train, transforms.Normalize(mean=train_mean, std=train_std)])\n",
    "transform_test_norm = transforms.Compose([transform_test, transforms.Normalize(mean=test_mean, std=test_std)])"
   ]
  },
  {
   "cell_type": "code",
   "execution_count": 12,
   "id": "8a90a2e9",
   "metadata": {
    "execution": {
     "iopub.execute_input": "2025-07-12T13:09:22.374350Z",
     "iopub.status.busy": "2025-07-12T13:09:22.373718Z",
     "iopub.status.idle": "2025-07-12T13:09:23.991373Z",
     "shell.execute_reply": "2025-07-12T13:09:23.990482Z"
    },
    "id": "oaJyYUXj6rNW",
    "outputId": "4bafd9ae-ce2d-43ca-e04a-30d1f272c38e",
    "papermill": {
     "duration": 1.643976,
     "end_time": "2025-07-12T13:09:23.992724",
     "exception": false,
     "start_time": "2025-07-12T13:09:22.348748",
     "status": "completed"
    },
    "tags": []
   },
   "outputs": [
    {
     "name": "stdout",
     "output_type": "stream",
     "text": [
      "train length:  45000\n",
      "val length:  5000\n",
      "test length:  10000\n"
     ]
    }
   ],
   "source": [
    "# dataset\n",
    "trainset_norm = torchvision.datasets.CIFAR10(root='./data', train=True, download=True, transform=transform_train_norm)\n",
    "test_ds_norm = torchvision.datasets.CIFAR10(root='./data', train=False, download=True, transform=transform_test_norm)\n",
    "\n",
    "# Cifar-10的標籤: ('plane', 'car', 'bird', 'cat', 'deer', 'dog', 'frog', 'horse', 'ship', 'truck')\n",
    "\n",
    "# split validation dataset\n",
    "torch.manual_seed(43)     # 確保每次獲得相同的驗證集\n",
    "val_size = 5000       # 取5000張驗證集(0.1 of trainset)\n",
    "train_size = len(trainset_norm) - val_size\n",
    "train_ds_norm, val_ds_norm = random_split(trainset_norm, [train_size, val_size])\n",
    "print(\"train length: \", len(train_ds_norm))\n",
    "print(\"val length: \", len(val_ds_norm))\n",
    "print(\"test length: \", len(test_ds_norm))\n",
    "\n",
    "# 宣告 batch size\n",
    "BATCH_SIZE = 128\n",
    "trainloader_norm = torch.utils.data.DataLoader(train_ds_norm, batch_size=BATCH_SIZE, shuffle=True, num_workers=2)\n",
    "valloader_norm = torch.utils.data.DataLoader(val_ds_norm, batch_size=BATCH_SIZE, shuffle=False, num_workers=2)\n",
    "testloader_norm = torch.utils.data.DataLoader(test_ds_norm, batch_size=BATCH_SIZE, shuffle=False, num_workers=2)"
   ]
  },
  {
   "cell_type": "code",
   "execution_count": 13,
   "id": "bf8f89d8",
   "metadata": {
    "execution": {
     "iopub.execute_input": "2025-07-12T13:09:24.045066Z",
     "iopub.status.busy": "2025-07-12T13:09:24.044818Z",
     "iopub.status.idle": "2025-07-12T13:42:46.365531Z",
     "shell.execute_reply": "2025-07-12T13:42:46.364627Z"
    },
    "papermill": {
     "duration": 2002.34679,
     "end_time": "2025-07-12T13:42:46.366965",
     "exception": false,
     "start_time": "2025-07-12T13:09:24.020175",
     "status": "completed"
    },
    "tags": []
   },
   "outputs": [
    {
     "name": "stdout",
     "output_type": "stream",
     "text": [
      "train version 1 with normalization...\n",
      "Epoch 1: Train Loss 1.38, Val Loss 1.24, Train Acc 49.72%, Val Acc 55.58%\n",
      "Epoch 2: Train Loss 0.91, Val Loss 1.07, Train Acc 67.63%, Val Acc 62.48%\n",
      "Epoch 3: Train Loss 0.72, Val Loss 0.91, Train Acc 74.89%, Val Acc 69.38%\n",
      "Epoch 4: Train Loss 0.62, Val Loss 0.74, Train Acc 78.72%, Val Acc 73.84%\n",
      "Epoch 5: Train Loss 0.54, Val Loss 0.66, Train Acc 81.38%, Val Acc 76.64%\n",
      "Epoch 6: Train Loss 0.48, Val Loss 0.63, Train Acc 83.82%, Val Acc 78.60%\n",
      "Epoch 7: Train Loss 0.42, Val Loss 0.69, Train Acc 85.67%, Val Acc 76.98%\n",
      "Epoch 8: Train Loss 0.38, Val Loss 0.58, Train Acc 87.17%, Val Acc 80.60%\n",
      "Epoch 9: Train Loss 0.34, Val Loss 0.59, Train Acc 88.37%, Val Acc 80.30%\n",
      "Epoch 10: Train Loss 0.29, Val Loss 0.62, Train Acc 89.76%, Val Acc 79.22%\n",
      "Epoch 11: Train Loss 0.26, Val Loss 0.56, Train Acc 91.31%, Val Acc 81.80%\n",
      "Epoch 12: Train Loss 0.23, Val Loss 0.60, Train Acc 92.15%, Val Acc 81.08%\n",
      "Epoch 13: Train Loss 0.21, Val Loss 0.53, Train Acc 92.93%, Val Acc 82.46%\n",
      "Epoch 14: Train Loss 0.19, Val Loss 0.64, Train Acc 93.57%, Val Acc 80.78%\n",
      "Epoch 15: Train Loss 0.17, Val Loss 0.67, Train Acc 94.26%, Val Acc 80.26%\n",
      "Epoch 16: Train Loss 0.16, Val Loss 0.67, Train Acc 94.63%, Val Acc 80.64%\n",
      "Epoch 17: Train Loss 0.15, Val Loss 0.75, Train Acc 94.92%, Val Acc 79.54%\n",
      "Epoch 18: Train Loss 0.14, Val Loss 0.60, Train Acc 95.18%, Val Acc 82.30%\n",
      "Epoch 19: Train Loss 0.13, Val Loss 0.57, Train Acc 95.38%, Val Acc 82.90%\n",
      "Epoch 20: Train Loss 0.12, Val Loss 0.60, Train Acc 95.84%, Val Acc 82.26%\n",
      "Epoch 21: Train Loss 0.12, Val Loss 0.66, Train Acc 95.92%, Val Acc 81.30%\n",
      "Epoch 22: Train Loss 0.12, Val Loss 0.66, Train Acc 96.05%, Val Acc 80.70%\n",
      "Epoch 23: Train Loss 0.11, Val Loss 0.57, Train Acc 96.21%, Val Acc 82.62%\n",
      "Epoch 24: Train Loss 0.11, Val Loss 0.59, Train Acc 96.28%, Val Acc 83.02%\n",
      "Epoch 25: Train Loss 0.11, Val Loss 0.61, Train Acc 96.15%, Val Acc 82.62%\n",
      "Epoch 26: Train Loss 0.10, Val Loss 0.69, Train Acc 96.66%, Val Acc 80.62%\n",
      "Epoch 27: Train Loss 0.10, Val Loss 0.68, Train Acc 96.51%, Val Acc 81.38%\n",
      "Epoch 28: Train Loss 0.10, Val Loss 0.72, Train Acc 96.58%, Val Acc 80.36%\n",
      "Epoch 29: Train Loss 0.10, Val Loss 0.69, Train Acc 96.69%, Val Acc 81.66%\n",
      "Epoch 30: Train Loss 0.10, Val Loss 0.82, Train Acc 96.73%, Val Acc 79.10%\n",
      "Epoch 31: Train Loss 0.09, Val Loss 0.64, Train Acc 96.95%, Val Acc 82.98%\n",
      "Epoch 32: Train Loss 0.09, Val Loss 0.87, Train Acc 97.06%, Val Acc 78.50%\n",
      "Epoch 33: Train Loss 0.10, Val Loss 0.61, Train Acc 96.60%, Val Acc 83.26%\n",
      "Epoch 34: Train Loss 0.08, Val Loss 0.66, Train Acc 97.17%, Val Acc 82.18%\n",
      "Epoch 35: Train Loss 0.09, Val Loss 0.67, Train Acc 96.94%, Val Acc 82.98%\n",
      "Epoch 36: Train Loss 0.09, Val Loss 0.68, Train Acc 97.01%, Val Acc 81.86%\n",
      "Epoch 37: Train Loss 0.08, Val Loss 0.65, Train Acc 97.20%, Val Acc 82.84%\n",
      "Epoch 38: Train Loss 0.08, Val Loss 0.59, Train Acc 97.18%, Val Acc 83.04%\n",
      "Epoch 39: Train Loss 0.08, Val Loss 0.62, Train Acc 97.11%, Val Acc 83.10%\n",
      "Epoch 40: Train Loss 0.07, Val Loss 0.67, Train Acc 97.47%, Val Acc 81.96%\n",
      "Epoch 41: Train Loss 0.08, Val Loss 0.66, Train Acc 97.45%, Val Acc 82.18%\n",
      "Epoch 42: Train Loss 0.08, Val Loss 0.67, Train Acc 97.33%, Val Acc 82.08%\n",
      "Epoch 43: Train Loss 0.08, Val Loss 0.72, Train Acc 97.33%, Val Acc 81.84%\n",
      "Epoch 44: Train Loss 0.08, Val Loss 0.64, Train Acc 97.47%, Val Acc 82.60%\n",
      "Epoch 45: Train Loss 0.08, Val Loss 0.65, Train Acc 97.42%, Val Acc 82.82%\n",
      "Epoch 46: Train Loss 0.08, Val Loss 0.68, Train Acc 97.42%, Val Acc 82.34%\n",
      "Epoch 47: Train Loss 0.07, Val Loss 0.69, Train Acc 97.88%, Val Acc 81.78%\n",
      "Epoch 48: Train Loss 0.07, Val Loss 0.67, Train Acc 97.56%, Val Acc 81.90%\n",
      "Epoch 49: Train Loss 0.06, Val Loss 0.74, Train Acc 97.92%, Val Acc 80.64%\n",
      "Epoch 50: Train Loss 0.07, Val Loss 0.59, Train Acc 97.47%, Val Acc 83.58%\n",
      "Test Accuracy (with norm): 83.20%\n"
     ]
    }
   ],
   "source": [
    "model_norm = ResNet(ResBlock)\n",
    "\n",
    "print(\"train version 1 with normalization...\")\n",
    "\n",
    "train_losses_norm, val_losses_norm, train_accs_norm, val_accs_norm = train_model(model_norm, trainloader_norm, valloader_norm, EPOCH)\n",
    "test_acc_norm = test_model(model_norm, testloader_norm)\n",
    "\n",
    "print(f\"Test Accuracy (with norm): {test_acc_norm:.2f}%\")"
   ]
  },
  {
   "cell_type": "code",
   "execution_count": 14,
   "id": "03fdb65b",
   "metadata": {
    "execution": {
     "iopub.execute_input": "2025-07-12T13:42:46.421333Z",
     "iopub.status.busy": "2025-07-12T13:42:46.420708Z",
     "iopub.status.idle": "2025-07-12T13:42:46.925010Z",
     "shell.execute_reply": "2025-07-12T13:42:46.924336Z"
    },
    "id": "boGt8nkQBR5V",
    "papermill": {
     "duration": 0.532789,
     "end_time": "2025-07-12T13:42:46.926520",
     "exception": false,
     "start_time": "2025-07-12T13:42:46.393731",
     "status": "completed"
    },
    "tags": []
   },
   "outputs": [
    {
     "data": {
      "image/png": "[encoded data removed]",
      "text/plain": [
       "<Figure size 1200x400 with 2 Axes>"
      ]
     },
     "metadata": {},
     "output_type": "display_data"
    }
   ],
   "source": [
    "import matplotlib.pyplot as plt\n",
    "\n",
    "##### 繪製 loss 和 accuracy 的圖 #####\n",
    "plt.figure(figsize=(12, 4))\n",
    "\n",
    "plt.subplot(1, 2, 1)\n",
    "plt.plot(train_losses_norm, label='Train Loss')\n",
    "plt.plot(val_losses_norm, label='Val Loss')\n",
    "plt.xlabel('Epoch')\n",
    "plt.ylabel('Loss')\n",
    "plt.legend()\n",
    "\n",
    "plt.subplot(1, 2, 2)\n",
    "plt.plot(train_accs_norm, label='Train Accuracy')\n",
    "plt.plot(val_accs_norm, label='Val Accuracy')\n",
    "plt.xlabel('Epoch')\n",
    "plt.ylabel('Accuracy')\n",
    "plt.legend()\n",
    "\n",
    "plt.show()"
   ]
  },
  {
   "cell_type": "markdown",
   "id": "3c0a606f",
   "metadata": {
    "papermill": {
     "duration": 0.027789,
     "end_time": "2025-07-12T13:42:46.981791",
     "exception": false,
     "start_time": "2025-07-12T13:42:46.954002",
     "status": "completed"
    },
    "tags": []
   },
   "source": [
    "### **Without normalization**"
   ]
  },
  {
   "cell_type": "code",
   "execution_count": 15,
   "id": "476c552b",
   "metadata": {
    "execution": {
     "iopub.execute_input": "2025-07-12T13:42:47.036433Z",
     "iopub.status.busy": "2025-07-12T13:42:47.036158Z",
     "iopub.status.idle": "2025-07-12T13:42:47.039744Z",
     "shell.execute_reply": "2025-07-12T13:42:47.039205Z"
    },
    "papermill": {
     "duration": 0.031549,
     "end_time": "2025-07-12T13:42:47.040775",
     "exception": false,
     "start_time": "2025-07-12T13:42:47.009226",
     "status": "completed"
    },
    "tags": []
   },
   "outputs": [],
   "source": [
    "transform_train_no_norm = transform_train\n",
    "transform_test_no_norm = transform_test"
   ]
  },
  {
   "cell_type": "code",
   "execution_count": 16,
   "id": "ccbb1c65",
   "metadata": {
    "execution": {
     "iopub.execute_input": "2025-07-12T13:42:47.095986Z",
     "iopub.status.busy": "2025-07-12T13:42:47.095353Z",
     "iopub.status.idle": "2025-07-12T13:42:48.770624Z",
     "shell.execute_reply": "2025-07-12T13:42:48.769771Z"
    },
    "papermill": {
     "duration": 1.70486,
     "end_time": "2025-07-12T13:42:48.771975",
     "exception": false,
     "start_time": "2025-07-12T13:42:47.067115",
     "status": "completed"
    },
    "tags": []
   },
   "outputs": [
    {
     "name": "stdout",
     "output_type": "stream",
     "text": [
      "train length:  45000\n",
      "val length:  5000\n",
      "test length:  10000\n"
     ]
    }
   ],
   "source": [
    "# dataset\n",
    "trainset_no_norm = torchvision.datasets.CIFAR10(root='./data', train=True, download=True, transform=transform_train_no_norm)\n",
    "test_ds_no_norm = torchvision.datasets.CIFAR10(root='./data', train=False, download=True, transform=transform_test_no_norm)\n",
    "\n",
    "# Cifar-10的標籤: ('plane', 'car', 'bird', 'cat', 'deer', 'dog', 'frog', 'horse', 'ship', 'truck')\n",
    "\n",
    "train_ds_no_norm, val_ds_no_norm = random_split(trainset_no_norm, [train_size, val_size])\n",
    "print(\"train length: \", len(train_ds_no_norm))\n",
    "print(\"val length: \", len(val_ds_no_norm))\n",
    "print(\"test length: \", len(test_ds_no_norm))\n",
    "\n",
    "# 宣告 batch size\n",
    "BATCH_SIZE = 128\n",
    "trainloader_no_norm = torch.utils.data.DataLoader(train_ds_no_norm, batch_size=BATCH_SIZE, shuffle=True, num_workers=2)\n",
    "valloader_no_norm = torch.utils.data.DataLoader(val_ds_no_norm, batch_size=BATCH_SIZE, shuffle=False, num_workers=2)\n",
    "testloader_no_norm = torch.utils.data.DataLoader(test_ds_no_norm, batch_size=BATCH_SIZE, shuffle=False, num_workers=2)"
   ]
  },
  {
   "cell_type": "code",
   "execution_count": 17,
   "id": "064c9f62",
   "metadata": {
    "execution": {
     "iopub.execute_input": "2025-07-12T13:42:48.827694Z",
     "iopub.status.busy": "2025-07-12T13:42:48.827424Z",
     "iopub.status.idle": "2025-07-12T14:16:16.362764Z",
     "shell.execute_reply": "2025-07-12T14:16:16.361760Z"
    },
    "papermill": {
     "duration": 2007.564568,
     "end_time": "2025-07-12T14:16:16.363996",
     "exception": false,
     "start_time": "2025-07-12T13:42:48.799428",
     "status": "completed"
    },
    "tags": []
   },
   "outputs": [
    {
     "name": "stdout",
     "output_type": "stream",
     "text": [
      "train version 1 without normalization...\n",
      "Epoch 1: Train Loss 1.39, Val Loss 1.18, Train Acc 48.78%, Val Acc 56.80%\n",
      "Epoch 2: Train Loss 0.91, Val Loss 1.29, Train Acc 67.80%, Val Acc 57.26%\n",
      "Epoch 3: Train Loss 0.72, Val Loss 0.80, Train Acc 74.94%, Val Acc 71.30%\n",
      "Epoch 4: Train Loss 0.61, Val Loss 0.66, Train Acc 79.06%, Val Acc 77.08%\n",
      "Epoch 5: Train Loss 0.53, Val Loss 0.74, Train Acc 81.76%, Val Acc 74.86%\n",
      "Epoch 6: Train Loss 0.47, Val Loss 0.69, Train Acc 84.09%, Val Acc 76.56%\n",
      "Epoch 7: Train Loss 0.42, Val Loss 0.68, Train Acc 85.84%, Val Acc 77.44%\n",
      "Epoch 8: Train Loss 0.37, Val Loss 0.60, Train Acc 87.29%, Val Acc 79.86%\n",
      "Epoch 9: Train Loss 0.33, Val Loss 0.62, Train Acc 88.51%, Val Acc 78.96%\n",
      "Epoch 10: Train Loss 0.29, Val Loss 0.62, Train Acc 89.99%, Val Acc 79.02%\n",
      "Epoch 11: Train Loss 0.25, Val Loss 0.61, Train Acc 91.29%, Val Acc 80.46%\n",
      "Epoch 12: Train Loss 0.23, Val Loss 0.60, Train Acc 92.17%, Val Acc 81.16%\n",
      "Epoch 13: Train Loss 0.20, Val Loss 0.62, Train Acc 93.12%, Val Acc 81.24%\n",
      "Epoch 14: Train Loss 0.18, Val Loss 0.65, Train Acc 93.78%, Val Acc 80.04%\n",
      "Epoch 15: Train Loss 0.17, Val Loss 0.59, Train Acc 94.18%, Val Acc 82.10%\n",
      "Epoch 16: Train Loss 0.16, Val Loss 0.56, Train Acc 94.61%, Val Acc 83.18%\n",
      "Epoch 17: Train Loss 0.15, Val Loss 0.65, Train Acc 95.00%, Val Acc 82.08%\n",
      "Epoch 18: Train Loss 0.14, Val Loss 0.59, Train Acc 95.20%, Val Acc 82.08%\n",
      "Epoch 19: Train Loss 0.12, Val Loss 0.73, Train Acc 95.73%, Val Acc 79.84%\n",
      "Epoch 20: Train Loss 0.13, Val Loss 0.55, Train Acc 95.39%, Val Acc 83.24%\n",
      "Epoch 21: Train Loss 0.12, Val Loss 0.78, Train Acc 96.04%, Val Acc 77.84%\n",
      "Epoch 22: Train Loss 0.12, Val Loss 0.63, Train Acc 95.92%, Val Acc 82.00%\n",
      "Epoch 23: Train Loss 0.11, Val Loss 0.64, Train Acc 96.22%, Val Acc 82.24%\n",
      "Epoch 24: Train Loss 0.11, Val Loss 0.59, Train Acc 96.30%, Val Acc 82.50%\n",
      "Epoch 25: Train Loss 0.11, Val Loss 0.62, Train Acc 96.16%, Val Acc 82.86%\n",
      "Epoch 26: Train Loss 0.10, Val Loss 0.60, Train Acc 96.68%, Val Acc 83.24%\n",
      "Epoch 27: Train Loss 0.10, Val Loss 0.66, Train Acc 96.46%, Val Acc 81.62%\n",
      "Epoch 28: Train Loss 0.09, Val Loss 0.70, Train Acc 96.84%, Val Acc 81.70%\n",
      "Epoch 29: Train Loss 0.10, Val Loss 0.64, Train Acc 96.56%, Val Acc 82.20%\n",
      "Epoch 30: Train Loss 0.09, Val Loss 0.68, Train Acc 97.00%, Val Acc 82.14%\n",
      "Epoch 31: Train Loss 0.09, Val Loss 0.68, Train Acc 96.90%, Val Acc 82.46%\n",
      "Epoch 32: Train Loss 0.09, Val Loss 0.63, Train Acc 96.79%, Val Acc 82.76%\n",
      "Epoch 33: Train Loss 0.08, Val Loss 0.66, Train Acc 97.41%, Val Acc 82.06%\n",
      "Epoch 34: Train Loss 0.09, Val Loss 0.60, Train Acc 97.10%, Val Acc 82.90%\n",
      "Epoch 35: Train Loss 0.09, Val Loss 0.69, Train Acc 96.98%, Val Acc 81.60%\n",
      "Epoch 36: Train Loss 0.09, Val Loss 0.61, Train Acc 97.13%, Val Acc 83.20%\n",
      "Epoch 37: Train Loss 0.08, Val Loss 0.68, Train Acc 97.27%, Val Acc 82.04%\n",
      "Epoch 38: Train Loss 0.08, Val Loss 0.75, Train Acc 97.15%, Val Acc 80.06%\n",
      "Epoch 39: Train Loss 0.08, Val Loss 0.75, Train Acc 97.33%, Val Acc 80.98%\n",
      "Epoch 40: Train Loss 0.08, Val Loss 0.67, Train Acc 97.32%, Val Acc 82.52%\n",
      "Epoch 41: Train Loss 0.08, Val Loss 0.62, Train Acc 97.36%, Val Acc 82.86%\n",
      "Epoch 42: Train Loss 0.08, Val Loss 0.61, Train Acc 97.38%, Val Acc 83.00%\n",
      "Epoch 43: Train Loss 0.08, Val Loss 0.72, Train Acc 97.51%, Val Acc 82.16%\n",
      "Epoch 44: Train Loss 0.08, Val Loss 0.63, Train Acc 97.53%, Val Acc 83.22%\n",
      "Epoch 45: Train Loss 0.08, Val Loss 0.71, Train Acc 97.40%, Val Acc 81.24%\n",
      "Epoch 46: Train Loss 0.08, Val Loss 0.62, Train Acc 97.39%, Val Acc 82.44%\n",
      "Epoch 47: Train Loss 0.07, Val Loss 0.67, Train Acc 97.77%, Val Acc 81.36%\n",
      "Epoch 48: Train Loss 0.07, Val Loss 0.64, Train Acc 97.68%, Val Acc 83.26%\n",
      "Epoch 49: Train Loss 0.07, Val Loss 0.69, Train Acc 97.44%, Val Acc 81.20%\n",
      "Epoch 50: Train Loss 0.07, Val Loss 0.67, Train Acc 97.82%, Val Acc 82.56%\n",
      "Test Accuracy (without norm): 81.92%\n"
     ]
    }
   ],
   "source": [
    "model_no_norm = ResNet(ResBlock)\n",
    "\n",
    "print(\"train version 1 without normalization...\")\n",
    "\n",
    "train_losses_no_norm, val_losses_no_norm, train_accs_no_norm, val_accs_no_norm = train_model(model_no_norm, trainloader_no_norm, valloader_no_norm, EPOCH)\n",
    "test_acc_no_norm = test_model(model_no_norm, testloader_no_norm)\n",
    "\n",
    "print(f\"Test Accuracy (without norm): {test_acc_no_norm:.2f}%\")"
   ]
  },
  {
   "cell_type": "code",
   "execution_count": 18,
   "id": "41282acd",
   "metadata": {
    "execution": {
     "iopub.execute_input": "2025-07-12T14:16:16.425715Z",
     "iopub.status.busy": "2025-07-12T14:16:16.424933Z",
     "iopub.status.idle": "2025-07-12T14:16:16.694615Z",
     "shell.execute_reply": "2025-07-12T14:16:16.693883Z"
    },
    "papermill": {
     "duration": 0.301559,
     "end_time": "2025-07-12T14:16:16.696013",
     "exception": false,
     "start_time": "2025-07-12T14:16:16.394454",
     "status": "completed"
    },
    "tags": []
   },
   "outputs": [
    {
     "data": {
      "image/png": "[encoded data removed]",
      "text/plain": [
       "<Figure size 1200x400 with 2 Axes>"
      ]
     },
     "metadata": {},
     "output_type": "display_data"
    }
   ],
   "source": [
    "##### 繪製 loss 和 accuracy 的圖 #####\n",
    "plt.figure(figsize=(12, 4))\n",
    "\n",
    "plt.subplot(1, 2, 1)\n",
    "plt.plot(train_losses_no_norm, label='Train Loss')\n",
    "plt.plot(val_losses_no_norm, label='Val Loss')\n",
    "plt.xlabel('Epoch')\n",
    "plt.ylabel('Loss')\n",
    "plt.legend()\n",
    "\n",
    "plt.subplot(1, 2, 2)\n",
    "plt.plot(train_accs_no_norm, label='Train Accuracy')\n",
    "plt.plot(val_accs_no_norm, label='Val Accuracy')\n",
    "plt.xlabel('Epoch')\n",
    "plt.ylabel('Accuracy')\n",
    "plt.legend()\n",
    "\n",
    "plt.show()"
   ]
  }
 ],
 "metadata": {
  "accelerator": "GPU",
  "colab": {
   "provenance": []
  },
  "kaggle": {
   "accelerator": "nvidiaTeslaT4",
   "dataSources": [
    {
     "isSourceIdPinned": true,
     "modelId": 398398,
     "modelInstanceId": 377976,
     "sourceId": 468542,
     "sourceType": "modelInstanceVersion"
    }
   ],
   "dockerImageVersionId": 31090,
   "isGpuEnabled": true,
   "isInternetEnabled": true,
   "language": "python",
   "sourceType": "notebook"
  },
  "kernelspec": {
   "display_name": "Python 3",
   "language": "python",
   "name": "python3"
  },
  "language_info": {
   "codemirror_mode": {
    "name": "ipython",
    "version": 3
   },
   "file_extension": ".py",
   "mimetype": "text/x-python",
   "name": "python",
   "nbconvert_exporter": "python",
   "pygments_lexer": "ipython3",
   "version": "3.11.13"
  },
  "papermill": {
   "default_parameters": {},
   "duration": 4156.627094,
   "end_time": "2025-07-12T14:16:19.637155",
   "environment_variables": {},
   "exception": null,
   "input_path": "__notebook__.ipynb",
   "output_path": "__notebook__.ipynb",
   "parameters": {},
   "start_time": "2025-07-12T13:07:03.010061",
   "version": "2.6.0"
  }
 },
 "nbformat": 4,
 "nbformat_minor": 5
}
