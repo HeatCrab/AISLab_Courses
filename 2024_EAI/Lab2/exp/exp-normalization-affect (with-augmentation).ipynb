{
 "cells": [
  {
   "cell_type": "code",
   "execution_count": 1,
   "id": "73d8ab23",
   "metadata": {
    "execution": {
     "iopub.execute_input": "2025-07-12T11:12:37.508486Z",
     "iopub.status.busy": "2025-07-12T11:12:37.508274Z",
     "iopub.status.idle": "2025-07-12T11:13:47.545935Z",
     "shell.execute_reply": "2025-07-12T11:13:47.545177Z"
    },
    "id": "3a_T1sve46zm",
    "outputId": "31fcc0ef-781a-498f-a6a5-1c56eaeb9f1d",
    "papermill": {
     "duration": 70.043766,
     "end_time": "2025-07-12T11:13:47.547863",
     "exception": false,
     "start_time": "2025-07-12T11:12:37.504097",
     "status": "completed"
    },
    "tags": []
   },
   "outputs": [
    {
     "name": "stdout",
     "output_type": "stream",
     "text": [
      "Collecting thop\r\n",
      "  Downloading thop-0.1.1.post2209072238-py3-none-any.whl.metadata (2.7 kB)\r\n",
      "Requirement already satisfied: torch in /usr/local/lib/python3.11/dist-packages (from thop) (2.6.0+cu124)\r\n",
      "Requirement already satisfied: filelock in /usr/local/lib/python3.11/dist-packages (from torch->thop) (3.18.0)\r\n",
      "Requirement already satisfied: typing-extensions>=4.10.0 in /usr/local/lib/python3.11/dist-packages (from torch->thop) (4.14.0)\r\n",
      "Requirement already satisfied: networkx in /usr/local/lib/python3.11/dist-packages (from torch->thop) (3.5)\r\n",
      "Requirement already satisfied: jinja2 in /usr/local/lib/python3.11/dist-packages (from torch->thop) (3.1.6)\r\n",
      "Requirement already satisfied: fsspec in /usr/local/lib/python3.11/dist-packages (from torch->thop) (2025.5.1)\r\n",
      "Collecting nvidia-cuda-nvrtc-cu12==12.4.127 (from torch->thop)\r\n",
      "  Downloading nvidia_cuda_nvrtc_cu12-12.4.127-py3-none-manylinux2014_x86_64.whl.metadata (1.5 kB)\r\n",
      "Collecting nvidia-cuda-runtime-cu12==12.4.127 (from torch->thop)\r\n",
      "  Downloading nvidia_cuda_runtime_cu12-12.4.127-py3-none-manylinux2014_x86_64.whl.metadata (1.5 kB)\r\n",
      "Collecting nvidia-cuda-cupti-cu12==12.4.127 (from torch->thop)\r\n",
      "  Downloading nvidia_cuda_cupti_cu12-12.4.127-py3-none-manylinux2014_x86_64.whl.metadata (1.6 kB)\r\n",
      "Collecting nvidia-cudnn-cu12==9.1.0.70 (from torch->thop)\r\n",
      "  Downloading nvidia_cudnn_cu12-9.1.0.70-py3-none-manylinux2014_x86_64.whl.metadata (1.6 kB)\r\n",
      "Collecting nvidia-cublas-cu12==12.4.5.8 (from torch->thop)\r\n",
      "  Downloading nvidia_cublas_cu12-12.4.5.8-py3-none-manylinux2014_x86_64.whl.metadata (1.5 kB)\r\n",
      "Collecting nvidia-cufft-cu12==11.2.1.3 (from torch->thop)\r\n",
      "  Downloading nvidia_cufft_cu12-11.2.1.3-py3-none-manylinux2014_x86_64.whl.metadata (1.5 kB)\r\n",
      "Collecting nvidia-curand-cu12==10.3.5.147 (from torch->thop)\r\n",
      "  Downloading nvidia_curand_cu12-10.3.5.147-py3-none-manylinux2014_x86_64.whl.metadata (1.5 kB)\r\n",
      "Collecting nvidia-cusolver-cu12==11.6.1.9 (from torch->thop)\r\n",
      "  Downloading nvidia_cusolver_cu12-11.6.1.9-py3-none-manylinux2014_x86_64.whl.metadata (1.6 kB)\r\n",
      "Collecting nvidia-cusparse-cu12==12.3.1.170 (from torch->thop)\r\n",
      "  Downloading nvidia_cusparse_cu12-12.3.1.170-py3-none-manylinux2014_x86_64.whl.metadata (1.6 kB)\r\n",
      "Requirement already satisfied: nvidia-cusparselt-cu12==0.6.2 in /usr/local/lib/python3.11/dist-packages (from torch->thop) (0.6.2)\r\n",
      "Requirement already satisfied: nvidia-nccl-cu12==2.21.5 in /usr/local/lib/python3.11/dist-packages (from torch->thop) (2.21.5)\r\n",
      "Requirement already satisfied: nvidia-nvtx-cu12==12.4.127 in /usr/local/lib/python3.11/dist-packages (from torch->thop) (12.4.127)\r\n",
      "Collecting nvidia-nvjitlink-cu12==12.4.127 (from torch->thop)\r\n",
      "  Downloading nvidia_nvjitlink_cu12-12.4.127-py3-none-manylinux2014_x86_64.whl.metadata (1.5 kB)\r\n",
      "Requirement already satisfied: triton==3.2.0 in /usr/local/lib/python3.11/dist-packages (from torch->thop) (3.2.0)\r\n",
      "Requirement already satisfied: sympy==1.13.1 in /usr/local/lib/python3.11/dist-packages (from torch->thop) (1.13.1)\r\n",
      "Requirement already satisfied: mpmath<1.4,>=1.1.0 in /usr/local/lib/python3.11/dist-packages (from sympy==1.13.1->torch->thop) (1.3.0)\r\n",
      "Requirement already satisfied: MarkupSafe>=2.0 in /usr/local/lib/python3.11/dist-packages (from jinja2->torch->thop) (3.0.2)\r\n",
      "Downloading thop-0.1.1.post2209072238-py3-none-any.whl (15 kB)\r\n",
      "Downloading nvidia_cublas_cu12-12.4.5.8-py3-none-manylinux2014_x86_64.whl (363.4 MB)\r\n",
      "\u001b[2K   \u001b[90m━━━━━━━━━━━━━━━━━━━━━━━━━━━━━━━━━━━━━━━━\u001b[0m \u001b[32m363.4/363.4 MB\u001b[0m \u001b[31m4.7 MB/s\u001b[0m eta \u001b[36m0:00:00\u001b[0m\r\n",
      "\u001b[?25hDownloading nvidia_cuda_cupti_cu12-12.4.127-py3-none-manylinux2014_x86_64.whl (13.8 MB)\r\n",
      "\u001b[2K   \u001b[90m━━━━━━━━━━━━━━━━━━━━━━━━━━━━━━━━━━━━━━━━\u001b[0m \u001b[32m13.8/13.8 MB\u001b[0m \u001b[31m90.2 MB/s\u001b[0m eta \u001b[36m0:00:00\u001b[0m\r\n",
      "\u001b[?25hDownloading nvidia_cuda_nvrtc_cu12-12.4.127-py3-none-manylinux2014_x86_64.whl (24.6 MB)\r\n",
      "\u001b[2K   \u001b[90m━━━━━━━━━━━━━━━━━━━━━━━━━━━━━━━━━━━━━━━━\u001b[0m \u001b[32m24.6/24.6 MB\u001b[0m \u001b[31m66.8 MB/s\u001b[0m eta \u001b[36m0:00:00\u001b[0m\r\n",
      "\u001b[?25hDownloading nvidia_cuda_runtime_cu12-12.4.127-py3-none-manylinux2014_x86_64.whl (883 kB)\r\n",
      "\u001b[2K   \u001b[90m━━━━━━━━━━━━━━━━━━━━━━━━━━━━━━━━━━━━━━━━\u001b[0m \u001b[32m883.7/883.7 kB\u001b[0m \u001b[31m43.3 MB/s\u001b[0m eta \u001b[36m0:00:00\u001b[0m\r\n",
      "\u001b[?25hDownloading nvidia_cudnn_cu12-9.1.0.70-py3-none-manylinux2014_x86_64.whl (664.8 MB)\r\n",
      "\u001b[2K   \u001b[90m━━━━━━━━━━━━━━━━━━━━━━━━━━━━━━━━━━━━━━━━\u001b[0m \u001b[32m664.8/664.8 MB\u001b[0m \u001b[31m2.6 MB/s\u001b[0m eta \u001b[36m0:00:00\u001b[0m\r\n",
      "\u001b[?25hDownloading nvidia_cufft_cu12-11.2.1.3-py3-none-manylinux2014_x86_64.whl (211.5 MB)\r\n",
      "\u001b[2K   \u001b[90m━━━━━━━━━━━━━━━━━━━━━━━━━━━━━━━━━━━━━━━━\u001b[0m \u001b[32m211.5/211.5 MB\u001b[0m \u001b[31m7.7 MB/s\u001b[0m eta \u001b[36m0:00:00\u001b[0m\r\n",
      "\u001b[?25hDownloading nvidia_curand_cu12-10.3.5.147-py3-none-manylinux2014_x86_64.whl (56.3 MB)\r\n",
      "\u001b[2K   \u001b[90m━━━━━━━━━━━━━━━━━━━━━━━━━━━━━━━━━━━━━━━━\u001b[0m \u001b[32m56.3/56.3 MB\u001b[0m \u001b[31m20.6 MB/s\u001b[0m eta \u001b[36m0:00:00\u001b[0m\r\n",
      "\u001b[?25hDownloading nvidia_cusolver_cu12-11.6.1.9-py3-none-manylinux2014_x86_64.whl (127.9 MB)\r\n",
      "\u001b[2K   \u001b[90m━━━━━━━━━━━━━━━━━━━━━━━━━━━━━━━━━━━━━━━━\u001b[0m \u001b[32m127.9/127.9 MB\u001b[0m \u001b[31m13.6 MB/s\u001b[0m eta \u001b[36m0:00:00\u001b[0m\r\n",
      "\u001b[?25hDownloading nvidia_cusparse_cu12-12.3.1.170-py3-none-manylinux2014_x86_64.whl (207.5 MB)\r\n",
      "\u001b[2K   \u001b[90m━━━━━━━━━━━━━━━━━━━━━━━━━━━━━━━━━━━━━━━━\u001b[0m \u001b[32m207.5/207.5 MB\u001b[0m \u001b[31m8.3 MB/s\u001b[0m eta \u001b[36m0:00:00\u001b[0m\r\n",
      "\u001b[?25hDownloading nvidia_nvjitlink_cu12-12.4.127-py3-none-manylinux2014_x86_64.whl (21.1 MB)\r\n",
      "\u001b[2K   \u001b[90m━━━━━━━━━━━━━━━━━━━━━━━━━━━━━━━━━━━━━━━━\u001b[0m \u001b[32m21.1/21.1 MB\u001b[0m \u001b[31m75.4 MB/s\u001b[0m eta \u001b[36m0:00:00\u001b[0m\r\n",
      "\u001b[?25hInstalling collected packages: nvidia-nvjitlink-cu12, nvidia-curand-cu12, nvidia-cufft-cu12, nvidia-cuda-runtime-cu12, nvidia-cuda-nvrtc-cu12, nvidia-cuda-cupti-cu12, nvidia-cublas-cu12, nvidia-cusparse-cu12, nvidia-cudnn-cu12, nvidia-cusolver-cu12, thop\r\n",
      "  Attempting uninstall: nvidia-nvjitlink-cu12\r\n",
      "    Found existing installation: nvidia-nvjitlink-cu12 12.5.82\r\n",
      "    Uninstalling nvidia-nvjitlink-cu12-12.5.82:\r\n",
      "      Successfully uninstalled nvidia-nvjitlink-cu12-12.5.82\r\n",
      "  Attempting uninstall: nvidia-curand-cu12\r\n",
      "    Found existing installation: nvidia-curand-cu12 10.3.6.82\r\n",
      "    Uninstalling nvidia-curand-cu12-10.3.6.82:\r\n",
      "      Successfully uninstalled nvidia-curand-cu12-10.3.6.82\r\n",
      "  Attempting uninstall: nvidia-cufft-cu12\r\n",
      "    Found existing installation: nvidia-cufft-cu12 11.2.3.61\r\n",
      "    Uninstalling nvidia-cufft-cu12-11.2.3.61:\r\n",
      "      Successfully uninstalled nvidia-cufft-cu12-11.2.3.61\r\n",
      "  Attempting uninstall: nvidia-cuda-runtime-cu12\r\n",
      "    Found existing installation: nvidia-cuda-runtime-cu12 12.5.82\r\n",
      "    Uninstalling nvidia-cuda-runtime-cu12-12.5.82:\r\n",
      "      Successfully uninstalled nvidia-cuda-runtime-cu12-12.5.82\r\n",
      "  Attempting uninstall: nvidia-cuda-nvrtc-cu12\r\n",
      "    Found existing installation: nvidia-cuda-nvrtc-cu12 12.5.82\r\n",
      "    Uninstalling nvidia-cuda-nvrtc-cu12-12.5.82:\r\n",
      "      Successfully uninstalled nvidia-cuda-nvrtc-cu12-12.5.82\r\n",
      "  Attempting uninstall: nvidia-cuda-cupti-cu12\r\n",
      "    Found existing installation: nvidia-cuda-cupti-cu12 12.5.82\r\n",
      "    Uninstalling nvidia-cuda-cupti-cu12-12.5.82:\r\n",
      "      Successfully uninstalled nvidia-cuda-cupti-cu12-12.5.82\r\n",
      "  Attempting uninstall: nvidia-cublas-cu12\r\n",
      "    Found existing installation: nvidia-cublas-cu12 12.5.3.2\r\n",
      "    Uninstalling nvidia-cublas-cu12-12.5.3.2:\r\n",
      "      Successfully uninstalled nvidia-cublas-cu12-12.5.3.2\r\n",
      "  Attempting uninstall: nvidia-cusparse-cu12\r\n",
      "    Found existing installation: nvidia-cusparse-cu12 12.5.1.3\r\n",
      "    Uninstalling nvidia-cusparse-cu12-12.5.1.3:\r\n",
      "      Successfully uninstalled nvidia-cusparse-cu12-12.5.1.3\r\n",
      "  Attempting uninstall: nvidia-cudnn-cu12\r\n",
      "    Found existing installation: nvidia-cudnn-cu12 9.3.0.75\r\n",
      "    Uninstalling nvidia-cudnn-cu12-9.3.0.75:\r\n",
      "      Successfully uninstalled nvidia-cudnn-cu12-9.3.0.75\r\n",
      "  Attempting uninstall: nvidia-cusolver-cu12\r\n",
      "    Found existing installation: nvidia-cusolver-cu12 11.6.3.83\r\n",
      "    Uninstalling nvidia-cusolver-cu12-11.6.3.83:\r\n",
      "      Successfully uninstalled nvidia-cusolver-cu12-11.6.3.83\r\n",
      "Successfully installed nvidia-cublas-cu12-12.4.5.8 nvidia-cuda-cupti-cu12-12.4.127 nvidia-cuda-nvrtc-cu12-12.4.127 nvidia-cuda-runtime-cu12-12.4.127 nvidia-cudnn-cu12-9.1.0.70 nvidia-cufft-cu12-11.2.1.3 nvidia-curand-cu12-10.3.5.147 nvidia-cusolver-cu12-11.6.1.9 nvidia-cusparse-cu12-12.3.1.170 nvidia-nvjitlink-cu12-12.4.127 thop-0.1.1.post2209072238\r\n",
      "Requirement already satisfied: torchsummary in /usr/local/lib/python3.11/dist-packages (1.5.1)\r\n"
     ]
    }
   ],
   "source": [
    "! pip install thop\n",
    "! pip install torchsummary"
   ]
  },
  {
   "cell_type": "code",
   "execution_count": 2,
   "id": "eb46e9f9",
   "metadata": {
    "execution": {
     "iopub.execute_input": "2025-07-12T11:13:47.587117Z",
     "iopub.status.busy": "2025-07-12T11:13:47.586862Z",
     "iopub.status.idle": "2025-07-12T11:14:11.075587Z",
     "shell.execute_reply": "2025-07-12T11:14:11.074971Z"
    },
    "id": "uTY8C-LBhDTX",
    "papermill": {
     "duration": 23.509731,
     "end_time": "2025-07-12T11:14:11.077011",
     "exception": false,
     "start_time": "2025-07-12T11:13:47.567280",
     "status": "completed"
    },
    "tags": []
   },
   "outputs": [
    {
     "name": "stderr",
     "output_type": "stream",
     "text": [
      "2025-07-12 11:13:57.125593: E external/local_xla/xla/stream_executor/cuda/cuda_fft.cc:477] Unable to register cuFFT factory: Attempting to register factory for plugin cuFFT when one has already been registered\n",
      "WARNING: All log messages before absl::InitializeLog() is called are written to STDERR\n",
      "E0000 00:00:1752318837.315008      19 cuda_dnn.cc:8310] Unable to register cuDNN factory: Attempting to register factory for plugin cuDNN when one has already been registered\n",
      "E0000 00:00:1752318837.370819      19 cuda_blas.cc:1418] Unable to register cuBLAS factory: Attempting to register factory for plugin cuBLAS when one has already been registered\n"
     ]
    }
   ],
   "source": [
    "import torch\n",
    "import torch.nn as nn\n",
    "import torch.nn.functional as F\n",
    "import torch.optim as optim\n",
    "import torchvision\n",
    "import torchvision.transforms as transforms\n",
    "import argparse\n",
    "import os\n",
    "import numpy as np\n",
    "from torch.utils.data import random_split\n",
    "from torch.utils.tensorboard import SummaryWriter\n"
   ]
  },
  {
   "cell_type": "code",
   "execution_count": 3,
   "id": "2f64aa0d",
   "metadata": {
    "execution": {
     "iopub.execute_input": "2025-07-12T11:14:11.116319Z",
     "iopub.status.busy": "2025-07-12T11:14:11.115821Z",
     "iopub.status.idle": "2025-07-12T11:14:11.120380Z",
     "shell.execute_reply": "2025-07-12T11:14:11.119900Z"
    },
    "id": "io7k6zHGb1OJ",
    "papermill": {
     "duration": 0.024976,
     "end_time": "2025-07-12T11:14:11.121427",
     "exception": false,
     "start_time": "2025-07-12T11:14:11.096451",
     "status": "completed"
    },
    "tags": []
   },
   "outputs": [],
   "source": [
    "# Create SummaryWriter\n",
    "writer = SummaryWriter(\"../tensorboard\")"
   ]
  },
  {
   "cell_type": "code",
   "execution_count": 4,
   "id": "6b2ccaff",
   "metadata": {
    "execution": {
     "iopub.execute_input": "2025-07-12T11:14:11.160036Z",
     "iopub.status.busy": "2025-07-12T11:14:11.159843Z",
     "iopub.status.idle": "2025-07-12T11:14:11.239804Z",
     "shell.execute_reply": "2025-07-12T11:14:11.239138Z"
    },
    "id": "oqc_D_uEhc1O",
    "outputId": "4ac3d5f8-a008-47bf-819b-e168d3f3295f",
    "papermill": {
     "duration": 0.100187,
     "end_time": "2025-07-12T11:14:11.240801",
     "exception": false,
     "start_time": "2025-07-12T11:14:11.140614",
     "status": "completed"
    },
    "tags": []
   },
   "outputs": [
    {
     "name": "stdout",
     "output_type": "stream",
     "text": [
      "True\n"
     ]
    }
   ],
   "source": [
    "#檢查是否可用gpu\n",
    "print(torch.cuda.is_available())"
   ]
  },
  {
   "cell_type": "code",
   "execution_count": 5,
   "id": "90d95936",
   "metadata": {
    "execution": {
     "iopub.execute_input": "2025-07-12T11:14:11.279960Z",
     "iopub.status.busy": "2025-07-12T11:14:11.279706Z",
     "iopub.status.idle": "2025-07-12T11:14:21.046710Z",
     "shell.execute_reply": "2025-07-12T11:14:21.045750Z"
    },
    "id": "3LzusjVfhxJ3",
    "outputId": "7bd1f5fa-b17c-441f-842a-4e697a9e5ad6",
    "papermill": {
     "duration": 9.78798,
     "end_time": "2025-07-12T11:14:21.048023",
     "exception": false,
     "start_time": "2025-07-12T11:14:11.260043",
     "status": "completed"
    },
    "tags": []
   },
   "outputs": [
    {
     "name": "stderr",
     "output_type": "stream",
     "text": [
      "100%|██████████| 170M/170M [00:01<00:00, 95.9MB/s]\n"
     ]
    },
    {
     "name": "stdout",
     "output_type": "stream",
     "text": [
      "[0.4922416  0.48318213 0.44793716] [0.24669252 0.2434348  0.26193854]\n",
      "[0.4922416  0.48318213 0.44793716] [0.24669252 0.2434348  0.26193854]\n"
     ]
    }
   ],
   "source": [
    "# 計算normalization需要的 mean & std\n",
    "def get_mean_std(dataset, ratio=0.3):\n",
    "    # Get mean and std by sample ratio\n",
    "    dataloader = torch.utils.data.DataLoader(dataset, batch_size=int(len(dataset)*ratio), shuffle=True, num_workers=2)\n",
    "\n",
    "    data = next(iter(dataloader))[0]     # get the first iteration data\n",
    "    mean = np.mean(data.numpy(), axis=(0,2,3))\n",
    "    std = np.std(data.numpy(), axis=(0,2,3))\n",
    "    return mean, std\n",
    "\n",
    "train_dataset = torchvision.datasets.CIFAR10(root='./data', train=True, download=True, transform=transforms.ToTensor())\n",
    "test_dataset = torchvision.datasets.CIFAR10(root='./data', train=False, download=True, transform=transforms.ToTensor())\n",
    "\n",
    "train_mean, train_std = get_mean_std(train_dataset)\n",
    "test_mean, test_std = train_mean, train_std\n",
    "print(train_mean, train_std)\n",
    "print(test_mean, test_std)"
   ]
  },
  {
   "cell_type": "code",
   "execution_count": 6,
   "id": "2520a7a5",
   "metadata": {
    "execution": {
     "iopub.execute_input": "2025-07-12T11:14:21.091001Z",
     "iopub.status.busy": "2025-07-12T11:14:21.090702Z",
     "iopub.status.idle": "2025-07-12T11:14:21.094699Z",
     "shell.execute_reply": "2025-07-12T11:14:21.094132Z"
    },
    "papermill": {
     "duration": 0.025817,
     "end_time": "2025-07-12T11:14:21.095675",
     "exception": false,
     "start_time": "2025-07-12T11:14:21.069858",
     "status": "completed"
    },
    "tags": []
   },
   "outputs": [],
   "source": [
    "##### setting parameter #####\n",
    "EPOCH = 50\n",
    "lr = 0.001\n",
    "device = torch.device(\"cuda\" if torch.cuda.is_available() else \"cpu\")"
   ]
  },
  {
   "cell_type": "code",
   "execution_count": 7,
   "id": "0b815309",
   "metadata": {
    "execution": {
     "iopub.execute_input": "2025-07-12T11:14:21.180682Z",
     "iopub.status.busy": "2025-07-12T11:14:21.180410Z",
     "iopub.status.idle": "2025-07-12T11:14:21.803691Z",
     "shell.execute_reply": "2025-07-12T11:14:21.802740Z"
    },
    "papermill": {
     "duration": 0.689694,
     "end_time": "2025-07-12T11:14:21.804966",
     "exception": false,
     "start_time": "2025-07-12T11:14:21.115272",
     "status": "completed"
    },
    "tags": []
   },
   "outputs": [
    {
     "name": "stdout",
     "output_type": "stream",
     "text": [
      "----------------------------------------------------------------\n",
      "        Layer (type)               Output Shape         Param #\n",
      "================================================================\n",
      "            Conv2d-1           [-1, 64, 32, 32]           1,728\n",
      "       BatchNorm2d-2           [-1, 64, 32, 32]             128\n",
      "              ReLU-3           [-1, 64, 32, 32]               0\n",
      "            Conv2d-4           [-1, 64, 32, 32]          36,864\n",
      "       BatchNorm2d-5           [-1, 64, 32, 32]             128\n",
      "              ReLU-6           [-1, 64, 32, 32]               0\n",
      "            Conv2d-7           [-1, 64, 32, 32]          36,864\n",
      "       BatchNorm2d-8           [-1, 64, 32, 32]             128\n",
      "          ResBlock-9           [-1, 64, 32, 32]               0\n",
      "           Conv2d-10           [-1, 64, 32, 32]          36,864\n",
      "      BatchNorm2d-11           [-1, 64, 32, 32]             128\n",
      "             ReLU-12           [-1, 64, 32, 32]               0\n",
      "           Conv2d-13           [-1, 64, 32, 32]          36,864\n",
      "      BatchNorm2d-14           [-1, 64, 32, 32]             128\n",
      "         ResBlock-15           [-1, 64, 32, 32]               0\n",
      "           Conv2d-16          [-1, 128, 16, 16]          73,728\n",
      "      BatchNorm2d-17          [-1, 128, 16, 16]             256\n",
      "             ReLU-18          [-1, 128, 16, 16]               0\n",
      "           Conv2d-19          [-1, 128, 16, 16]         147,456\n",
      "      BatchNorm2d-20          [-1, 128, 16, 16]             256\n",
      "           Conv2d-21          [-1, 128, 16, 16]           8,192\n",
      "      BatchNorm2d-22          [-1, 128, 16, 16]             256\n",
      "         ResBlock-23          [-1, 128, 16, 16]               0\n",
      "           Conv2d-24          [-1, 128, 16, 16]         147,456\n",
      "      BatchNorm2d-25          [-1, 128, 16, 16]             256\n",
      "             ReLU-26          [-1, 128, 16, 16]               0\n",
      "           Conv2d-27          [-1, 128, 16, 16]         147,456\n",
      "      BatchNorm2d-28          [-1, 128, 16, 16]             256\n",
      "         ResBlock-29          [-1, 128, 16, 16]               0\n",
      "           Conv2d-30            [-1, 256, 8, 8]         294,912\n",
      "      BatchNorm2d-31            [-1, 256, 8, 8]             512\n",
      "             ReLU-32            [-1, 256, 8, 8]               0\n",
      "           Conv2d-33            [-1, 256, 8, 8]         589,824\n",
      "      BatchNorm2d-34            [-1, 256, 8, 8]             512\n",
      "           Conv2d-35            [-1, 256, 8, 8]          32,768\n",
      "      BatchNorm2d-36            [-1, 256, 8, 8]             512\n",
      "         ResBlock-37            [-1, 256, 8, 8]               0\n",
      "           Conv2d-38            [-1, 256, 8, 8]         589,824\n",
      "      BatchNorm2d-39            [-1, 256, 8, 8]             512\n",
      "             ReLU-40            [-1, 256, 8, 8]               0\n",
      "           Conv2d-41            [-1, 256, 8, 8]         589,824\n",
      "      BatchNorm2d-42            [-1, 256, 8, 8]             512\n",
      "         ResBlock-43            [-1, 256, 8, 8]               0\n",
      "           Conv2d-44            [-1, 512, 4, 4]       1,179,648\n",
      "      BatchNorm2d-45            [-1, 512, 4, 4]           1,024\n",
      "             ReLU-46            [-1, 512, 4, 4]               0\n",
      "           Conv2d-47            [-1, 512, 4, 4]       2,359,296\n",
      "      BatchNorm2d-48            [-1, 512, 4, 4]           1,024\n",
      "           Conv2d-49            [-1, 512, 4, 4]         131,072\n",
      "      BatchNorm2d-50            [-1, 512, 4, 4]           1,024\n",
      "         ResBlock-51            [-1, 512, 4, 4]               0\n",
      "           Conv2d-52            [-1, 512, 4, 4]       2,359,296\n",
      "      BatchNorm2d-53            [-1, 512, 4, 4]           1,024\n",
      "             ReLU-54            [-1, 512, 4, 4]               0\n",
      "           Conv2d-55            [-1, 512, 4, 4]       2,359,296\n",
      "      BatchNorm2d-56            [-1, 512, 4, 4]           1,024\n",
      "         ResBlock-57            [-1, 512, 4, 4]               0\n",
      "           Linear-58                   [-1, 10]           5,130\n",
      "================================================================\n",
      "Total params: 11,173,962\n",
      "Trainable params: 11,173,962\n",
      "Non-trainable params: 0\n",
      "----------------------------------------------------------------\n",
      "Input size (MB): 0.01\n",
      "Forward/backward pass size (MB): 13.63\n",
      "Params size (MB): 42.63\n",
      "Estimated Total Size (MB): 56.26\n",
      "----------------------------------------------------------------\n",
      "[INFO] Register count_convNd() for <class 'torch.nn.modules.conv.Conv2d'>.\n",
      "[INFO] Register count_normalization() for <class 'torch.nn.modules.batchnorm.BatchNorm2d'>.\n",
      "[INFO] Register zero_ops() for <class 'torch.nn.modules.activation.ReLU'>.\n",
      "[INFO] Register zero_ops() for <class 'torch.nn.modules.container.Sequential'>.\n",
      "[INFO] Register count_linear() for <class 'torch.nn.modules.linear.Linear'>.\n",
      "FLOPs: 557880320.0\n",
      "Params: 11173962.0\n"
     ]
    }
   ],
   "source": [
    "from thop import profile\n",
    "from torchsummary import summary\n",
    "import sys\n",
    "sys.path.append('/kaggle/input/resnet/pytorch/default/1')\n",
    "from resnet18 import *\n",
    "##### 使用 thop 計算 FLOPs 和參數數量 #####\n",
    "# 宣告model\n",
    "model = ResNet(ResBlock).to(device)\n",
    "summary(model, (3, 32, 32))\n",
    "\n",
    "input = torch.randn(1, 3, 32, 32).to(device)\n",
    "flops, params = profile(model, inputs=(input, ))\n",
    "\n",
    "print(f\"FLOPs: {flops}\")\n",
    "print(f\"Params: {params}\")"
   ]
  },
  {
   "cell_type": "code",
   "execution_count": 8,
   "id": "67c3bc72",
   "metadata": {
    "execution": {
     "iopub.execute_input": "2025-07-12T11:14:21.848155Z",
     "iopub.status.busy": "2025-07-12T11:14:21.847887Z",
     "iopub.status.idle": "2025-07-12T11:14:21.856473Z",
     "shell.execute_reply": "2025-07-12T11:14:21.855821Z"
    },
    "papermill": {
     "duration": 0.030807,
     "end_time": "2025-07-12T11:14:21.857550",
     "exception": false,
     "start_time": "2025-07-12T11:14:21.826743",
     "status": "completed"
    },
    "tags": []
   },
   "outputs": [],
   "source": [
    "def train_model(model, trainloader, valloader, epochs):\n",
    "    model.to(device)\n",
    "    criterion = nn.CrossEntropyLoss()\n",
    "    optimizer = optim.Adam(model.parameters(), lr=lr, weight_decay=5e-4)\n",
    "    scheduler = optim.lr_scheduler.CosineAnnealingLR(optimizer, T_max=200)\n",
    "    \n",
    "    train_losses, val_losses, train_accs, val_accs = [], [], [], []\n",
    "    \n",
    "    for epoch in range(epochs):\n",
    "        model.train()\n",
    "        running_loss, correct, total = 0.0, 0, 0\n",
    "        \n",
    "        for inputs, labels in trainloader:\n",
    "            inputs, labels = inputs.to(device), labels.to(device)\n",
    "            optimizer.zero_grad()\n",
    "            \n",
    "            outputs = model(inputs)\n",
    "            loss = criterion(outputs, labels)\n",
    "            loss.backward()\n",
    "            optimizer.step()\n",
    "            \n",
    "            running_loss += loss.item()\n",
    "            _, predicted = torch.max(outputs.data, 1)\n",
    "            total += labels.size(0)\n",
    "            correct += (predicted == labels).sum().item()\n",
    "        \n",
    "        train_losses.append(running_loss / len(trainloader))\n",
    "        train_accs.append(100 * correct / total)\n",
    "        \n",
    "        model.eval()\n",
    "        val_loss, correct, total = 0.0, 0, 0\n",
    "        \n",
    "        with torch.no_grad():\n",
    "            for inputs, labels in valloader:\n",
    "                inputs, labels = inputs.to(device), labels.to(device)\n",
    "                outputs = model(inputs)\n",
    "                loss = criterion(outputs, labels)\n",
    "                val_loss += loss.item()\n",
    "                _, predicted = torch.max(outputs.data, 1)\n",
    "                total += labels.size(0)\n",
    "                correct += (predicted == labels).sum().item()\n",
    "        \n",
    "        val_losses.append(val_loss / len(valloader))\n",
    "        val_accs.append(100 * correct / total)\n",
    "        \n",
    "        print(f\"Epoch {epoch+1}: Train Loss {train_losses[-1]:.2f}, Val Loss {val_losses[-1]:.2f}, Train Acc {train_accs[-1]:.2f}%, Val Acc {val_accs[-1]:.2f}%\")\n",
    "\n",
    "        scheduler.step()\n",
    "        \n",
    "    return train_losses, val_losses, train_accs, val_accs"
   ]
  },
  {
   "cell_type": "code",
   "execution_count": 9,
   "id": "9a862ec9",
   "metadata": {
    "execution": {
     "iopub.execute_input": "2025-07-12T11:14:21.899919Z",
     "iopub.status.busy": "2025-07-12T11:14:21.899287Z",
     "iopub.status.idle": "2025-07-12T11:14:21.903890Z",
     "shell.execute_reply": "2025-07-12T11:14:21.903186Z"
    },
    "papermill": {
     "duration": 0.026516,
     "end_time": "2025-07-12T11:14:21.905022",
     "exception": false,
     "start_time": "2025-07-12T11:14:21.878506",
     "status": "completed"
    },
    "tags": []
   },
   "outputs": [],
   "source": [
    "def test_model(model, testloader):\n",
    "    model.eval()\n",
    "    correct, total = 0, 0\n",
    "    with torch.no_grad():\n",
    "        for inputs, labels in testloader:\n",
    "            inputs, labels = inputs.to(device), labels.to(device)\n",
    "            outputs = model(inputs)\n",
    "            _, predicted = torch.max(outputs.data, 1)\n",
    "            total += labels.size(0)\n",
    "            correct += (predicted == labels).sum().item()\n",
    "    return 100 * correct / total"
   ]
  },
  {
   "cell_type": "code",
   "execution_count": 10,
   "id": "39f52a5d",
   "metadata": {
    "execution": {
     "iopub.execute_input": "2025-07-12T11:14:21.949391Z",
     "iopub.status.busy": "2025-07-12T11:14:21.949184Z",
     "iopub.status.idle": "2025-07-12T11:14:21.953134Z",
     "shell.execute_reply": "2025-07-12T11:14:21.952618Z"
    },
    "id": "5NGnL4rP6ofO",
    "papermill": {
     "duration": 0.028892,
     "end_time": "2025-07-12T11:14:21.954219",
     "exception": false,
     "start_time": "2025-07-12T11:14:21.925327",
     "status": "completed"
    },
    "tags": []
   },
   "outputs": [],
   "source": [
    "##### data augmentation #####\n",
    "transform_train = transforms.Compose([\n",
    "    transforms.ToTensor(),\n",
    "\n",
    "    # data augmentation\n",
    "    transforms.RandomCrop(32, padding=4),\n",
    "    transforms.RandomHorizontalFlip(),\n",
    "    transforms.RandomRotation(10),\n",
    "    transforms.ColorJitter(brightness=0.2, contrast=0.2, saturation=0.2),\n",
    "])\n",
    "\n",
    "transform_test = transforms.Compose([\n",
    "    transforms.ToTensor(),\n",
    "])"
   ]
  },
  {
   "cell_type": "markdown",
   "id": "263ba9b5",
   "metadata": {
    "papermill": {
     "duration": 0.020438,
     "end_time": "2025-07-12T11:14:21.995400",
     "exception": false,
     "start_time": "2025-07-12T11:14:21.974962",
     "status": "completed"
    },
    "tags": []
   },
   "source": [
    "### **With normalization**"
   ]
  },
  {
   "cell_type": "code",
   "execution_count": 11,
   "id": "56b8bc33",
   "metadata": {
    "execution": {
     "iopub.execute_input": "2025-07-12T11:14:22.035592Z",
     "iopub.status.busy": "2025-07-12T11:14:22.035383Z",
     "iopub.status.idle": "2025-07-12T11:14:22.038691Z",
     "shell.execute_reply": "2025-07-12T11:14:22.038201Z"
    },
    "papermill": {
     "duration": 0.02471,
     "end_time": "2025-07-12T11:14:22.039713",
     "exception": false,
     "start_time": "2025-07-12T11:14:22.015003",
     "status": "completed"
    },
    "tags": []
   },
   "outputs": [],
   "source": [
    "transform_train_norm = transforms.Compose([transform_train, transforms.Normalize(mean=train_mean, std=train_std)])\n",
    "transform_test_norm = transforms.Compose([transform_test, transforms.Normalize(mean=test_mean, std=test_std)])"
   ]
  },
  {
   "cell_type": "code",
   "execution_count": 12,
   "id": "3bb2d054",
   "metadata": {
    "execution": {
     "iopub.execute_input": "2025-07-12T11:14:22.080006Z",
     "iopub.status.busy": "2025-07-12T11:14:22.079611Z",
     "iopub.status.idle": "2025-07-12T11:14:23.674431Z",
     "shell.execute_reply": "2025-07-12T11:14:23.673599Z"
    },
    "id": "oaJyYUXj6rNW",
    "outputId": "4bafd9ae-ce2d-43ca-e04a-30d1f272c38e",
    "papermill": {
     "duration": 1.616215,
     "end_time": "2025-07-12T11:14:23.675717",
     "exception": false,
     "start_time": "2025-07-12T11:14:22.059502",
     "status": "completed"
    },
    "tags": []
   },
   "outputs": [
    {
     "name": "stdout",
     "output_type": "stream",
     "text": [
      "train length:  45000\n",
      "val length:  5000\n",
      "test length:  10000\n"
     ]
    }
   ],
   "source": [
    "# dataset\n",
    "trainset_norm = torchvision.datasets.CIFAR10(root='./data', train=True, download=True, transform=transform_train_norm)\n",
    "test_ds_norm = torchvision.datasets.CIFAR10(root='./data', train=False, download=True, transform=transform_test_norm)\n",
    "\n",
    "# Cifar-10的標籤: ('plane', 'car', 'bird', 'cat', 'deer', 'dog', 'frog', 'horse', 'ship', 'truck')\n",
    "\n",
    "# split validation dataset\n",
    "torch.manual_seed(43)     # 確保每次獲得相同的驗證集\n",
    "val_size = 5000       # 取5000張驗證集(0.1 of trainset)\n",
    "train_size = len(trainset_norm) - val_size\n",
    "train_ds_norm, val_ds_norm = random_split(trainset_norm, [train_size, val_size])\n",
    "print(\"train length: \", len(train_ds_norm))\n",
    "print(\"val length: \", len(val_ds_norm))\n",
    "print(\"test length: \", len(test_ds_norm))\n",
    "\n",
    "# 宣告 batch size\n",
    "BATCH_SIZE = 128\n",
    "trainloader_norm = torch.utils.data.DataLoader(train_ds_norm, batch_size=BATCH_SIZE, shuffle=True, num_workers=2)\n",
    "valloader_norm = torch.utils.data.DataLoader(val_ds_norm, batch_size=BATCH_SIZE, shuffle=False, num_workers=2)\n",
    "testloader_norm = torch.utils.data.DataLoader(test_ds_norm, batch_size=BATCH_SIZE, shuffle=False, num_workers=2)"
   ]
  },
  {
   "cell_type": "code",
   "execution_count": 13,
   "id": "b8ca33a0",
   "metadata": {
    "execution": {
     "iopub.execute_input": "2025-07-12T11:14:23.719624Z",
     "iopub.status.busy": "2025-07-12T11:14:23.719350Z",
     "iopub.status.idle": "2025-07-12T11:49:48.318603Z",
     "shell.execute_reply": "2025-07-12T11:49:48.317763Z"
    },
    "papermill": {
     "duration": 2124.621775,
     "end_time": "2025-07-12T11:49:48.320016",
     "exception": false,
     "start_time": "2025-07-12T11:14:23.698241",
     "status": "completed"
    },
    "tags": []
   },
   "outputs": [
    {
     "name": "stdout",
     "output_type": "stream",
     "text": [
      "train version 1 with normalization...\n",
      "Epoch 1: Train Loss 1.59, Val Loss 1.59, Train Acc 41.21%, Val Acc 43.16%\n",
      "Epoch 2: Train Loss 1.14, Val Loss 1.43, Train Acc 59.20%, Val Acc 50.24%\n",
      "Epoch 3: Train Loss 0.98, Val Loss 1.17, Train Acc 65.06%, Val Acc 60.62%\n",
      "Epoch 4: Train Loss 0.86, Val Loss 0.92, Train Acc 69.71%, Val Acc 67.22%\n",
      "Epoch 5: Train Loss 0.77, Val Loss 0.87, Train Acc 73.14%, Val Acc 69.74%\n",
      "Epoch 6: Train Loss 0.70, Val Loss 0.78, Train Acc 75.60%, Val Acc 72.92%\n",
      "Epoch 7: Train Loss 0.65, Val Loss 0.81, Train Acc 77.46%, Val Acc 72.48%\n",
      "Epoch 8: Train Loss 0.61, Val Loss 0.65, Train Acc 78.75%, Val Acc 77.58%\n",
      "Epoch 9: Train Loss 0.57, Val Loss 0.72, Train Acc 80.18%, Val Acc 75.22%\n",
      "Epoch 10: Train Loss 0.55, Val Loss 0.65, Train Acc 81.30%, Val Acc 77.72%\n",
      "Epoch 11: Train Loss 0.52, Val Loss 0.62, Train Acc 82.31%, Val Acc 77.76%\n",
      "Epoch 12: Train Loss 0.49, Val Loss 0.57, Train Acc 83.21%, Val Acc 80.22%\n",
      "Epoch 13: Train Loss 0.48, Val Loss 0.76, Train Acc 83.62%, Val Acc 74.56%\n",
      "Epoch 14: Train Loss 0.46, Val Loss 0.57, Train Acc 84.23%, Val Acc 80.36%\n",
      "Epoch 15: Train Loss 0.45, Val Loss 0.60, Train Acc 84.58%, Val Acc 78.90%\n",
      "Epoch 16: Train Loss 0.44, Val Loss 0.58, Train Acc 85.06%, Val Acc 80.74%\n",
      "Epoch 17: Train Loss 0.43, Val Loss 0.51, Train Acc 85.31%, Val Acc 82.18%\n",
      "Epoch 18: Train Loss 0.42, Val Loss 0.49, Train Acc 85.73%, Val Acc 82.28%\n",
      "Epoch 19: Train Loss 0.41, Val Loss 0.47, Train Acc 86.11%, Val Acc 83.32%\n",
      "Epoch 20: Train Loss 0.40, Val Loss 0.54, Train Acc 86.42%, Val Acc 81.54%\n",
      "Epoch 21: Train Loss 0.39, Val Loss 0.44, Train Acc 86.37%, Val Acc 84.60%\n",
      "Epoch 22: Train Loss 0.39, Val Loss 0.48, Train Acc 86.66%, Val Acc 83.34%\n",
      "Epoch 23: Train Loss 0.38, Val Loss 0.44, Train Acc 87.07%, Val Acc 84.48%\n",
      "Epoch 24: Train Loss 0.38, Val Loss 0.48, Train Acc 87.21%, Val Acc 83.32%\n",
      "Epoch 25: Train Loss 0.37, Val Loss 0.45, Train Acc 87.45%, Val Acc 84.62%\n",
      "Epoch 26: Train Loss 0.36, Val Loss 0.48, Train Acc 87.60%, Val Acc 83.30%\n",
      "Epoch 27: Train Loss 0.36, Val Loss 0.43, Train Acc 87.63%, Val Acc 84.96%\n",
      "Epoch 28: Train Loss 0.35, Val Loss 0.56, Train Acc 87.88%, Val Acc 80.32%\n",
      "Epoch 29: Train Loss 0.35, Val Loss 0.50, Train Acc 88.17%, Val Acc 83.72%\n",
      "Epoch 30: Train Loss 0.34, Val Loss 0.51, Train Acc 88.31%, Val Acc 83.00%\n",
      "Epoch 31: Train Loss 0.34, Val Loss 0.42, Train Acc 88.46%, Val Acc 85.04%\n",
      "Epoch 32: Train Loss 0.33, Val Loss 0.43, Train Acc 88.61%, Val Acc 85.00%\n",
      "Epoch 33: Train Loss 0.34, Val Loss 0.43, Train Acc 88.31%, Val Acc 85.62%\n",
      "Epoch 34: Train Loss 0.33, Val Loss 0.43, Train Acc 88.74%, Val Acc 85.62%\n",
      "Epoch 35: Train Loss 0.33, Val Loss 0.39, Train Acc 88.83%, Val Acc 85.98%\n",
      "Epoch 36: Train Loss 0.32, Val Loss 0.45, Train Acc 88.83%, Val Acc 84.42%\n",
      "Epoch 37: Train Loss 0.32, Val Loss 0.39, Train Acc 88.98%, Val Acc 86.36%\n",
      "Epoch 38: Train Loss 0.32, Val Loss 0.40, Train Acc 89.06%, Val Acc 86.08%\n",
      "Epoch 39: Train Loss 0.31, Val Loss 0.43, Train Acc 89.36%, Val Acc 85.60%\n",
      "Epoch 40: Train Loss 0.31, Val Loss 0.38, Train Acc 89.35%, Val Acc 87.14%\n",
      "Epoch 41: Train Loss 0.31, Val Loss 0.41, Train Acc 89.32%, Val Acc 86.18%\n",
      "Epoch 42: Train Loss 0.31, Val Loss 0.43, Train Acc 89.47%, Val Acc 85.46%\n",
      "Epoch 43: Train Loss 0.31, Val Loss 0.45, Train Acc 89.51%, Val Acc 84.32%\n",
      "Epoch 44: Train Loss 0.30, Val Loss 0.39, Train Acc 89.76%, Val Acc 86.42%\n",
      "Epoch 45: Train Loss 0.29, Val Loss 0.43, Train Acc 89.90%, Val Acc 85.58%\n",
      "Epoch 46: Train Loss 0.30, Val Loss 0.39, Train Acc 89.70%, Val Acc 86.84%\n",
      "Epoch 47: Train Loss 0.29, Val Loss 0.40, Train Acc 90.04%, Val Acc 86.18%\n",
      "Epoch 48: Train Loss 0.29, Val Loss 0.38, Train Acc 90.05%, Val Acc 86.82%\n",
      "Epoch 49: Train Loss 0.28, Val Loss 0.42, Train Acc 90.25%, Val Acc 85.88%\n",
      "Epoch 50: Train Loss 0.28, Val Loss 0.41, Train Acc 90.19%, Val Acc 85.86%\n",
      "Test Accuracy (with norm): 88.33%\n"
     ]
    }
   ],
   "source": [
    "model_norm = ResNet(ResBlock)\n",
    "\n",
    "print(\"train version 1 with normalization...\")\n",
    "\n",
    "train_losses_norm, val_losses_norm, train_accs_norm, val_accs_norm = train_model(model_norm, trainloader_norm, valloader_norm, EPOCH)\n",
    "test_acc_norm = test_model(model_norm, testloader_norm)\n",
    "\n",
    "print(f\"Test Accuracy (with norm): {test_acc_norm:.2f}%\")"
   ]
  },
  {
   "cell_type": "code",
   "execution_count": 14,
   "id": "ff8f5489",
   "metadata": {
    "execution": {
     "iopub.execute_input": "2025-07-12T11:49:48.365740Z",
     "iopub.status.busy": "2025-07-12T11:49:48.365475Z",
     "iopub.status.idle": "2025-07-12T11:49:48.686324Z",
     "shell.execute_reply": "2025-07-12T11:49:48.685645Z"
    },
    "id": "boGt8nkQBR5V",
    "papermill": {
     "duration": 0.34481,
     "end_time": "2025-07-12T11:49:48.687793",
     "exception": false,
     "start_time": "2025-07-12T11:49:48.342983",
     "status": "completed"
    },
    "tags": []
   },
   "outputs": [
    {
     "data": {
      "image/png": "[encoded data removed]",
      "text/plain": [
       "<Figure size 1200x400 with 2 Axes>"
      ]
     },
     "metadata": {},
     "output_type": "display_data"
    }
   ],
   "source": [
    "import matplotlib.pyplot as plt\n",
    "\n",
    "##### 繪製 loss 和 accuracy 的圖 #####\n",
    "plt.figure(figsize=(12, 4))\n",
    "\n",
    "plt.subplot(1, 2, 1)\n",
    "plt.plot(train_losses_norm, label='Train Loss')\n",
    "plt.plot(val_losses_norm, label='Val Loss')\n",
    "plt.xlabel('Epoch')\n",
    "plt.ylabel('Loss')\n",
    "plt.legend()\n",
    "\n",
    "plt.subplot(1, 2, 2)\n",
    "plt.plot(train_accs_norm, label='Train Accuracy')\n",
    "plt.plot(val_accs_norm, label='Val Accuracy')\n",
    "plt.xlabel('Epoch')\n",
    "plt.ylabel('Accuracy')\n",
    "plt.legend()\n",
    "\n",
    "plt.show()"
   ]
  },
  {
   "cell_type": "markdown",
   "id": "617a32b0",
   "metadata": {
    "papermill": {
     "duration": 0.022775,
     "end_time": "2025-07-12T11:49:48.733964",
     "exception": false,
     "start_time": "2025-07-12T11:49:48.711189",
     "status": "completed"
    },
    "tags": []
   },
   "source": [
    "### **Without normalization**"
   ]
  },
  {
   "cell_type": "code",
   "execution_count": 15,
   "id": "3c099640",
   "metadata": {
    "execution": {
     "iopub.execute_input": "2025-07-12T11:49:48.781858Z",
     "iopub.status.busy": "2025-07-12T11:49:48.781424Z",
     "iopub.status.idle": "2025-07-12T11:49:48.784529Z",
     "shell.execute_reply": "2025-07-12T11:49:48.784006Z"
    },
    "papermill": {
     "duration": 0.029011,
     "end_time": "2025-07-12T11:49:48.785597",
     "exception": false,
     "start_time": "2025-07-12T11:49:48.756586",
     "status": "completed"
    },
    "tags": []
   },
   "outputs": [],
   "source": [
    "transform_train_no_norm = transform_train\n",
    "transform_test_no_norm = transform_test"
   ]
  },
  {
   "cell_type": "code",
   "execution_count": 16,
   "id": "b2abb74a",
   "metadata": {
    "execution": {
     "iopub.execute_input": "2025-07-12T11:49:48.832028Z",
     "iopub.status.busy": "2025-07-12T11:49:48.831750Z",
     "iopub.status.idle": "2025-07-12T11:49:50.462909Z",
     "shell.execute_reply": "2025-07-12T11:49:50.462232Z"
    },
    "papermill": {
     "duration": 1.655997,
     "end_time": "2025-07-12T11:49:50.464189",
     "exception": false,
     "start_time": "2025-07-12T11:49:48.808192",
     "status": "completed"
    },
    "tags": []
   },
   "outputs": [
    {
     "name": "stdout",
     "output_type": "stream",
     "text": [
      "train length:  45000\n",
      "val length:  5000\n",
      "test length:  10000\n"
     ]
    }
   ],
   "source": [
    "# dataset\n",
    "trainset_no_norm = torchvision.datasets.CIFAR10(root='./data', train=True, download=True, transform=transform_train_no_norm)\n",
    "test_ds_no_norm = torchvision.datasets.CIFAR10(root='./data', train=False, download=True, transform=transform_test_no_norm)\n",
    "\n",
    "# Cifar-10的標籤: ('plane', 'car', 'bird', 'cat', 'deer', 'dog', 'frog', 'horse', 'ship', 'truck')\n",
    "\n",
    "train_ds_no_norm, val_ds_no_norm = random_split(trainset_no_norm, [train_size, val_size])\n",
    "print(\"train length: \", len(train_ds_no_norm))\n",
    "print(\"val length: \", len(val_ds_no_norm))\n",
    "print(\"test length: \", len(test_ds_no_norm))\n",
    "\n",
    "# 宣告 batch size\n",
    "BATCH_SIZE = 128\n",
    "trainloader_no_norm = torch.utils.data.DataLoader(train_ds_no_norm, batch_size=BATCH_SIZE, shuffle=True, num_workers=2)\n",
    "valloader_no_norm = torch.utils.data.DataLoader(val_ds_no_norm, batch_size=BATCH_SIZE, shuffle=False, num_workers=2)\n",
    "testloader_no_norm = torch.utils.data.DataLoader(test_ds_no_norm, batch_size=BATCH_SIZE, shuffle=False, num_workers=2)"
   ]
  },
  {
   "cell_type": "code",
   "execution_count": 17,
   "id": "433d3b41",
   "metadata": {
    "execution": {
     "iopub.execute_input": "2025-07-12T11:49:50.511703Z",
     "iopub.status.busy": "2025-07-12T11:49:50.511486Z",
     "iopub.status.idle": "2025-07-12T12:24:55.517133Z",
     "shell.execute_reply": "2025-07-12T12:24:55.515947Z"
    },
    "papermill": {
     "duration": 2105.030625,
     "end_time": "2025-07-12T12:24:55.518620",
     "exception": false,
     "start_time": "2025-07-12T11:49:50.487995",
     "status": "completed"
    },
    "tags": []
   },
   "outputs": [
    {
     "name": "stdout",
     "output_type": "stream",
     "text": [
      "train version 1 without normalization...\n",
      "Epoch 1: Train Loss 1.58, Val Loss 1.50, Train Acc 41.44%, Val Acc 44.02%\n",
      "Epoch 2: Train Loss 1.17, Val Loss 1.16, Train Acc 57.99%, Val Acc 58.46%\n",
      "Epoch 3: Train Loss 1.00, Val Loss 0.96, Train Acc 64.72%, Val Acc 66.70%\n",
      "Epoch 4: Train Loss 0.88, Val Loss 1.24, Train Acc 69.24%, Val Acc 58.84%\n",
      "Epoch 5: Train Loss 0.78, Val Loss 1.25, Train Acc 72.63%, Val Acc 60.92%\n",
      "Epoch 6: Train Loss 0.72, Val Loss 0.78, Train Acc 75.15%, Val Acc 72.86%\n",
      "Epoch 7: Train Loss 0.66, Val Loss 0.91, Train Acc 77.26%, Val Acc 68.12%\n",
      "Epoch 8: Train Loss 0.62, Val Loss 0.85, Train Acc 78.75%, Val Acc 70.82%\n",
      "Epoch 9: Train Loss 0.58, Val Loss 0.79, Train Acc 79.83%, Val Acc 73.34%\n",
      "Epoch 10: Train Loss 0.55, Val Loss 0.81, Train Acc 81.04%, Val Acc 72.96%\n",
      "Epoch 11: Train Loss 0.53, Val Loss 0.67, Train Acc 81.94%, Val Acc 77.26%\n",
      "Epoch 12: Train Loss 0.51, Val Loss 0.79, Train Acc 82.75%, Val Acc 73.20%\n",
      "Epoch 13: Train Loss 0.49, Val Loss 0.67, Train Acc 83.54%, Val Acc 77.56%\n",
      "Epoch 14: Train Loss 0.47, Val Loss 0.59, Train Acc 83.89%, Val Acc 79.54%\n",
      "Epoch 15: Train Loss 0.46, Val Loss 0.51, Train Acc 84.34%, Val Acc 82.04%\n",
      "Epoch 16: Train Loss 0.44, Val Loss 0.54, Train Acc 84.76%, Val Acc 81.52%\n",
      "Epoch 17: Train Loss 0.43, Val Loss 0.53, Train Acc 85.23%, Val Acc 82.46%\n",
      "Epoch 18: Train Loss 0.42, Val Loss 0.61, Train Acc 85.48%, Val Acc 79.06%\n",
      "Epoch 19: Train Loss 0.41, Val Loss 0.52, Train Acc 85.97%, Val Acc 82.10%\n",
      "Epoch 20: Train Loss 0.41, Val Loss 0.52, Train Acc 86.03%, Val Acc 82.34%\n",
      "Epoch 21: Train Loss 0.40, Val Loss 0.57, Train Acc 86.31%, Val Acc 81.72%\n",
      "Epoch 22: Train Loss 0.39, Val Loss 0.50, Train Acc 86.75%, Val Acc 82.92%\n",
      "Epoch 23: Train Loss 0.38, Val Loss 0.59, Train Acc 86.94%, Val Acc 80.66%\n",
      "Epoch 24: Train Loss 0.38, Val Loss 0.50, Train Acc 87.21%, Val Acc 83.62%\n",
      "Epoch 25: Train Loss 0.37, Val Loss 0.48, Train Acc 87.22%, Val Acc 84.06%\n",
      "Epoch 26: Train Loss 0.36, Val Loss 0.49, Train Acc 87.50%, Val Acc 83.50%\n",
      "Epoch 27: Train Loss 0.37, Val Loss 0.52, Train Acc 87.45%, Val Acc 82.12%\n",
      "Epoch 28: Train Loss 0.36, Val Loss 0.48, Train Acc 87.74%, Val Acc 83.14%\n",
      "Epoch 29: Train Loss 0.36, Val Loss 0.43, Train Acc 87.82%, Val Acc 85.54%\n",
      "Epoch 30: Train Loss 0.34, Val Loss 0.46, Train Acc 88.16%, Val Acc 84.98%\n",
      "Epoch 31: Train Loss 0.34, Val Loss 0.52, Train Acc 88.30%, Val Acc 82.46%\n",
      "Epoch 32: Train Loss 0.34, Val Loss 0.41, Train Acc 88.56%, Val Acc 86.68%\n",
      "Epoch 33: Train Loss 0.33, Val Loss 0.43, Train Acc 88.54%, Val Acc 85.00%\n",
      "Epoch 34: Train Loss 0.33, Val Loss 0.43, Train Acc 88.83%, Val Acc 85.38%\n",
      "Epoch 35: Train Loss 0.32, Val Loss 0.42, Train Acc 88.97%, Val Acc 86.24%\n",
      "Epoch 36: Train Loss 0.32, Val Loss 0.47, Train Acc 88.89%, Val Acc 84.42%\n",
      "Epoch 37: Train Loss 0.32, Val Loss 0.45, Train Acc 89.17%, Val Acc 85.16%\n",
      "Epoch 38: Train Loss 0.32, Val Loss 0.54, Train Acc 89.18%, Val Acc 82.20%\n",
      "Epoch 39: Train Loss 0.32, Val Loss 0.43, Train Acc 88.92%, Val Acc 86.00%\n",
      "Epoch 40: Train Loss 0.31, Val Loss 0.40, Train Acc 89.33%, Val Acc 86.46%\n",
      "Epoch 41: Train Loss 0.30, Val Loss 0.44, Train Acc 89.54%, Val Acc 84.94%\n",
      "Epoch 42: Train Loss 0.31, Val Loss 0.45, Train Acc 89.48%, Val Acc 85.40%\n",
      "Epoch 43: Train Loss 0.30, Val Loss 0.40, Train Acc 89.79%, Val Acc 87.06%\n",
      "Epoch 44: Train Loss 0.30, Val Loss 0.44, Train Acc 89.81%, Val Acc 85.42%\n",
      "Epoch 45: Train Loss 0.30, Val Loss 0.49, Train Acc 89.81%, Val Acc 83.68%\n",
      "Epoch 46: Train Loss 0.30, Val Loss 0.41, Train Acc 89.78%, Val Acc 85.98%\n",
      "Epoch 47: Train Loss 0.29, Val Loss 0.48, Train Acc 89.97%, Val Acc 83.62%\n",
      "Epoch 48: Train Loss 0.28, Val Loss 0.42, Train Acc 90.28%, Val Acc 86.58%\n",
      "Epoch 49: Train Loss 0.29, Val Loss 0.44, Train Acc 90.15%, Val Acc 85.60%\n",
      "Epoch 50: Train Loss 0.28, Val Loss 0.39, Train Acc 90.16%, Val Acc 86.64%\n",
      "Test Accuracy (without norm): 88.27%\n"
     ]
    }
   ],
   "source": [
    "model_no_norm = ResNet(ResBlock)\n",
    "\n",
    "print(\"train version 1 without normalization...\")\n",
    "\n",
    "train_losses_no_norm, val_losses_no_norm, train_accs_no_norm, val_accs_no_norm = train_model(model_no_norm, trainloader_no_norm, valloader_no_norm, EPOCH)\n",
    "test_acc_no_norm = test_model(model_no_norm, testloader_no_norm)\n",
    "\n",
    "print(f\"Test Accuracy (without norm): {test_acc_no_norm:.2f}%\")"
   ]
  },
  {
   "cell_type": "code",
   "execution_count": 18,
   "id": "558bd690",
   "metadata": {
    "execution": {
     "iopub.execute_input": "2025-07-12T12:24:55.571496Z",
     "iopub.status.busy": "2025-07-12T12:24:55.571230Z",
     "iopub.status.idle": "2025-07-12T12:24:55.826373Z",
     "shell.execute_reply": "2025-07-12T12:24:55.825639Z"
    },
    "papermill": {
     "duration": 0.282342,
     "end_time": "2025-07-12T12:24:55.827589",
     "exception": false,
     "start_time": "2025-07-12T12:24:55.545247",
     "status": "completed"
    },
    "tags": []
   },
   "outputs": [
    {
     "data": {
      "image/png": "[encoded data removed]",
      "text/plain": [
       "<Figure size 1200x400 with 2 Axes>"
      ]
     },
     "metadata": {},
     "output_type": "display_data"
    }
   ],
   "source": [
    "##### 繪製 loss 和 accuracy 的圖 #####\n",
    "plt.figure(figsize=(12, 4))\n",
    "\n",
    "plt.subplot(1, 2, 1)\n",
    "plt.plot(train_losses_no_norm, label='Train Loss')\n",
    "plt.plot(val_losses_no_norm, label='Val Loss')\n",
    "plt.xlabel('Epoch')\n",
    "plt.ylabel('Loss')\n",
    "plt.legend()\n",
    "\n",
    "plt.subplot(1, 2, 2)\n",
    "plt.plot(train_accs_no_norm, label='Train Accuracy')\n",
    "plt.plot(val_accs_no_norm, label='Val Accuracy')\n",
    "plt.xlabel('Epoch')\n",
    "plt.ylabel('Accuracy')\n",
    "plt.legend()\n",
    "\n",
    "plt.show()"
   ]
  }
 ],
 "metadata": {
  "accelerator": "GPU",
  "colab": {
   "provenance": []
  },
  "kaggle": {
   "accelerator": "nvidiaTeslaT4",
   "dataSources": [
    {
     "isSourceIdPinned": true,
     "modelId": 398398,
     "modelInstanceId": 377976,
     "sourceId": 468542,
     "sourceType": "modelInstanceVersion"
    }
   ],
   "dockerImageVersionId": 31090,
   "isGpuEnabled": true,
   "isInternetEnabled": true,
   "language": "python",
   "sourceType": "notebook"
  },
  "kernelspec": {
   "display_name": "Python 3",
   "language": "python",
   "name": "python3"
  },
  "language_info": {
   "codemirror_mode": {
    "name": "ipython",
    "version": 3
   },
   "file_extension": ".py",
   "mimetype": "text/x-python",
   "name": "python",
   "nbconvert_exporter": "python",
   "pygments_lexer": "ipython3",
   "version": "3.11.13"
  },
  "papermill": {
   "default_parameters": {},
   "duration": 4345.509929,
   "end_time": "2025-07-12T12:24:59.140140",
   "environment_variables": {},
   "exception": null,
   "input_path": "__notebook__.ipynb",
   "output_path": "__notebook__.ipynb",
   "parameters": {},
   "start_time": "2025-07-12T11:12:33.630211",
   "version": "2.6.0"
  }
 },
 "nbformat": 4,
 "nbformat_minor": 5
}
