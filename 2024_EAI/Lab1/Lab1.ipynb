{
  "nbformat": 4,
  "nbformat_minor": 0,
  "metadata": {
    "colab": {
      "provenance": [],
      "gpuType": "T4"
    },
    "kernelspec": {
      "name": "python3",
      "display_name": "Python 3"
    },
    "language_info": {
      "name": "python"
    },
    "accelerator": "GPU"
  },
  "cells": [
    {
      "cell_type": "markdown",
      "source": [
        "###1. Implement the following layers as python functions(both forward and backward propagation)\n",
        "* Inner-product layer\n",
        "* Activation layer(Sigmoid or Rectified)\n",
        "* Softmax layer\n",
        "\n",
        "###2. Implement training and testing process\n",
        "* included cross-validation\n",
        "\n",
        "###3. Plot epoch-accuracy curves\n"
      ],
      "metadata": {
        "id": "rlmh1D8ia79e"
      }
    },
    {
      "cell_type": "code",
      "execution_count": 1,
      "metadata": {
        "id": "jgMAQNAnr_k1",
        "colab": {
          "base_uri": "https://localhost:8080/"
        },
        "outputId": "db856d6d-e380-4b6e-a9a0-e1ab2db0f60b"
      },
      "outputs": [
        {
          "output_type": "stream",
          "name": "stdout",
          "text": [
            "Mounted at /content/drive\n"
          ]
        }
      ],
      "source": [
        "from google.colab import drive\n",
        "drive.mount('/content/drive')"
      ]
    },
    {
      "cell_type": "code",
      "source": [
        "%cd /content/drive/MyDrive/EAI_lab1"
      ],
      "metadata": {
        "id": "MUds0dh6WX0G",
        "colab": {
          "base_uri": "https://localhost:8080/"
        },
        "outputId": "1a349bc3-09ce-429a-9a10-c2bd9fbfd6d4"
      },
      "execution_count": 2,
      "outputs": [
        {
          "output_type": "stream",
          "name": "stdout",
          "text": [
            "/content/drive/MyDrive/EAI_lab1\n"
          ]
        }
      ]
    },
    {
      "cell_type": "code",
      "source": [
        "import numpy as np\n",
        "import matplotlib.pyplot as plt"
      ],
      "metadata": {
        "id": "ukxBJ3dksMZ-"
      },
      "execution_count": 3,
      "outputs": []
    },
    {
      "cell_type": "code",
      "source": [
        "# load MNIST dataset\n",
        "image_size = 28           # width and length\n",
        "no_of_different_labels = 10     #  i.e. 0, 1, 2, 3, ..., 9\n",
        "image_pixels = image_size * image_size\n",
        "train_data = np.loadtxt(\"mnist_train.csv\", delimiter=\",\")\n",
        "test_data = np.loadtxt(\"mnist_test.csv\", delimiter=\",\")\n",
        "\n",
        "# data preprocessing\n",
        "\n",
        "# map pixels information from range(0, 255) to range(0.01, 1)\n",
        "fac = 0.99 / 255\n",
        "train_imgs = np.asarray(train_data[:, 1:]) * fac + 0.01\n",
        "test_imgs = np.asarray(test_data[:, 1:]) * fac + 0.01\n",
        "\n",
        "print(train_imgs.shape)\n",
        "train_labels = np.asarray(train_data[:, :1])\n",
        "test_labels = np.asarray(test_data[:, :1])\n",
        "\n",
        "lr = np.arange(no_of_different_labels)\n",
        "\n",
        "# transform labels into one hot representation\n",
        "train_labels_one_hot = (lr==train_labels).astype(np.float64)\n",
        "test_labels_one_hot = (lr==test_labels).astype(np.float64)\n"
      ],
      "metadata": {
        "id": "j8seIvepsQ1a",
        "colab": {
          "base_uri": "https://localhost:8080/"
        },
        "outputId": "4057d41e-cfb2-4d89-d19c-e78789804905"
      },
      "execution_count": 4,
      "outputs": [
        {
          "output_type": "stream",
          "name": "stdout",
          "text": [
            "(60000, 784)\n"
          ]
        }
      ]
    },
    {
      "cell_type": "code",
      "metadata": {
        "colab": {
          "base_uri": "https://localhost:8080/"
        },
        "id": "68121885",
        "outputId": "22e73838-e6b2-40f3-d3b9-8626c1a0b6ee"
      },
      "source": [
        "# Separate train_imgs, train_labels into training and validation\n",
        "\n",
        "split_ratio = 0.8   # 80% for training, 20% for validation\n",
        "split_index = int(len(train_imgs) * split_ratio)\n",
        "\n",
        "train_imgs_manual = train_imgs[:split_index]\n",
        "val_imgs_manual = train_imgs[split_index:]\n",
        "train_labels_one_hot_manual = train_labels_one_hot[:split_index]\n",
        "val_labels_one_hot_manual = train_labels_one_hot[split_index:]\n",
        "\n",
        "print(\"Manual training images shape:\", train_imgs_manual.shape)\n",
        "print(\"Manual validation images shape:\", val_imgs_manual.shape)\n",
        "print(\"Manual training labels shape:\", train_labels_one_hot_manual.shape)\n",
        "print(\"Manual validation labels shape:\", val_labels_one_hot_manual.shape)"
      ],
      "execution_count": 5,
      "outputs": [
        {
          "output_type": "stream",
          "name": "stdout",
          "text": [
            "Manual training images shape: (48000, 784)\n",
            "Manual validation images shape: (12000, 784)\n",
            "Manual training labels shape: (48000, 10)\n",
            "Manual validation labels shape: (12000, 10)\n"
          ]
        }
      ]
    },
    {
      "cell_type": "code",
      "source": [
        "#layer definition\n",
        "def InnerProduct_ForProp(x,W,b):\n",
        "    \"\"\"\n",
        "    Computes the forward pass for an inner product layer.\n",
        "\n",
        "    Args:\n",
        "        x: Input to the layer.\n",
        "        W: Weights of the layer.\n",
        "        b: Bias of the layer.\n",
        "\n",
        "    Returns:\n",
        "        The output of the inner product layer.\n",
        "    \"\"\"\n",
        "    y = np.dot(x, W) + b\n",
        "    return y\n",
        "\n",
        "def InnerProduct_BackProp(dEdy,x,W,b):\n",
        "    \"\"\"\n",
        "    Computes the backward pass for an inner product layer.\n",
        "\n",
        "    Args:\n",
        "        dEdy: Gradient of the loss with respect to the output.\n",
        "        x: Input to the layer.\n",
        "        W: Weights of the layer.\n",
        "        b: Bias of the layer.\n",
        "\n",
        "    Returns:\n",
        "        dEdx: Gradient of the loss with respect to the input.\n",
        "        dEdW: Gradient of the loss with respect to the weights.\n",
        "        dEdb: Gradient of the loss with respect to the bias.\n",
        "    \"\"\"\n",
        "    dEdx = np.dot(dEdy, W.T)\n",
        "    dEdW = np.dot(x.T, dEdy)\n",
        "    dEdb = np.sum(dEdy, axis=0)\n",
        "    return dEdx, dEdW, dEdb\n",
        "\n",
        "def Softmax_ForProp(x):\n",
        "    \"\"\"\n",
        "    Computes the forward pass for a softmax layer.\n",
        "\n",
        "    Args:\n",
        "        x: Input to the layer.\n",
        "\n",
        "    Returns:\n",
        "        The output probabilities of the softmax layer.\n",
        "    \"\"\"\n",
        "    # Subtract the maximum value for numerical stability\n",
        "    exp_x = np.exp(x - np.max(x, axis=1, keepdims=True))\n",
        "    y = exp_x / np.sum(exp_x, axis=1, keepdims=True)\n",
        "    return y\n",
        "\n",
        "def Softmax_BackProp(y,t):\n",
        "    \"\"\"\n",
        "    Computes the backward pass for a softmax layer with cross-entropy loss.\n",
        "\n",
        "    Args:\n",
        "        y: Predicted output probabilities.\n",
        "        t: True labels (one-hot encoded).\n",
        "\n",
        "    Returns:\n",
        "        dEdx: Gradient of the loss with respect to the input.\n",
        "    \"\"\"\n",
        "    dEdx = y - t\n",
        "    return dEdx\n",
        "\n",
        "def Sigmoid_ForProp(x):\n",
        "    \"\"\"\n",
        "    Computes the forward pass for a sigmoid activation function.\n",
        "\n",
        "    Args:\n",
        "        x: Input to the activation function.\n",
        "\n",
        "    Returns:\n",
        "        The output of the sigmoid activation function.\n",
        "    \"\"\"\n",
        "    y = 1 / (1 + np.exp(-x))\n",
        "    return y\n",
        "\n",
        "def Sigmoid_BackProp(dEdy,x):\n",
        "    \"\"\"\n",
        "    Computes the backward pass for a sigmoid activation function.\n",
        "\n",
        "    Args:\n",
        "        dEdy: Gradient of the loss with respect to the output.\n",
        "        x: Input to the activation function.\n",
        "\n",
        "    Returns:\n",
        "        dEdx: Gradient of the loss with respect to the input.\n",
        "    \"\"\"\n",
        "    sigmoid_output = Sigmoid_ForProp(x)\n",
        "    dEdx = dEdy * sigmoid_output * (1 - sigmoid_output)\n",
        "    return dEdx\n",
        "\n",
        "def Rectified_ForProp(x):\n",
        "    \"\"\"\n",
        "    Computes the forward pass for a Rectified Linear Unit (ReLU) activation function.\n",
        "\n",
        "    Args:\n",
        "        x: Input to the activation function.\n",
        "\n",
        "    Returns:\n",
        "        The output of the ReLU activation function.\n",
        "    \"\"\"\n",
        "    y = np.maximum(0, x)\n",
        "    return y\n",
        "\n",
        "def Rectified_BackProp(dEdy,x):\n",
        "    \"\"\"\n",
        "    Computes the backward pass for a Rectified Linear Unit (ReLU) activation function.\n",
        "\n",
        "    Args:\n",
        "        dEdy: Gradient of the loss with respect to the output.\n",
        "        x: Input to the activation function.\n",
        "\n",
        "    Returns:\n",
        "        dEdx: Gradient of the loss with respect to the input.\n",
        "    \"\"\"\n",
        "    dEdx = dEdy * (x > 0)\n",
        "    return dEdx\n",
        "\n",
        "# you can also create your own class which includes each layer"
      ],
      "metadata": {
        "id": "v164Rtl4vDN9"
      },
      "execution_count": 6,
      "outputs": []
    },
    {
      "cell_type": "code",
      "source": [
        "# Initialize the model\n",
        "input_size = image_pixels\n",
        "hidden_size = 128\n",
        "hidden_size2 = 64\n",
        "output_size = no_of_different_labels\n",
        "learning_rate = 0.01\n",
        "iteration = 100\n",
        "batch_size = 128\n",
        "\n",
        "# Initialize weights and bias\n",
        "W1 = np.random.randn(input_size, hidden_size) * np.sqrt(1. / input_size)\n",
        "b1 = np.zeros((1, hidden_size))\n",
        "W2 = np.random.randn(hidden_size, hidden_size2) * np.sqrt(1. / hidden_size)\n",
        "b2 = np.zeros((1, hidden_size2))\n",
        "W3 = np.random.randn(hidden_size2, output_size) * np.sqrt(1. / hidden_size2)\n",
        "b3 = np.zeros((1, output_size))\n",
        "\n",
        "# record accuracy and loss\n",
        "train_accuracy_list = []\n",
        "val_accuracy_list = []\n",
        "train_loss_list = []\n",
        "val_loss_list = []"
      ],
      "metadata": {
        "id": "_qUMAPxGzCHN"
      },
      "execution_count": 12,
      "outputs": []
    },
    {
      "cell_type": "code",
      "source": [
        "# NN Functions definition\n",
        "def forward_propagation(x, W1, b1, W2, b2, W3, b3):\n",
        "    z1 = InnerProduct_ForProp(x, W1, b1)\n",
        "    a1 = Rectified_ForProp(z1)\n",
        "    z2 = InnerProduct_ForProp(a1, W2, b2)\n",
        "    a2 = Sigmoid_ForProp(z2)\n",
        "    z3 = InnerProduct_ForProp(a2, W3, b3)\n",
        "    a3 = Softmax_ForProp(z3)\n",
        "    return z1, a1, z2, a2, z3, a3\n",
        "\n",
        "def backward_propagation(x, t, z1, a1, z2, a2, z3, a3, W1, b1, W2, b2, W3, b3):\n",
        "    dEdy = Softmax_BackProp(a3, t)\n",
        "    dEdz3, dEdW3, dEdb3 = InnerProduct_BackProp(dEdy, a2, W3, b3)\n",
        "    dEda2 = Sigmoid_BackProp(dEdz3, z2)\n",
        "    dEdz2, dEdW2, dEdb2 = InnerProduct_BackProp(dEda2, a1, W2, b2)\n",
        "    dEda1 = Rectified_BackProp(dEdz2, z1)\n",
        "    dEdx, dEdW1, dEdb1 = InnerProduct_BackProp(dEda1, x, W1, b1)\n",
        "    return dEdW1, dEdb1, dEdW2, dEdb2, dEdW3, dEdb3\n",
        "\n",
        "def update_weights(W1, b1, W2, b2, W3, b3, dEdW1, dEdb1, dEdW2, dEdb2, dEdW3, dEdb3, learning_rate):\n",
        "    W1 -= learning_rate * dEdW1\n",
        "    b1 -= learning_rate * dEdb1\n",
        "    W2 -= learning_rate * dEdW2\n",
        "    b2 -= learning_rate * dEdb2\n",
        "    W3 -= learning_rate * dEdW3\n",
        "    b3 -= learning_rate * dEdb3\n",
        "    return W1, b1, W2, b2, W3, b3\n",
        "\n",
        "def cross_entropy_loss(z3, t):\n",
        "    N = z3.shape[0]\n",
        "    z3_max = np.max(z3, axis=1, keepdims=True)\n",
        "    log_sum_exp = z3_max + np.log(np.sum(np.exp(z3 - z3_max), axis=1, keepdims=True))\n",
        "    loss = -np.sum(t * (z3 - log_sum_exp)) / N\n",
        "    return loss\n",
        "\n",
        "def compute_accuracy(a3, t):\n",
        "    predicted_labels = np.argmax(a3, axis=1)\n",
        "    true_labels = np.argmax(t, axis=1)\n",
        "    accuracy = np.mean(predicted_labels == true_labels)\n",
        "    return accuracy"
      ],
      "metadata": {
        "id": "6u4vKjps4USI"
      },
      "execution_count": 13,
      "outputs": []
    },
    {
      "cell_type": "code",
      "source": [
        "for i in range(iteration):\n",
        "    # Initialize epoch loss and accuracy\n",
        "    epoch_train_loss = 0.0\n",
        "    epoch_train_accuracy = 0.0\n",
        "    num_batches = 0\n",
        "\n",
        "    for batch_start in range(0, len(train_imgs_manual), batch_size):\n",
        "        batch_end = min(batch_start + batch_size, len(train_imgs_manual))\n",
        "        batch_imgs = train_imgs_manual[batch_start:batch_end]\n",
        "        batch_labels = train_labels_one_hot_manual[batch_start:batch_end]\n",
        "\n",
        "        # Forward-propagation\n",
        "        z1, a1, z2, a2, z3, a3 = forward_propagation(batch_imgs, W1, b1, W2, b2, W3, b3)\n",
        "\n",
        "        # compute training accuracy\n",
        "        batch_loss = cross_entropy_loss(z3, batch_labels)\n",
        "        batch_accuracy = compute_accuracy(a3, batch_labels)\n",
        "\n",
        "        epoch_train_loss += batch_loss * (batch_end - batch_start)\n",
        "        epoch_train_accuracy += batch_accuracy * (batch_end - batch_start)\n",
        "        num_batches += (batch_end - batch_start)\n",
        "\n",
        "        # Backward-propagation\n",
        "        dEdW1, dEdb1, dEdW2, dEdb2, dEdW3, dEdb3 = backward_propagation(\n",
        "            batch_imgs, batch_labels,\n",
        "            z1, a1, z2, a2, z3, a3, W1, b1, W2, b2, W3, b3\n",
        "        )\n",
        "\n",
        "        # Parameter Updating (Gradient decent)\n",
        "        W1, b1, W2, b2, W3, b3 = update_weights(\n",
        "            W1, b1, W2, b2, W3, b3,\n",
        "            dEdW1, dEdb1, dEdW2, dEdb2, dEdW3, dEdb3,\n",
        "            learning_rate\n",
        "        )\n",
        "\n",
        "    # Update average epoch loss and accuracy\n",
        "    epoch_train_loss /= num_batches\n",
        "    epoch_train_accuracy /= num_batches\n",
        "\n",
        "    # Use validation data to evaluate model\n",
        "    z1_val, a1_val, z2_val, a2_val, z3_val, a3_val = forward_propagation(\n",
        "        val_imgs_manual, W1, b1, W2, b2, W3, b3\n",
        "    )\n",
        "\n",
        "    # compute validation accuracy\n",
        "    val_accuracy = compute_accuracy(a3_val, val_labels_one_hot_manual)\n",
        "    val_loss = cross_entropy_loss(z3_val, val_labels_one_hot_manual)\n",
        "\n",
        "    if i%10 == 0:\n",
        "      # record data\n",
        "      train_accuracy_list.append(epoch_train_accuracy)\n",
        "      val_accuracy_list.append(val_accuracy)\n",
        "      train_loss_list.append(epoch_train_loss)\n",
        "      val_loss_list.append(val_loss)\n",
        "\n",
        "      print(f\"Epoch {i+1}: Training Loss = {epoch_train_loss:.4f}, Training Accuracy = {epoch_train_accuracy:.4f}, Validation Accuracy = {val_accuracy:.4f}\")\n"
      ],
      "metadata": {
        "id": "jMLeRKqdvJ88",
        "colab": {
          "base_uri": "https://localhost:8080/"
        },
        "outputId": "b76ec102-93d5-4ef9-c057-5ce97a35d65f"
      },
      "execution_count": 14,
      "outputs": [
        {
          "output_type": "stream",
          "name": "stdout",
          "text": [
            "Epoch 1: Training Loss = 0.4596, Training Accuracy = 0.8544, Validation Accuracy = 0.9373\n",
            "Epoch 11: Training Loss = 0.0117, Training Accuracy = 0.9981, Validation Accuracy = 0.9763\n",
            "Epoch 21: Training Loss = 0.0016, Training Accuracy = 1.0000, Validation Accuracy = 0.9792\n",
            "Epoch 31: Training Loss = 0.0007, Training Accuracy = 1.0000, Validation Accuracy = 0.9794\n",
            "Epoch 41: Training Loss = 0.0004, Training Accuracy = 1.0000, Validation Accuracy = 0.9792\n",
            "Epoch 51: Training Loss = 0.0003, Training Accuracy = 1.0000, Validation Accuracy = 0.9792\n",
            "Epoch 61: Training Loss = 0.0002, Training Accuracy = 1.0000, Validation Accuracy = 0.9790\n",
            "Epoch 71: Training Loss = 0.0002, Training Accuracy = 1.0000, Validation Accuracy = 0.9791\n",
            "Epoch 81: Training Loss = 0.0002, Training Accuracy = 1.0000, Validation Accuracy = 0.9792\n",
            "Epoch 91: Training Loss = 0.0001, Training Accuracy = 1.0000, Validation Accuracy = 0.9792\n"
          ]
        }
      ]
    },
    {
      "cell_type": "code",
      "source": [
        "# Using test_images and test_labels to do the final test\n",
        "test_z1, test_a1, test_z2, test_a2, test_z3, test_a3 = forward_propagation(\n",
        "    test_imgs, W1, b1, W2, b2, W3, b3\n",
        ")\n",
        "test_accuracy = compute_accuracy(test_a3, test_labels_one_hot)\n",
        "print(f\"Test Accuracy: {test_accuracy:.4f}\")"
      ],
      "metadata": {
        "id": "YkIarEYOsNIL",
        "colab": {
          "base_uri": "https://localhost:8080/"
        },
        "outputId": "57979f3a-7a0f-4e9a-b6b8-ff8e19a9c632"
      },
      "execution_count": 15,
      "outputs": [
        {
          "output_type": "stream",
          "name": "stdout",
          "text": [
            "Test Accuracy: 0.9810\n"
          ]
        }
      ]
    },
    {
      "cell_type": "code",
      "source": [
        "# plot accuracy and loss curves\n",
        "plt.figure(figsize=(12, 4))\n",
        "\n",
        "plt.subplot(1, 2, 1)\n",
        "plt.plot(list(range(1, iteration + 1, 10)), train_accuracy_list, label='Training Accuracy')\n",
        "plt.plot(list(range(1, iteration + 1, 10)), val_accuracy_list, label='Validation Accuracy')\n",
        "plt.xlabel('Epoch')\n",
        "plt.ylabel('Accuracy')\n",
        "plt.title('Accuracy vs. Epoch')\n",
        "plt.legend()\n",
        "plt.grid(True)\n",
        "\n",
        "plt.subplot(1, 2, 2)\n",
        "plt.plot(list(range(1, iteration + 1, 10)), train_loss_list, label='Training Loss')\n",
        "plt.plot(list(range(1, iteration + 1, 10)), val_loss_list, label='Validation Loss')\n",
        "plt.xlabel('Epoch')\n",
        "plt.ylabel('Loss')\n",
        "plt.title('Loss vs. Epoch')\n",
        "plt.legend()\n",
        "plt.grid(True)\n",
        "\n",
        "plt.tight_layout()\n",
        "plt.show()"
      ],
      "metadata": {
        "id": "83d2qq4oCvy6",
        "colab": {
          "base_uri": "https://localhost:8080/",
          "height": 407
        },
        "outputId": "fd3bc400-4e3b-4ff5-fd80-752e3f8aebf5"
      },
      "execution_count": 16,
      "outputs": [
        {
          "output_type": "display_data",
          "data": {
            "text/plain": [
              "<Figure size 1200x400 with 2 Axes>"
            ],
            "image/png": "[encoded data removed]"
          },
          "metadata": {}
        }
      ]
    }
  ]
}